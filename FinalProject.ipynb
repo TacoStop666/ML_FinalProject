{
 "cells": [
  {
   "cell_type": "markdown",
   "metadata": {
    "id": "egBMMLGV_X_x"
   },
   "source": [
    "### Import Packages\n"
   ]
  },
  {
   "cell_type": "code",
   "execution_count": 19,
   "metadata": {
    "executionInfo": {
     "elapsed": 589,
     "status": "ok",
     "timestamp": 1727179517871,
     "user": {
      "displayName": "張瑜庭",
      "userId": "02186097122319016792"
     },
     "user_tz": -480
    },
    "id": "WhhUTua487C-"
   },
   "outputs": [],
   "source": [
    "import numpy as np\n",
    "import matplotlib.pyplot as plt\n",
    "import pandas as pd\n",
    "import csv\n",
    "import math\n",
    "import random"
   ]
  },
  {
   "cell_type": "markdown",
   "metadata": {
    "id": "8iuXHvhLALwz"
   },
   "source": [
    "### Global attributes"
   ]
  },
  {
   "cell_type": "code",
   "execution_count": 137,
   "metadata": {
    "executionInfo": {
     "elapsed": 4,
     "status": "ok",
     "timestamp": 1727179518371,
     "user": {
      "displayName": "張瑜庭",
      "userId": "02186097122319016792"
     },
     "user_tz": -480
    },
    "id": "wXZVhdp8-flF"
   },
   "outputs": [],
   "source": [
    "training_dataroot = 'processed_data_weekday.csv'\n",
    "testing_dataroot = 'processed_data_weekday_test.csv'\n",
    "output_dataroot = 'lab1_basic.csv' \n",
    "\n",
    "training_datalist =  [] \n",
    "# testing_datalist =  [] # Testing datalist, saved as numpy array\n",
    "\n",
    "output_datalist =  [] "
   ]
  },
  {
   "cell_type": "code",
   "execution_count": 136,
   "metadata": {},
   "outputs": [
    {
     "name": "stdout",
     "output_type": "stream",
     "text": [
      "      Post Index  followers         upload time  Like Count  Comment Count  \\\n",
      "0              0    1539000 2024-11-18 09:42:12    336000.0            276   \n",
      "1              1    4647000 2024-11-22 08:34:18    769000.0            114   \n",
      "2              2    1113000 2024-11-23 14:50:50     85000.0            152   \n",
      "3              3     221000 2024-11-22 11:38:19     31000.0            183   \n",
      "4              4    9111000 2024-11-22 10:02:55    435000.0            157   \n",
      "...          ...        ...                 ...         ...            ...   \n",
      "3177         963      60000 2024-11-25 00:28:51         2.0              2   \n",
      "3178         964     173000 2024-10-04 13:10:35     15000.0             29   \n",
      "3179         965      28000 2024-11-08 15:29:04      6447.0             28   \n",
      "3180         966      40000 2024-11-14 08:47:15     10000.0              3   \n",
      "3181         967     159000 2024-11-13 10:32:49      2385.0              6   \n",
      "\n",
      "      is Photo  is Video                                            hashtag  \\\n",
      "0            0         1                                        no hashtage   \n",
      "1            1         0                                        no hashtage   \n",
      "2            1         0                                        no hashtage   \n",
      "3            1         0                                        no hashtage   \n",
      "4            1         0  Mtvema ,Le_sserasefim ,Le Cerapim ,KIMCHAEWON ...   \n",
      "...        ...       ...                                                ...   \n",
      "3177         0         1  Brother J is good ,Genetic coffee ,coffeegenes...   \n",
      "3178         0         1  baseball ,baseballlife ,Baseballmom ,baseballs...   \n",
      "3179         1         0  CPBL ,Chinese professional stick ,baseball ,ba...   \n",
      "3180         1         0                                        no hashtage   \n",
      "3181         1         0            World Top 12 Baseball Games ,Sports 1 '   \n",
      "\n",
      "              Pic Description  days_diff  hashtag_count  have_error  is_empty  \\\n",
      "0                         NaN         13              1       False      True   \n",
      "1                         NaN          9              1       False      True   \n",
      "2                      文字的圖像.          8              1       False      True   \n",
      "3         1 人、毛髮、美妝、微笑和文字的特寫.          9              1       False      True   \n",
      "4        1 人、上衣、迷你裙、洋裝和胸罩的圖像.          9              5       False     False   \n",
      "...                       ...        ...            ...         ...       ...   \n",
      "3177                      NaN          6             12       False     False   \n",
      "3178                      NaN         58             25       False     False   \n",
      "3179       2 個人、大家在打棒球和文字的圖像.         23             13        True     False   \n",
      "3180      1 人、打棒球、運動用品和文字的圖像.         17              1       False      True   \n",
      "3181  1 人、正在擊球、大水壺、體育場和文字的圖像.         18              2       False     False   \n",
      "\n",
      "      day_0  day_1  day_2  day_3  day_4  day_5  day_6  \n",
      "0      True  False  False  False  False  False  False  \n",
      "1     False  False  False  False   True  False  False  \n",
      "2     False  False  False  False  False   True  False  \n",
      "3     False  False  False  False   True  False  False  \n",
      "4     False  False  False  False   True  False  False  \n",
      "...     ...    ...    ...    ...    ...    ...    ...  \n",
      "3177   True  False  False  False  False  False  False  \n",
      "3178  False  False  False  False   True  False  False  \n",
      "3179  False  False  False  False   True  False  False  \n",
      "3180  False  False  False   True  False  False  False  \n",
      "3181  False  False   True  False  False  False  False  \n",
      "\n",
      "[3182 rows x 20 columns]\n"
     ]
    }
   ],
   "source": [
    "import pandas as pd\n",
    "\n",
    "# 假設你的數據存儲在一個CSV文件中\n",
    "df = pd.read_csv(testing_dataroot)\n",
    "\n",
    "# 轉換 upload time 為 datetime 類型\n",
    "df['upload time'] = pd.to_datetime(df['upload time'])\n",
    "\n",
    "# 提取星期幾\n",
    "df['day_of_week'] = df['upload time'].dt.dayofweek\n",
    "\n",
    "# 進行 One-Hot 編碼\n",
    "df = pd.get_dummies(df, columns=['day_of_week'], prefix='day')\n",
    "\n",
    "# 計算 hash tag 數量\n",
    "df['hashtag_count'] = df['hashtag'].apply(lambda x: len(str(x).split(',')) if pd.notnull(x) else 0)\n",
    "\n",
    "# 將處理後的數據保存到新的CSV文件\n",
    "df.to_csv('processed_data_weekday_test.csv', index=False)\n",
    "\n",
    "print(df)\n"
   ]
  },
  {
   "cell_type": "markdown",
   "metadata": {
    "id": "IyTqIRxQAtWj"
   },
   "source": [
    "### Load the Input File"
   ]
  },
  {
   "cell_type": "code",
   "execution_count": 118,
   "metadata": {
    "executionInfo": {
     "elapsed": 4,
     "status": "ok",
     "timestamp": 1727179518371,
     "user": {
      "displayName": "張瑜庭",
      "userId": "02186097122319016792"
     },
     "user_tz": -480
    },
    "id": "KUzYjoq9AwRp"
   },
   "outputs": [],
   "source": [
    "# Read input csv to datalist\n",
    "with open(training_dataroot, newline='') as csvfile:\n",
    "  training_datalist = pd.read_csv(training_dataroot)\n",
    "  training_datalist=training_datalist[training_datalist['is Photo'] == 1]\n",
    "\n",
    "# with open(testing_dataroot, newline='') as csvfile:\n",
    "#   testing_datalist = pd.read_csv(testing_dataroot).to_numpy()"
   ]
  },
  {
   "cell_type": "code",
   "execution_count": 5,
   "metadata": {},
   "outputs": [
    {
     "name": "stdout",
     "output_type": "stream",
     "text": [
      "[\"polarbear ,icecream ,aiart ,artcommunity ,cub ,cutebear ,art ,polar ,arctic ,ice-cream'\"\n",
      " \"Crispy fried chicken chop ,Crispy fried shrimp ,Hualien ,Hualien City ,Hualien Food ,Hualien Simple ,Hualien lunch ,Hualien Dinner ,Eat Hualien with great heart ,Picnic picnic ,Pine garden annex ,gourmet food ,Ingredients'\"\n",
      " \"Cause ,Stalk ,Oblinter stalk ,Mag ,memes ,Sharing ,joke ,Sneer ,funny ,Funny movie ,Humorous quotation ,change ,Lu Guangzhong ,singer ,muscle ,fitness'\"\n",
      " ... \"Soda ,sodagreen ,Soda ,sodagreen ,20thAnniversaryConcertTour'\"\n",
      " \"Black and white chef '\" 'no hashtage']\n"
     ]
    }
   ],
   "source": [
    "print(training_datalist[:,7])"
   ]
  },
  {
   "cell_type": "markdown",
   "metadata": {
    "id": "QFXG-axpAcom"
   },
   "source": [
    "### Implement the Regression Model"
   ]
  },
  {
   "cell_type": "code",
   "execution_count": 119,
   "metadata": {},
   "outputs": [],
   "source": [
    "import numpy as np\n",
    "\n",
    "# 假設 x_train 是你的數據\n",
    "# 這裡以第一列為例\n",
    "data = training_datalist[[\"followers\", \"is Photo\" ,\"Like Count\"]].to_numpy()[:, 0]\n",
    "\n",
    "# 計算第一四分位數和第三四分位數\n",
    "Q1 = np.percentile(data, 25)\n",
    "Q3 = np.percentile(data, 75)\n",
    "IQR = Q3 - Q1\n",
    "\n",
    "# 定義異常值範圍\n",
    "lower_bound = Q1 - 1.5 * IQR\n",
    "upper_bound = Q3 + 1.5 * IQR\n",
    "\n",
    "# 篩掉異常值\n",
    "filtered_indices = np.where((data >= lower_bound) & (data <= upper_bound))\n",
    "filtered_data = training_datalist.to_numpy()[filtered_indices]\n",
    "\n",
    "\n"
   ]
  },
  {
   "cell_type": "markdown",
   "metadata": {},
   "source": [
    "### Process Hashtag"
   ]
  },
  {
   "cell_type": "code",
   "execution_count": 120,
   "metadata": {},
   "outputs": [
    {
     "name": "stderr",
     "output_type": "stream",
     "text": [
      "[nltk_data] Downloading package stopwords to\n",
      "[nltk_data]     C:\\Users\\sammy\\AppData\\Roaming\\nltk_data...\n",
      "[nltk_data]   Package stopwords is already up-to-date!\n",
      "C:\\Users\\sammy\\AppData\\Local\\Packages\\PythonSoftwareFoundation.Python.3.11_qbz5n2kfra8p0\\LocalCache\\local-packages\\Python311\\site-packages\\sklearn\\feature_extraction\\text.py:521: UserWarning: The parameter 'token_pattern' will not be used since 'tokenizer' is not None'\n",
      "  warnings.warn(\n"
     ]
    },
    {
     "name": "stdout",
     "output_type": "stream",
     "text": [
      "[vocabulary]\n",
      "{'caus': 697, 'stalk': 4045, 'oblint': 3165, 'mag': 2577, 'meme': 2724, 'share': 3827, 'joke': 2129, 'sneer': 3942, 'funni': 1491, 'movi': 2929, 'humor': 1878, 'quotat': 3512, 'chang': 721, 'lu': 2546, 'guangzhong': 1673, 'singer': 3898, 'muscl': 2945, 'fit': 1412, 'hashtag': 1772, 'lowiq01': 2542, 'lowiq01andtherhythmmakersplu': 2543, 'challeng': 713, 'hibiya': 1812, 'outdoor': 3232, 'music': 2947, 'hall': 1727, 'ichikawa': 1908, 'entertain': 1261, 'bikost': 429, 'mannahero': 2640, 'tabl': 4185, 'bkmn': 445, 'bikosmanna': 428, 'educ': 1211, 'thisisvanlif': 4295, 'vanlifeproject': 4493, 'vanlif': 4486, 'vanlifestyl': 4495, 'vanlifediari': 4488, 'vanconvers': 4484, 'vanlifemov': 4492, 'sprintervanconvers': 4034, 'lifecom': 2431, 'sprintervan': 4033, 'sprinterconvers': 4032, 'sprintervanlif': 4035, 'vanbuild': 4482, 'vanlifeeurop': 4489, 'campervan': 636, 'enfurgomolam': 1248, 'houseonwheel': 1860, 'kitchenidea': 2240, 'greenkitchen': 1649, 'tinyhous': 4323, 'smallkitchen': 3932, 'smallbathroom': 3929, 'interior': 2004, 'male': 2604, 'word': 4694, 'leav': 2385, 'soul': 3993, 'road': 3640, 'append': 164, 'street': 4102, 'haveagoodnight': 1775, 'ootd': 3207, 'dailylook': 999, 'daili': 995, 'japanes': 2066, 'wear': 4598, 'diari': 1080, 'women': 4683, 'cloth': 834, 'kesfetplatform01': 2203, 'medyeklam01': 2710, 'a101ganmet': 1, 'bimaktuel': 433, 'indyriml': 1957, 'duatia': 1179, 'socialmedia': 3949, 'domest': 1135, 'wed': 4606, 'design': 1064, 'food': 1444, 'annebebek': 147, 'canimoglum': 643, 'skint': 3912, 'skin': 3910, 'bodrum': 520, 'foça': 1466, 'selcuk': 3785, 'shoe': 3851, 'yazar': 4758, 'masahiro': 2676, 'umeda': 4436, 'mariko': 2651, 'akama': 75, 'yoshida': 4793, 'einen': 1218, 'keisuk': 2193, 'nishito': 3103, 'yu': 4807, 'ogawa': 3180, 'shigeru': 3841, 'osako': 3223, 'tomohiro': 4343, 'ikeda': 1934, 'sannanoichi': 3719, 'ryotaro': 3691, 'kawaguchi': 2182, 'nishiyama': 3104, 'yoshiro': 4794, 'yuki': 4814, 'komasui': 2261, 'aputur': 172, 'babe': 292, 'nishitaka': 3102, 'life': 2430, 'actor': 29, 'short': 3861, 'film': 1398, 'koneko': 2262, 'sellstagram': 3795, 'selfi': 3789, 'photodump': 3316, 'prfm': 3456, 'otheryouphotographi': 3227, 'ahmedabad_instagram': 66, 'kutch': 2291, 'gujarat': 1685, 'cure': 967, 'ahmedabad': 65, 'gunjant': 1697, 'pass': 3275, 'gujujutut': 1694, 'gujugotada': 1692, 'say': 3731, 'guju': 1691, 'gujaratiwed': 1686, 'gujurock': 1695, 'kathiawadi': 2180, 'gujjugram': 1688, 'trandez_f_kerla1': 4366, 'chel': 744, 'cabilo': 614, 'gujjujalaso': 1689, 'navasari': 3036, 'freak_of_kerala': 1471, 'mehsana': 2716, 'bhuro': 411, 'shout': 3866, 'shoutout': 3867, 'botad': 539, 'gujujalso': 1693, 'gappa': 1516, 'mincess': 2770, 'gujjogram': 1687, 'tg': 4259, 'gujjujalso': 1690, 'navsari': 3039, 'stubborn': 4118, 'chen': 746, 'peixian': 3292, 'jesslyn': 2096, 'rong': 3664, 'ayu': 287, 'charact': 727, 'valv': 4480, 'jumpermedia': 2142, 'jumpergrowthhack': 2141, 'socialmediatip': 3952, 'followergrowth': 1440, 'tiktokif': 4311, 'instagramstrategi': 1990, 'socialmediatrend': 3953, 'digitalmarket': 1088, 'contentcr': 891, 'reelsmarket': 3579, 'socialmediaevolut': 3950, 'influencermarket': 1964, 'brandstrategi': 551, 'videomarket': 4517, 'socialmediainsight': 3951, 'friend': 1477, 'cover': 929, 'bar': 315, 'taipei': 4195, 'cultur': 963, 'prototyp': 3474, 'nutrit': 3148, 'drink': 1172, 'dinner': 1094, 'diabet': 1078, 'blood': 498, 'sugar': 4136, 'calori': 628, 'diet': 1082, 'nourish': 3133, 'breakfast': 555, 'taichung': 4192, 'parent': 3263, 'bodi': 519, 'sculptur': 3757, 'v': 4475, 'point': 3379, 'numberless': 3147, 'zhouhei': 4852, 'handa': 1745, 'hiroyuki': 1825, 'mino': 2816, 'moe': 2867, 'hirao': 1823, 'ai': 69, 'world': 4700, 'new': 3064, 'featur': 1370, 'song': 3977, 'list': 2479, 'onlin': 3201, 'feed': 1371, 'inspir': 1976, 'made': 2572, 'smarter': 3936, 'day6': 1029, 'day': 1028, 'six': 3903, 'day6_3rd_worldtour': 1030, 'forever_young': 1456, 'livenationtaiwan': 2487, 'motiv': 2923, 'teamalpha': 4229, 'alphamov': 95, 'believeinyourself': 385, 'fitnessinspir': 1416, 'inspireoth': 1977, 'gyminspir': 1706, 'gymlif': 1707, 'gymmotiv': 1708, 'gymgain': 1705, 'workoutmotiv': 4697, 'weighttrain': 4611, 'weightlift': 4610, 'fitfam': 1413, 'companion': 870, 'gym': 1703, 'musclebuild': 2946, 'leanmuscl': 2382, 'influenc': 1963, 'posit': 3420, 'alwaysgood': 101, 'overwind': 3242, 'alway': 100, 'best': 395, 'wild': 4659, 'driftwoman': 1171, 'robot': 3650, 'creat': 946, 'event': 1292, 'landmark': 2343, 'camp': 631, 'packag': 3244, 'line': 2456, 'form': 1459, 'physic': 3328, 'ticket': 4304, 'sale': 3711, 'coastar': 839, 'hello': 1799, 'hourjunglecafé': 1856, 'yuanchuan': 4808, 'user': 4468, 'quantiti': 3505, 'open': 3208, 'yet': 4769, 'chold': 772, 'kishidan': 2232, 'expo': 1317, 'winn': 4667, 'suprem': 4165, 'stayreal': 4073, 'timberland': 4314, 'aoyama': 159, 'stage': 4042, 'west': 4627, 'china': 762, 'straight': 4091, 'end': 1242, 'market': 2652, 'urban': 4460, 'walk': 4566, 'million': 2767, 'huazhuo': 1867, 'hip': 1822, 'hop': 1851, 'roarnowbik': 3646, 'wan': 4568, 'hu': 1865, 'yang': 4752, 'jingxiang': 2114, 'zhan': 4841, 'jie': 2107, 'thank': 4260, 'watch': 4587, 'show': 3870, 'fan': 1348, 'brush': 579, 'infinit': 1960, 'give': 1580, 'mani': 2637, 'support': 4163, 'wumu': 4716, 'univers': 4451, 'eminentluggag': 1235, 'emin': 1234, 'guo': 1698, 'tong': 4344, 'kk74': 2251, 'funload': 1490, 'samurai': 3715, 'mapl': 2648, 'poster': 3424, 'ell': 1230, 'live': 2484, 'circl': 812, 'elletaiwan': 1232, 'mcdonald': 2697, 'thick': 4287, 'bulletbuba': 598, 'muffin': 2938, 'burger': 602, 'vulgar': 4558, 'hiro': 1824, 'honghong': 1845, 'second': 3773, 'five': 1420, 'shine': 3844, 'bloom': 500, 'public': 3477, 'interest': 2003, 'korean': 2267, 'artisan': 226, 'zhao': 4844, 'juanzhou': 2137, 'la': 2297, 'team': 4228, 'sacrific': 3700, 'emergefest': 1233, 'appear': 163, 'jerusalem': 2094, 'adventur': 46, 'park': 3265, 'hush': 1882, 'zoo': 4856, 'nail': 2974, 'hous': 1857, 'hue': 1869, 'helsinki': 1801, 'lambda': 2337, 'club': 836, 'mindbodi': 2772, 'groundsfootwear': 1657, 'tizzybac25th': 4330, 'sharehold': 3828, 'meet': 2711, 'listen': 2480, 'railway': 3526, 'limit': 2453, 'solut': 3972, 'thesolut': 4282, 'grand': 1637, 'mint': 2819, 'festiv': 1387, 'pinkwibu': 3353, 'colorpop': 855, 'inmyl': 1973, 'sassystyl': 3725, 'contentcreatorlif': 892, 'streetstyl': 4112, 'aestheticvib': 52, 'modellifestyl': 2864, 'boldandbright': 526, 'before_thia': 374, 'winterfeel': 4670, 'feelinggood': 1374, 'kissememor': 2234, 'summervib': 4141, 'partyvib': 3274, 'warm': 4583, 'mood': 2902, 'ugc': 4430, 'ugccreat': 4431, 'summer': 4140, 'winter': 4669, 'commercialmodel': 867, 'skirt': 3913, 'coat': 840, 'kataman_majasi': 2179, 'long': 2504, 'dress': 1168, 'set_ilda': 3815, 'plase': 3363, 'coat_stan': 841, 'stylish': 4130, 'tainan': 4193, 'take': 4200, 'transport': 4369, 'draw': 1162, 'towel': 4359, 'free': 1472, 'admiss': 38, 'rock': 3651, 'rockintaichung': 3652, 'livejapan': 2485, 'likejapan_': 2443, 'editor': 1209, 'depart': 1060, 'momoka': 2876, 'kitano': 2237, 'drama': 1159, 'luci': 2549, 'choi': 770, 'sang': 3717, 'yeop': 4767, 'wendi': 4623, 'young': 4796, 'xlarg': 4737, 'xlargejp': 4739, 'xlarge_snap': 4738, 'xlargeumeda': 4740, 'hepfiv': 1802, 'outfit': 3237, 'outfitinspir': 3239, 'outfitidea': 3238, 'coordin': 898, 'style': 4128, 'video': 4515, 'hong': 1844, 'kong': 2263, 'weixi': 4612, 'loy': 2544, 'thousand': 4300, 'peopl': 3294, 'cola': 847, 'tour': 4358, 'ding': 1091, 'che': 737, 'pato': 3279, 'harold': 1769, 'stone': 4085, 'beck': 368, 'theband': 4267, 'ififel': 1919, 'advertis': 49, 'fila': 1396, 'pad': 3247, 'filaflow': 1397, 'recommend': 3565, 'han': 1742, 'hee': 1794, 'win': 4664, 'a101aktüel': 0, 'actual': 31, 'denebunom': 1058, 'shock': 3850, 'health': 1786, 'poem': 3376, 'poetri': 3377, 'write': 4710, 'bikahv': 426, 'spice': 4008, 'furnitur': 1495, 'mum': 2940, 'figur': 1395, 'balconi': 306, 'inmyel': 1971, 'mobilya': 2860, 'iif': 1933, 'visit': 4530, 'store': 4087, 'pinkvib': 3352, 'kissmemor': 2235, 'littl': 2482, 'potato': 3428, 'xiaobian': 4724, 'topick': 4350, 'healthi': 1787, 'galaxi': 1510, 'atrophi': 258, 'side': 3883, 'custodi': 973, 'rare': 3538, 'diseas': 1105, 'berlin': 392, 'premier': 3447, 'vanlifebuild': 4487, 'tinyhom': 4322, 'vanclan': 4483, 'camperconvers': 635, 'rvlife': 3687, 'camper': 634, 'vanlifeidea': 4490, 'builtnotbought': 597, 'livingvanlif': 2489, 'sprinter': 4030, 'vanlifevir': 4496, 'packthevan': 3246, 'projectvanlif': 3472, 'carpentri': 666, 'vandesign': 4485, 'smallspac': 3935, 'vwcrafter': 4559, 'vanliferul': 4494, 'soda': 3956, 'sodagreen': 3957, 'green': 1648, 'twenti': 4413, 'year': 4760, 'moment': 2875, 'concert': 876, 'tetsuko': 4252, 'whimsic': 4639, 'tv': 4408, 'room': 3668, 'nebula': 3051, 'romanc': 3659, 'part': 3271, 'band': 310, 'christma': 779, 'ktv': 2284, 'singl': 3899, 'stream': 4101, 'whocar': 4644, 'zepp': 4831, 'specialti': 4007, 'accumul': 23, 'kaier': 2165, 'place': 3358, 'kohataiwan': 2260, 'cool': 897, 'kaha': 2163, 'tide': 4305, 'magazin': 2578, 'good': 1616, 'man': 2618, 'billionair': 431, 'wufu': 4715, 'bridg': 556, 'bed': 369, 'photo': 3313, 'derail': 1062, 'sing': 3897, 'tao': 4208, 'headlin': 1784, 'hahababy_': 1716, 'cigarett': 806, 'koha': 2259, 'daisuki': 1005, 'repurchas': 3610, 'mainten': 2588, 'channel': 726, 'final': 1403, 'look': 2508, 'gongmaru': 1615, 'rice': 3629, 'hundr': 1880, 'page': 3248, 'tofu': 4338, 'build': 596, 'accid': 21, 'countdown': 921, 'shook': 3853, 'pregnanc': 3442, 'cafe': 615, 'plan': 3359, 'account': 22, 'pocket': 3372, 'book': 529, 'stationeri': 4067, 'handwrit': 1751, 'note': 3130, 'seller': 3794, 'doubl': 1148, 'eleven': 1226, 'stationari': 4066, 'journal': 2133, 'planner': 3361, 'dailyplann': 1002, 'notebook': 3131, 'taeyeon': 4189, 'tango': 4207, 'red': 3567, 'underwear': 4442, 'agre': 62, 'honey': 1842, 'jam': 2060, 'low': 2540, 'emot': 1236, 'yuna': 4816, 'empathi': 1238, 'move': 2928, 'death': 1047, 'nuclear': 3143, 'dorat': 1144, 'bangi': 312, 'dong': 1138, 'songpa': 3979, 'seongsu': 3808, 'cowboy': 933, 'yeonhe': 4766, 'legendari': 2396, 'curiou': 968, 'drip': 1173, 'top': 4348, 'theme': 4277, 'fortun': 1462, 'saisong': 3707, 'sigh': 3885, 'relief': 3598, 'togeth': 4339, 'juli': 2139, 'half': 1725, 'see': 3777, 'novemb': 3134, 'dogmat': 1122, 'li': 2421, 'jiay': 2104, 'aopt': 156, 'textur': 4257, 'seoul': 3810, 'pharaoh': 3310, 'locomot': 2495, 'girl': 1569, 'aanomali': 3, 'redoor': 3573, 'neck': 3052, 'befirst_3rdanniversari': 373, 'monpachi': 2880, 'tifthandco': 4308, 'sky': 3915, 'shore': 3860, 'japan': 2064, 'ryosuk': 3690, 'tatsumi': 4214, 'pose': 3418, 'czech': 987, 'republ': 3609, 'vs': 4555, 'basebal': 320, 'sport': 4025, 'cartiereyewear': 669, 'dri': 1169, 'eyewear': 1324, 'great': 1644, 'sunpalhwanyoung': 4151, 'palan': 3257, 'sell': 3793, 'zone': 4855, 'gangnam': 1513, 'like': 2438, 'daeyu': 991, 'goodby': 1617, 'frame': 1467, 'lol': 2499, 'amus': 115, 'scene': 3736, 'post': 3422, 'explore_2020': 1309, 'interact': 2002, 'guest_altaa_al_al_ala': 1682, 'guest_': 1681, 'explor': 1308, 'guest': 1680, 'person': 3301, 'publish': 3478, 'exchang': 1300, 'addit': 33, 'explore_follo': 1310, 'volo': 4550, 'comet': 863, 'folli': 1437, 'comment': 866, 'the_ekat_': 4265, 'explorepagereadi': 1313, 'restaur': 3618, 'pleas': 3366, 'eye': 1320, 'want': 4577, 'go': 1598, 'shop': 3856, 'korea': 2266, 'onemansjourney': 3193, 'terryleenelson': 4248, 'picoftheday': 3336, 'beauti': 360, 'somethingnew': 3974, 'artcollector': 223, 'contemporari': 886, 'abstractart': 15, 'abstractartist': 16, 'abstract': 14, 'hongkong': 1846, 'locofrank': 2493, 'manwithamiss': 2643, 'oosaka': 3206, 'gorillahal': 1625, 'versaceeyewear': 4504, 'yiyi': 4778, 'one': 3190, 'northern': 3121, 'south': 3997, 'australia': 263, 'disney': 1108, 'spoof': 4022, 'disneymem': 1109, 'ideal': 1914, 'bastard': 336, 'bestart': 397, 'mercurymov': 2737, 'photographi': 3318, 'abstractpaint': 17, 'kenni': 2196, 'citi': 814, 'backtor': 298, 'sydney': 4172, 'contemporaryart': 887, 'raisin': 3531, 'check': 739, 'inbodi': 1951, 'dial': 1079, 'bodycheck': 521, 'result': 3620, 'beforeandaft': 375, 'fyp': 1501, 'matern': 2683, 'photoshoot': 3324, 'snowbodi': 3945, 'measur': 2701, 'soccer': 3947, 'big': 417, 'dome': 1134, 'chines': 764, 'rina': 3635, 'group': 1658, 'leader': 2375, 'black': 446, 'blue': 502, 'hair': 1718, 'qualiti': 3501, 'improv': 1946, 'treatment': 4379, 'bleach': 487, 'color': 852, 'job': 2125, 'hunt': 1881, 'practic': 3433, 'navi': 3037, 'pink': 3347, 'lavend': 2367, 'greig': 1651, 'dafsho': 992, 'livetw': 2488, 'inform': 1965, 'grab': 1631, 'lazi': 2373, 'bag': 302, 'card': 662, 'activ': 28, 'textil': 4254, 'center': 704, 'starri': 4061, 'hell': 1798, 'buddha': 592, 'wilfredwan': 4662, 'heal': 1785, 'liang': 2422, 'yongt': 4788, 'burn': 603, 'jacksonwang': 2052, 'wang': 4574, 'jiaer': 2101, 'apt': 171, 'mama': 2606, 'mamaaward': 2607, 'brunomar': 576, 'blackpink': 468, 'gdragon': 1531, 'quan': 3502, 'zhilong': 4848, 'kpop': 2274, 'tm': 4332, 'hot': 1855, 'tastmark': 4212, 'push': 3489, 'swan': 4166, 'confus': 880, 'busi': 606, 'laugh': 2364, 'infarct': 1958, 'yinxin': 4774, 'azh': 288, 'guitarist': 1684, 'anniversari': 148, 'dog': 1120, 'outboundliv': 3231, 'sprintercamp': 4031, 'vanlifemagazin': 4491, 'woodwork': 4690, 'water': 4588, 'ring': 3636, 'miniyang': 2812, 'wax': 4592, 'remov': 3601, 'taiwan': 4197, 'first': 1411, 'brand': 549, 'beeswax': 372, 'home': 1840, 'exceed': 1297, 'zhecheng': 4845, 'tenaci': 4243, 'pizza': 3354, 'hut': 1884, 'pizzah': 3355, 'pizzahut': 3356, 'changhua': 724, 'kaohsiung': 2175, 'taoyuan': 4209, 'chiayi': 750, 'yilan': 4772, 'hualien': 1866, 'pingtung': 3346, 'hsinchu': 1861, 'high': 1816, 'school': 3741, 'mathemat': 2684, 'visual': 4538, 'xuan': 4742, 'get': 1553, 'youth': 4803, 'fengzhong': 1385, 'global': 1592, 'uniform': 4445, 'make': 2589, 'feng': 1382, 'call': 626, 'method': 2744, 'celebr': 701, 'slim': 3923, 'weight': 4609, 'loss': 2514, 'coffe': 843, 'cliniqu': 831, 'magnet': 2581, 'field': 1393, 'circul': 813, 'moistur': 2869, 'gel': 1536, 'maintain': 2587, 'dermatolog': 1063, 'unit': 4449, 'state': 4063, 'star': 4046, 'come': 860, 'student': 4119, 'meteor': 2742, 'commun': 869, 'pick': 3335, 'anim': 125, 'animeart': 129, 'animemem': 140, 'animegirl': 136, 'animelov': 138, 'yakuzafiancé': 4747, 'fypag': 1502, 'discoverunder100k': 1104, 'utakugirl': 4472, 'web': 4604, 'animerom': 143, 'animerecommend': 141, 'animereel': 142, 'animekiss': 137, 'animecoupl': 133, 'yakuza': 4746, 'animeboy': 131, 'manga': 2626, 'mangalv': 2633, 'mangagirl': 2631, 'mangarecommend': 2635, 'animemanga': 139, 'mangagram': 2632, 'cat': 675, 'catstagram': 694, 'digitalart': 1086, 'digitalartist': 1087, 'art': 219, 'clipstudiopaint': 832, 'creatureart': 948, 'animalart': 126, 'cuteart': 979, 'cuteartstyl': 980, 'catcaf': 677, 'catlif': 684, 'attract': 262, 'reliev': 3599, 'date': 1026, 'reunion': 3625, 'cup': 964, 'glass': 1590, 'wine': 4665, 'classic': 820, 'control': 894, 'seri': 3812, 'sentenc': 3799, 'philosophi': 3312, 'quot': 3511, 'languag': 2353, 'mountain': 2925, 'shuang': 3874, 'puppet': 3484, 'lint': 2461, 'lynx': 2567, 'bluelynxbicolor': 507, 'kitten': 2243, 'ragdol': 3519, 'ragdollcat': 3520, 'ragdollscat': 3522, 'catslov': 691, 'cute': 978, 'pattern': 3281, 'bobcat': 515, 'two': 4419, 'bobcatica': 516, 'cours': 924, 'articl': 225, 'mitterfast': 2834, 'topic': 4349, 'undergrad': 4440, 'mitt': 2833, 'sorrow': 3991, 'graffiti': 1633, 'catlov': 685, 'cats_of_world': 690, 'instacat': 1979, 'cats_of_instagram': 689, 'kitti': 2248, 'meow': 2731, 'neko': 3054, 'fitfit': 1414, 'fitfittravel': 1415, 'sea': 3767, 'leopard': 2409, 'fantasi': 1351, 'journey': 2134, 'rackdol': 3515, 'catsofinstagram': 692, 'seallynxbicolor': 3769, 'natur': 3005, 'litter': 2481, 'shovel': 3869, 'also': 96, 'small': 3928, 'thing': 4289, 'happi': 1763, 't1': 4178, 't1fanart': 4179, 'worlds24': 4706, 'zeu': 4840, 'oner': 3197, 'disappear': 1097, 'keria': 2202, 'illustr': 1938, 'mst_premium': 2933, 'tokyocameraclub': 4341, 'seventeen': 3819, 'dk': 1116, 'seokmin': 3805, 'dorogu': 1145, 'masachuki': 2675, 'shuozhen': 3880, 'beitudu': 381, 'middl': 2754, 'tcfsh2024': 4226, 'campu': 637, 'storm': 4089, 'murder': 2944, 'girlstalk': 1577, 'mercerbrunch': 2735, 'brunch': 574, 'livelihood': 2486, 'french': 1474, 'toast': 4335, 'iza': 2047, 'edit': 1206, 'fender': 1381, 'aottergirl': 157, 'member': 2723, 'exclus': 1301, 'fengjia': 1383, 'profession': 3468, 'seal': 3768, 'king': 2224, 'gtam': 1667, 'alfaromeogiuliagtam': 86, 'unlock': 4453, 'host': 1854, 'stadium': 4041, 'championship': 717, 'taiwanes': 4198, 'hero': 1807, 'teamtaiwan': 4232, 'travi': 4377, 'hi': 1811, 'crazi': 943, 'cui': 960, 'cuivi': 961, 'aru': 232, 'venu': 4502, 'social': 3948, 'lesson': 2412, 'nthumd': 3142, 'tsinghua': 4399, 'chin': 761, 'babi': 293, 'monster': 2881, 'b_moment': 290, 'hand': 1744, 'luca': 2547, 'babymonst': 294, 'clikclak': 829, 'jojo': 2128, 'chiquita': 765, 'chicita': 756, 'landscape_lov': 2347, 'sky_captur': 3916, 'landscapephotographi': 2351, 'fantastic_earth': 1352, 'landscape_captur': 2346, 'norgefoto': 3116, 'exceptional_pictur': 1299, 'nature_wizard': 3026, 'nature_shoot': 3025, 'earth_shotz': 1189, 'ourplanetdaili': 3229, 'landscapehunt': 2349, 'landscapelov': 2350, 'earth_delux': 1188, 'greatshotz': 1645, 'nature_brilli': 3022, 'jaw_dropping_shot': 2075, 'visitnorway': 4534, 'longexpoelit': 2505, 'northernnorway': 3122, 'dreamchasersnorway': 1166, 'thebestofnorway': 4268, 'lofoten': 2496, 'globeshotz': 1596, 'mountainscap': 2926, 'ig_shotz': 1926, 'amsterdam': 114, 'seemyc': 3779, 'architectur': 191, 'artchitectur': 221, 'sordomadaleno': 3990, 'modelmak': 2865, 'architecturemodel': 198, 'viajarfazbem': 4511, 'kitchen': 2239, 'architect': 188, 'turnip': 4406, 'soonmoo': 3987, 'pinkgirrrl': 3349, 'pokemon': 3382, 'pokemonart': 3383, 'pokemongam': 3387, 'game': 1511, 'pokemoncard': 3384, 'pokemoncollector': 3385, 'pokemoncommun': 3386, 'pokebal': 3381, 'pokemongo': 3388, 'pokémon': 3391, 'pokemonmem': 3389, 'choos': 775, 'starbuck': 4050, 'tiramisu': 4327, 'pud': 3479, 'product': 3467, 'news': 3071, 'afternoon': 58, 'tea': 4227, 'must': 2948, 'eat': 1197, 'dessert': 1070, 'map': 2646, 'fengshan': 1384, 'lunch': 2558, 'snack': 3938, 'ramen': 3534, 'pull': 3481, 'noodl': 3114, 'charg': 729, 'kaohsiungfood': 2176, 'peak': 3290, 'bmwprestigeclub': 511, 'bmwluxuryclass': 510, 'van': 4481, 'gogh': 1604, 'search': 3770, 'tim': 4313, 'supermarket': 4159, 'milk': 2764, 'plu': 3369, 'crispi': 951, 'buy': 609, 'cebu': 699, 'studi': 4120, 'fella': 1378, 'clinic': 830, 'mixinglook': 2837, 'test': 4250, 'zno': 4854, 'believ': 384, 'dream': 1164, 'target': 4210, 'juvenil': 2155, 'effort': 1212, 'persist': 3300, 'grow': 1659, 'way': 4593, 'log': 2497, 'copywrit': 901, 'read': 3555, 'car': 661, 'carsofinstagram': 668, 'cutecat': 982, 'whisker': 4640, 'homecat': 1841, 'catoftheday': 687, 'cutekitten': 985, 'instagram': 1986, 'pet': 3303, 'love': 2520, 'gato': 1522, 'petsofinstagram': 3306, 'kittensofinstagram': 2247, 'adoptdontshop': 42, 'pokemontcg': 3390, 'fashion': 1355, 'lopunni': 2510, 'follow': 1438, 'discount': 1098, 'time': 4315, 'dogsofinstagram': 1126, 'bai': 305, 'slave': 3920, 'westi': 4628, 'gcs2024': 1527, 'showtim': 3872, 'confront': 879, 'north': 3120, 'shake': 3823, 'miaoli': 2749, 'petti': 3307, 'asset': 243, 'nantou': 2989, 'taitung': 4196, 'kinako': 2223, 'box': 541, 'brother': 567, 'manchikan': 2622, 'munchkin': 2943, 'tiger': 4309, 'foot': 1449, 'cutecatsofinstagram': 983, 'instacatsgram': 1980, 'catinstagram': 683, 'instagramcat': 1988, 'snow': 3944, 'arginin': 204, 'fitwomen': 1419, 'stimulu': 4081, 'minecraft': 2775, 'minecraftmem': 2790, 'minecraftonli': 2791, 'minecraftp': 2792, 'minecraftpc': 2793, 'minecraftpocketedit': 2794, 'minecraftxbox': 2802, 'minecraftserv': 2799, 'minecraftps3': 2796, 'minecraftart': 2777, 'minecraftskin': 2800, 'minecraftfx': 2787, 'minecraftunivers': 2801, 'skydoesminecraft': 3917, 'minecraftforev': 2786, 'minecraftdiari': 2783, 'minecraftedit': 2785, 'minecraftgirl': 2788, 'minecraftcak': 2780, 'minecraftdraw': 2784, 'minecraftxbox360': 2803, 'minecraftbuild': 2779, 'minecraftdaili': 2782, 'cottag': 918, 'chees': 741, 'raw': 3546, 'conveni': 895, 'belcub': 383, 'fri': 1476, 'yunlin': 4817, 'keelung': 2190, 'deacon': 1044, 'fine': 1406, 'ta': 4183, 'coregraphi': 903, 'portrait': 3411, 'port': 3409, 'rate': 3540, 'shoot': 3854, 'creaturedesign': 949, 'wip': 4672, 'kittycat': 2249, 'kittylov': 2250, 'catsworld': 696, 'celibl': 702, 'kittensofin': 2246, 'catbabi': 676, 'meowmeowmeow': 2734, 'catculut': 681, 'catinstagood': 682, 'furri': 1496, 'thedalikitten': 4272, 'mycat': 2954, 'catclub': 680, 'happycatclub': 1764, 'bestcat': 398, 'funnycat': 1492, 'kittens_today': 2245, 'kittens_of_world': 2244, 'meow_beauti': 2732, 'catstagramcat': 695, 'sweet': 4167, 'fy': 1500, 'instanc': 1996, 'foodstagrsm': 1448, 'foodi': 1445, 'catloversclub': 686, 'exam': 1296, 'catssarelif': 693, 'reciproc': 3564, 'tabbi': 4184, 'mick': 2753, 'hairi': 1720, 'child': 758, 'white': 4642, 'sock': 3955, 'ball': 308, 'catphoto': 688, 'cutepet': 986, 'ilovemycat': 1939, 'famili': 1343, 'chocol': 769, 'europ': 1281, 'heroic': 1808, 'learn': 2383, 'process': 3465, 'entrepreneurship': 1266, 'everyon': 1294, 'honmaru': 1848, 'ichizomaru': 1910, 'mi': 2747, 'xiang': 4721, 'toryburch': 4354, 'connect': 882, 'ice': 1905, 'misdo': 2823, 'mr': 2930, 'donut': 1139, 'dagtrio': 993, 'burdin': 601, 'blockchain': 495, 'qingda': 3495, 'gdsc': 1533, 'nthugdsc': 3141, 'googledevelop': 1620, 'appier': 165, 'enterpris': 1260, 'stabatumbl': 4040, 'starbarg': 4048, 'petit': 3304, 'gift': 1564, 'starba': 4047, 'welfar': 4617, 'verif': 4503, 'chobom': 768, 'choong': 774, 'tin': 4318, 'chorong': 777, 'bomi': 528, 'apink': 161, 'fad': 1331, 'bank': 313, 'intern': 2007, 'televis': 4239, 'daiso': 1004, 'purchas': 3485, 'averag': 282, 'item': 2034, 'kushi': 2289, 'chaser': 734, 'w2': 4561, 'chasergamew2': 735, 'ukasatagram': 4433, 'akita': 79, 'inu': 2016, 'exhibit': 1303, 'prefectur': 3440, 'branch': 548, 'daisen': 1003, 'preserv': 3450, 'societi': 3954, 'atpikin': 257, 'akitainudog': 81, 'fullinunuubun': 1488, 'akitadog': 80, 'hachi': 1714, 'japanesedog': 2067, 'soft': 3960, 'boil': 524, 'egg': 1214, 'special': 4006, 'mayonnais': 2692, 'sauc': 3727, 'bluebicolor': 503, 'blueey': 504, 'fluffi': 1430, 'fluffycat': 1431, 'nyancon01': 3155, 'model': 2863, 'mochi': 2862, 'ragdor': 3523, 'roy': 3680, 'studio': 4121, 'carrash': 667, 'kimochi': 2219, 'lover': 2531, 'nyanusutagu': 3156, 'return': 3624, 'boy': 543, 'slowli': 3926, 'ragdolllov': 3521, 'corp': 909, 'nyan': 3154, 'dadram': 990, 'safe': 3705, 'analyst': 117, 'diplomat': 1095, 'guardian': 1678, 'minecraftd': 2781, 'minecraftrust': 2797, 'minecraftprettybuild': 2795, 'java': 2074, 'minecraftbas': 2778, 'minecraftrusticbas': 2798, 'mojang': 2870, 'minecraftarchitect': 2776, 'minecraftinspir': 2789, 'redesign': 3572, 'octo_mc': 3173, 'price': 3457, 'play': 3364, 'filter': 1402, 'cavalm': 698, 'rug': 3684, 'board': 512, 'tanbuku': 4206, 'associ': 245, 'seliykitten': 3792, 'ximend': 4730, 'retrospect': 3623, 'jinyin': 2118, 'gimaxv': 1566, 'gima': 1565, 'shoutouttoindiemus': 3868, 'teid': 4236, 'nation': 2997, 'architecturehunt': 195, 'archdaili': 184, 'archilov': 186, 'architecturephotographi': 200, 'architecturelov': 196, 'broadmag': 566, 'ignant': 1929, 'noicemag': 3111, 'archit': 187, 'tbilisi': 4225, 'georgia': 1548, 'georgiatravelmo': 1549, 'brutbuild': 585, 'brutal_architectur': 583, 'gross': 1655, 'brutal': 582, 'brutalist': 584, 'sosbrut': 3992, 'shotoniphon': 3862, 'my_eos_photo': 2952, 'total_japan': 4355, 'bestphoto_japan': 404, 'bestjapapopapics_': 400, 'longexposure_japan': 2506, 'japan_daytime_view': 2065, 'photo_shorttrip': 3314, 'art_of_japan': 220, 'retrip_new': 3622, 'wu_japan': 4714, 'allianc': 90, 'japantravelphoto': 2071, 'daily_photo_jpn': 997, 'world_bestnatur': 4701, 'color_cold': 853, 'best_moments_wat': 396, 'raw_japan_': 3550, 'trout': 4396, 'laceclosur': 2298, 'hairstyl': 1722, 'wig': 4649, 'lacewig': 2301, 'lacefrontwig': 2300, 'wigsforblackwomen': 4652, 'wigtutori': 4656, 'blackhairstyl': 456, 'wigslay': 4653, 'meltdown': 2721, 'meltedhairlin': 2722, 'wiginstal': 4650, 'wiglif': 4651, 'wigstyl': 4654, 'straightwig': 4092, 'curli': 969, 'bobwig': 518, 'silkpressqueen': 3888, 'blackgirlmag': 454, 'laceclosurewig': 2299, 'wigunit': 4657, 'sewinskil': 3820, 'closuresewin': 833, 'vh1': 4506, 'teyanataylor': 4258, 'lalaanthoni': 2324, 'ciara': 805, 'lukejam': 2554, 'ashanti': 234, 'devalelli': 1076, 'colinkaepernick': 848, 'anthonyanderson': 151, 'diddi': 1081, 'monicadenis': 2878, 'lauren': 2365, 'london': 2502, 'rayj': 3553, 'bobbybrown': 514, 'tipharri': 4325, 'tinyharri': 4321, 'jheneaiko': 2098, 'privat': 3461, 'roman': 3658, 'mistama': 2830, 'fashionicon': 1359, 'northwest': 3125, 'michaeljackson': 2750, 'aaliyah': 2, 'yeezi': 4761, 'kimkardashian': 2216, 'kimkardashianwest': 2217, 'nori': 3117, 'kardashian': 2178, 'kany': 2173, 'kongt': 2264, 'kid': 2209, 'fanpag': 1350, 'chicagowest': 753, 'kyliejenn': 2294, 'kendaljenn': 2194, 'khloekardasian': 2207, 'kourtneykardashian': 2273, 'blackhistorymonth': 460, 'blackhistori': 457, 'blackhistory365': 458, 'blackhistoryfact': 459, 'blackmag': 464, 'blacklivesmatt': 462, 'blackexcel': 451, 'ryancoogl': 3688, 'blackpow': 480, 'blackgirlsrock': 455, 'nipseyhussl': 3100, 'blackandproud': 448, 'malcolmx': 2603, 'viral': 4526, 'peac': 3287, 'gucci': 1679, 'jayz': 2077, 'phyliciarashad': 3326, 'instagood': 1985, 'photooftheday': 3323, 'blueivi': 506, 'wick': 4646, 'losangel': 2511, 'medicin': 2705, 'medit': 2706, 'mediumship': 2707, 'text': 4253, 'textpost': 4255, 'textpostaccount': 4256, 'grin': 1653, 'birthday': 442, 'staystrong': 4074, 'stayhealthi': 4071, 'stayposit': 4072, 'ask': 237, 'care': 663, 'eathealthi': 1199, 'ink': 1969, 'artist': 227, 'abstracttattoo': 18, 'blxckink': 509, 'losangelestattoo': 2512, 'latattooartist': 2360, 'blackworktattoo': 485, 'tttism': 4402, 'linework': 2457, 'tattooidea': 4218, 'instatattoo': 1999, 'latattoo': 2359, 'tat': 4213, 'tattoo': 4215, 'contemporarytattoo': 890, 'blkttt': 493, 'tattooflash': 4217, 'tattooartist': 4216, 'ttt': 4401, 'blacktattoo': 481, 'flashwork': 1423, 'minim': 2808, 'delicatesquash': 1055, 'db': 1033, 'dbz': 1035, 'dbgt': 1034, 'dragonbal': 1157, 'dragonballsup': 1158, 'toei': 4337, 'goku': 1606, 'ssj': 4037, 'goten': 1628, 'badass': 299, 'gohan': 1605, 'trunk': 4398, 'bulma': 599, 'beeru': 371, 'vegeta': 4499, 'chichi': 755, 'piccolo': 3334, 'freezer': 1473, 'turning30': 4405, 'old': 3186, 'ladi': 2303, 'beinganadult': 380, 'grownupproblem': 1661, 'adult': 44, 'procreat': 3466, 'comic': 864, 'ukcom': 4434, 'smallpress': 3933, 'smallpressuk': 3934, 'captainamerica': 654, 'marvel': 2671, 'aveng': 279, 'ironman': 2019, 'spiderman': 4012, 'thor': 4297, 'mcu': 2699, 'marvelcom': 2672, 'blackwidow': 482, 'avengersendgam': 280, 'steverog': 4079, 'chrisevan': 778, 'marvelstudio': 2673, 'tonystark': 4346, 'marvelunivers': 2674, 'loki': 2498, 'avengersinfinitywar': 281, 'captainmarvel': 656, 'blackpanth': 466, 'buckybarn': 591, 'thano': 4264, 'infinitywar': 1961, 'endgam': 1243, 'robertdnejr': 3648, 'hawkey': 1777, 'wintersoldi': 4671, 'tom': 4342, 'holland': 1838, 'gavincasalegno': 1523, 'select': 3786, 'marriag': 2654, 'bigfemmeenergi': 420, 'giveherflowh': 1583, 'femmreitforward': 1380, 'starbucksdrink': 4051, 'starbucksfrappuccino': 4052, 'starbuckslatt': 4053, 'velvet': 4500, 'latt': 2362, 'starbi': 4049, 'starbuckslov': 4054, 'frappuccino': 1470, 'icedlatt': 1907, 'fbmeme': 1368, 'explorepag': 1312, 'tiktokmem': 4312, 'feedfe': 1372, 'dailymem': 1001, 'dankmem': 1021, 'relat': 3588, 'haha': 1715, 'silli': 3889, 'gd': 1528, 'makeup': 2590, 'easi': 1196, 'rongshu': 3666, 'monsterhighdol': 2888, 'monsterhighcostum': 2887, 'monsterhighnew': 2897, 'monsterhighseri': 2898, 'frankiestein': 1469, 'ghouliayelp': 1557, 'monsterhighcollect': 2885, 'clawdeenwolf': 823, 'monsterhighmovi': 2896, 'monsterhighleak': 2891, 'monsterhigh2010': 2883, 'lagoonablu': 2304, 'draculaura': 1154, 'monsterhighmem': 2895, 'cleodenil': 827, 'would': 4709, 'childhoodnostalgia': 759, 'draculauraaesthet': 1155, 'monsterhigh2024': 2884, 'basketballmatch': 327, 'basketballhour': 324, 'basketballlov': 326, 'basketballmotiv': 329, 'basketbal': 322, 'basketballleagu': 325, 'basketballquot': 332, 'basketballskil': 333, 'player': 3365, 'forlif': 1458, 'basketballmem': 328, 'bballgam': 347, 'bball': 343, 'bbal': 342, 'bballforlif': 346, 'bball4lif': 344, 'bballtrain': 351, 'bballedit': 345, 'bballsho': 349, 'bballislif': 348, 'internet': 2009, 'skaikson': 3908, 'thepenguin': 4279, 'dc': 1036, 'cristinmilioti': 952, 'max': 2690, 'leahkateb': 2380, 'miguelharichi': 2757, 'persianprincess': 3299, 'wickedpremier': 4648, 'wickedmovi': 4647, 'redcarpet': 3569, 'redcarpetfashion': 3570, 'glammakeup': 1588, 'makeupinspir': 2595, 'loveisland': 2525, 'monsterhigh': 2882, 'wealth': 4597, 'monsterhighlor': 2893, 'monsterhighg1': 2889, 'oper': 3210, 'monsterhighliveact': 2892, 'monsterhighcosplay': 2886, 'monsterhighmakeup': 2894, 'monsterhighg3': 2890, 'monsterhighthemovi': 2899, 'lildurk': 2450, 'compress': 873, 'narutoedit': 2994, 'narutoamv': 2993, 'swirl': 4169, 'sharingan': 3829, 'sharinganey': 3830, 'weasel': 4600, 'itachi': 2030, 'itachiedit': 2031, 'italian': 2032, 'akatsuki': 77, 'akatsukedit': 76, 'boruto': 536, 'borutoedit': 537, 'anedit': 121, 'dark': 1023, 'editimaim': 1208, 'amithavachi': 111, 'editaruto': 1207, 'harrisonford': 1770, 'mango': 2636, 'eight': 1216, 'everi': 1293, 'zhang': 4842, 'yuani': 4809, 'shebeauti': 3833, 'ive': 2046, 'thin': 4288, 'nakamura': 2982, 'yiya': 4777, 'sullyoon': 4139, 'shrimp': 3873, 'wave': 4591, 'shopeetw': 3857, 'misterdonut': 2831, 'novic': 3135, 'mother': 2922, 'roast': 3647, 'ou': 3228, 'lei': 2398, 'bee': 370, 'workshop': 4699, 'gold': 1607, 'salt': 3712, 'metaphys': 2741, 'tempera': 4241, 'shui': 3877, 'mate': 2682, 'predict': 3439, 'ambigu': 107, 'skill': 3909, 'divin': 1114, 'knowledg': 2255, 'minji': 2813, 'newjean': 3066, 'newjeansminji': 3068, 'minjinewjean': 2814, 'kim': 2211, 'min': 2769, 'ji': 2100, 'golden': 1608, 'pond': 3398, 'chemmini': 745, 'guanzhi': 1675, 'netflix': 3056, 'sepama': 3811, 'lin': 2454, 'tingyi': 4320, 'idol': 1917, 'aespa': 50, 'hydol': 1894, 'baoya': 314, 'spoon': 4024, 'preferenti': 3441, 'unpack': 4454, 'hershey': 1809, 'biscuit': 443, 'teatea': 4233, 'super': 4155, 'merchant': 2736, 'xiaoqi': 4727, 'seven': 3818, 'mcgriddl': 2698, 'mac': 2569, 'gridor': 1652, 'mythought': 2968, 'inmyg': 1972, 'shape': 3826, 'relationshipquot': 3593, 'lovequot': 2530, 'relationshipstruggl': 3595, 'arianagrand': 207, 'comparison': 871, 'arianagrandeupd': 212, 'rembeauti': 3600, 'arianagrandestyl': 211, 'arianagrandeedit': 208, 'arian': 206, 'fetusariana': 1389, 'fetusarianagrand': 1390, 'gainwiththeepluto': 1508, 'celebglowup': 700, 'arianagrandefan': 209, 'kbyefornow': 2186, 'arianagrandemerch': 210, 'arianamakeup': 213, 'rainonm': 3529, 'arianayoung': 214, 'mafiagrand': 2575, 'undiscovered_mua': 4443, 'atarahmayhew': 247, 'toofac': 4347, 'makeuplov': 2597, 'facepaint': 1329, 'hudabeauti': 1868, 'shophudabeauti': 3858, 'fentybeauti': 1386, 'kyliecosmet': 2293, 'makeuptrend': 2601, 'jeffreestarcosmet': 2081, 'unleashyourinnerartist': 4452, 'morphebrush': 2920, 'morphebab': 2919, 'slave2beauti': 3921, 'makeupart': 2591, 'jamscharl': 2061, 'colourpopcosmet': 857, 'anastasiabeverlyhil': 120, 'norina': 3118, 'sigmabeauti': 3886, 'jeffreestar': 2080, 'limecrimemakeup': 2452, 'makeuprevolut': 2600, 'bhcosmet': 408, 'blazin_beauti': 486, 'sophora': 3989, 'muasfam': 2936, 'eyeshadowlook': 1322, 'discoveringmua': 1103, 'newmua': 3070, 'blendtherul': 488, 'makeupdollz': 2593, 'slaaybeauti': 3919, 'underratedmua': 4441, 'muasupport': 2937, 'makeuppag': 2598, 'cutcreas': 977, 'makeupartists_worldwid': 2592, 'discover_mat': 1100, 'peachyqueenblog': 3289, 'chunkyglitt': 791, 'superbrow': 4156, 'aspiringmua': 241, 'moult': 2924, 'makeupinspo': 2596, 'youngmua': 4798, 'colorfuleyeshadow': 854, 'makeupgo': 2594, 'makeuptutori': 2602, 'makeuppictori': 2599, 'brightmakeup': 559, 'brloy': 564, 'houseofcb': 1859, 'parishilton': 3264, 'wakandaforev': 4563, 'melanin': 2718, 'kanyewest': 2174, 'ye': 4759, 'devaleelli': 1075, 'gabriel': 1505, 'union': 4447, 'princesslov': 3460, 'mobilephotographi': 2859, 'fall': 1337, 'nightshift': 3095, 'insta': 1978, 'cake': 623, 'ladear': 2302, 'roll': 3657, 'kitkat': 2242, 'dcard': 1037, 'earli': 1187, 'morn': 2918, 'boyfriend': 544, 'went': 4624, 'lie': 2429, 'said': 3706, 'toilet': 4340, 'cheat': 738, 'intim': 2013, 'question': 3510, 'dcard2020': 1038, 'designmem': 1067, 'funnymem': 1493, 'haoyao': 1762, 'yin': 4773, 'captainamericabravenewworld': 655, 'anthonymacki': 152, 'basketballn': 331, 'basketballmov': 330, 'basketballchallen': 323, 'bballstar': 350, 'eyeshinycosplay': 1323, 'norori': 3119, 'cosplay': 911, 'romanceanim': 3660, 'anime2024': 128, 'dimension': 1090, 'temptat': 4242, 'michal': 2752, 'animecosplay': 132, 'cosplaygirl': 912, 'river': 3638, 'mikaritachibanacosplay': 2758, 'typhoon': 4422, 'gi': 1558, 'kai': 2164, 'failur': 1332, 'biggest': 421, 'bigtim': 425, 'growth': 1662, 'humandevelop': 1876, 'godfirst': 1600, 'bellyd': 387, 'bellydanc': 388, 'danceclass': 1010, 'persian': 3298, 'turkishwed': 4404, 'dubai': 1180, 'egypt': 1215, 'fitnessmotiv': 1418, 'wellb': 4620, 'costum': 915, 'podcast': 3373, 'londonbellydanc': 2503, 'flash': 1422, 'med': 2702, 'mediunidad': 2708, 'medic': 2704, 'dearmama': 1046, 'gopro': 1621, 'goprohero': 1622, 'dazedayztrip': 1032, 'dazedayz': 1031, 'jwmarriottphuquoc': 2157, 'beforeof': 376, 'pr': 3432, 'thepiel': 4280, 'luna': 2556, 'gray': 1643, 'lunapr': 2557, 'azuki': 289, 'landmin': 2344, 'base': 319, 'pierc': 3340, 'mine': 2774, 'land': 2341, 'giragyo': 1568, 'area': 203, 'followm': 1442, 'pleaselik': 3368, 'pleasefollowm': 3367, 'bob': 513, 'abdomin': 6, 'kendalljenn': 2195, 'kourtney': 2272, 'blackwomen': 484, 'blackmen': 465, 'blacklov': 463, 'blackisbeauti': 461, 'blackbusi': 449, 'blackcultur': 450, 'comedi': 861, 'melaninmakeupdaili': 2719, 'naturalhair': 3006, 'redvelvetlatt': 3577, 'redvelvetdrink': 3576, 'jae': 2054, 'rim': 3634, 'zailin': 4826, 'rojaklah': 3656, 'yoga': 4779, 'edema': 1205, 'menstrual': 2729, 'pain': 3253, 'abdomen': 5, 'stovepip': 4090, 'woman': 4681, 'postpartum': 3425, 'slimat': 3924, 'vogu': 4547, 'jang': 2062, 'jangwonyoung': 2063, 'for_everyoung10': 1450, 'children': 760, 'carletti': 665, 'butterfli': 608, 'america': 108, 'usa': 4465, 'travel': 4371, 'akon': 82, 'lyric': 2568, 'taylorswift': 4221, 'swifti': 4168, 'taylorsvers': 4220, 'taylorswiftedit': 4222, 'taylorswiftnew': 4223, 'theerastour': 4273, 'tstheerastour': 4400, 'reput': 3611, 'reputationtv': 3612, 'youngthug': 4800, 'atlanta': 256, 'yslrico': 4806, 'rap': 3537, 'fama': 1339, 'ig': 1922, 'tiktok': 4310, 'twitter': 4418, 'gabrielleunion': 1506, 'operettaphantom': 3212, 'skullector': 3914, 'missuniverse2023': 2827, 'miss': 2824, 'mexico': 2745, 'bingxin': 435, 'basqu': 335, 'na': 2971, 'restroom': 3619, 'coupl': 922, 'along': 94, 'hamburg': 1730, 'fun': 1489, 'version': 4505, 'paralyz': 3262, 'entir': 1263, 'mrt': 2932, 'qq': 3499, 'dcard2024': 1039, 'toyota': 4362, 'danfeng': 1020, 'rav4': 3541, 'yariscross': 4757, 'corollacross': 906, 'laikrosrossey': 2315, 'chamomil': 715, 'mutual': 2950, 'laiki': 2311, 'lakatmigraigra': 2318, 'catch': 678, 'laikmoscwa': 2314, 'laik': 2306, 'liquid': 2467, 'lakatmukraina': 2320, 'l': 2296, 'laikcharti': 2308, 'conflict': 878, 'sswagger': 4039, 'origami': 3222, 'dandadan': 1013, 'okarung': 3185, 'onepiec': 3194, 'luffi': 2551, 'jujutsukaisen': 2138, 'jjk': 2124, 'mantra': 2642, 'war': 4579, 'back': 297, 'insect': 1975, 'hobbi': 1834, 'emperor': 1239, 'opt': 3213, 'dr': 1153, 'wu': 4713, 'ahc': 64, 'langzhi': 2354, 'cnp': 837, 'prmay': 3463, 'chain': 710, 'air': 72, 'cushion': 972, 'essenc': 1274, 'hidden': 1813, 'lip': 2464, 'mask': 2678, 'poya': 3429, 'poyabeauti': 3430, 'poyagirl': 3431, 'architecturemem': 197, 'jimmybluffton': 2111, 'missuniverse2024': 2828, 'evacap': 1286, 'mexicoc': 2746, 'missuniverso2024': 2829, 'gli': 1591, 'corollasport': 907, 'ssw': 4038, 'gener': 1540, 'z': 4825, 'slug': 3927, 'magic': 2579, 'battl': 340, 'drwu': 1174, 'loveoflif': 2529, 'womensbest': 4685, 'happymarriag': 1766, 'marriageisawesom': 2661, 'marriage365': 2655, 'marriagecoach': 2657, 'marriagecontract': 2658, 'relationshiptip': 3596, 'lifequot': 2433, 'relationshiprul': 3594, 'marriagemind': 2663, 'marriagehelp': 2660, 'marriageproblem': 2666, 'marriagequot': 2667, 'marriageparti': 2664, 'marriagephotographi': 2665, 'loveforwork': 2523, 'law': 2368, 'marriagestori': 2668, 'marriageadvic': 2656, 'marriagetip': 2669, 'afrotech': 56, 'successstori': 4135, 'mysticmoonboutiqu': 2967, 'transform': 4367, 'strength': 4113, 'crystal': 955, 'crystalshop': 956, 'comingsoon': 865, 'smallbusi': 3930, 'womanown': 4682, 'witch': 4674, 'witchi': 4675, 'spiritu': 4017, 'manifest': 2639, 'boho': 523, 'farmhous': 1353, 'cottagecor': 919, 'light': 2436, 'empow': 1240, 'gourmet': 1629, 'angel': 122, 'raider': 3525, 'report': 3608, 'heat': 1792, 'eater': 1198, 'beautyandeleg': 363, 'bellezayelegancia': 386, 'thornton': 4298, 'thorntonschocol': 4299, 'passtheloveon': 3276, 'sayitwiththornton': 3732, 'uniquelythornton': 4448, 'medyareklam01': 2709, 'migrosin': 2756, 'trendyolmilla': 4387, 'energi': 1245, 'elisi': 1228, 'canvic': 651, 'foalfoot': 1432, 'nightgown': 3094, 'clear': 826, 'amin': 110, 'businesswoman': 607, 'kitapurdu': 2238, 'huski': 1883, 'subscript': 4133, 'wantlaiki': 4578, 'liken': 2446, 'lt': 2545, 'marathon': 2649, 'liketim': 2448, 'coverag': 930, 'likemen': 2444, 'marathonvezam': 2650, 'promot': 3473, 'shit': 3848, 'piarigra': 3332, 'likezalaik': 2449, 'vysimno': 4560, 'manylack': 2644, 'laiktaim': 2316, 'laikedmukraina': 2310, 'oneheart': 3192, 'yuzuku': 4824, 'orang': 3217, 'flower': 1429, 'emuls': 1241, 'lemon': 2404, 'bath': 337, 'shampoo': 3824, 'grapefruit': 1641, 'blossom': 501, 'anti': 153, 'oil': 3183, 'dedu': 1050, 'ingredi': 1967, 'nippl': 3099, 'mild': 2762, 'liangz': 2424, 'shower': 3871, 'roster': 3672, 'head': 1783, 'destini': 1071, 'oh': 3181, 'c': 613, 'tender': 4244, 'enzym': 1267, 'pomelo': 3397, 'incens': 1952, 'shini': 3845, 'trashband': 4370, 'kui': 2286, 'gang': 1512, 'broadcast': 565, 'station': 4065, 'pearl': 3291, 'radio': 3517, 'shunxin': 3879, 'scholar': 3740, 'relationship': 3589, 'men': 2726, 'mbti': 2694, 'istj': 2027, 'isfj': 2022, 'fh': 1392, 'estj': 1275, 'enfj': 1246, 'enfp': 1247, 'infp': 1966, 'infj': 1962, 'entp': 1265, 'entj': 1264, 'intj': 2014, 'intp': 2015, 'estp': 1276, 'esfp': 1270, 'isfp': 2023, 'istp': 2028, 'psycholog': 3475, 'analyz': 118, 'lava': 2366, 'macaron': 2570, 'teamnatur': 4230, 'naturalhairdaili': 3009, 'naturalhairjourney': 3015, 'hairgrowth': 1719, 'hairjourney': 1721, 'naturalhaircommun': 3008, 'coil': 845, 'coilyhair': 846, 'temntral': 4240, 'karalaihar': 2177, 'twistout': 4417, 'shando': 3825, 'blackandbeauti': 447, 'nappi': 2990, 'fro': 1480, 'afro': 55, 'bigar': 418, 'bighairdontcar': 422, 'sun': 4142, 'yanzi': 4756, 'touch': 4356, 'sunset': 4153, 'nine': 3098, 'type': 4421, 'analysi': 116, 'level': 2416, 'self': 3787, 'manag': 2620, 'tarot': 4211, 'constel': 883, 'sincer': 3896, 'aquariu': 173, 'royal': 3681, 'sister': 3902, 'leg': 2394, 'romerobrit': 3662, 'meghanmarkl': 2714, 'leefelix': 2389, 'straykid': 4095, 'bead': 355, 'felix': 1375, 'hanjisung': 1755, 'leeknow': 2392, 'skz': 3918, 'changbin': 722, 'hwanghyunjin': 1887, 'seungmin': 3817, 'stay': 4069, 'kimseungmin': 2220, 'seochangbin': 3801, 'jeongin': 2092, 'leeminho': 2393, 'yangjeongin': 4753, 'chan': 718, 'jisung': 2120, 'minho': 2804, 'jyp': 2158, 'felixstraykid': 1377, 'straykidsfelix': 4097, 'yongbok': 4783, 'strijok': 4114, 'felixfreckl': 1376, 'lisa': 2468, 'larisa': 2358, 'lalisa': 2331, 'lalasamnoban': 2328, 'lalisaedit': 2334, 'lalisablackpink': 2332, 'lisaedit': 2473, 'lili': 2451, 'lisablacpink': 2471, 'lisabias': 2469, 'lalisad': 2333, 'globalitgirllisa': 1594, 'itgirl': 2036, 'globalitgirl': 1593, 'soloist': 3970, 'soloistlisa': 3971, 'danc': 1009, 'jenli': 2082, 'jenni': 2087, 'jenniekim': 2089, 'jennieblackpink': 2088, 'lisablackpink': 2470, 'jenlisainyourarea': 2085, 'jenliser': 2086, 'jenlisaforv': 2084, 'jenlisaedit': 2083, 'blackpinkinyourarea': 472, 'relationshipgo': 3590, 'blink': 491, 'lovewin': 2539, 'lgbt': 2417, 'bornpink': 534, 'cornerthreemedia': 905, 'cornerthre': 904, 'thompsonjconnor': 4296, 'nba': 3040, 'nbamem': 3046, 'dunk': 1182, 'lebron': 2386, 'michaeljordan': 2751, 'kobe': 2258, 'nbahighlight': 3045, 'nbaedit': 3044, 'mixtap': 2838, 'basketballvir': 334, 'charlottehornet': 731, 'nbadraft': 3042, 'miamiheat': 2748, 'lebronjam': 2387, 'buzzciti': 611, 'lukadonc': 2553, 'nbaplayoff': 3049, 'wembi': 4621, 'sctop10': 3755, 'goldenstatewarrior': 1611, 'scoothenderson': 3742, 'terryrozi': 4249, 'lamelobal': 2338, 'milesbridg': 2763, 'pjwashington': 3357, 'gordonhayward': 1623, 'nbanew': 3047, 'hornet': 1852, 'stephcurri': 4077, 'brandonmil': 550, 'nbaallstar': 3041, 'ballfamili': 309, 'liangelobal': 2423, 'nbadraft2024': 3043, 'hyunjin': 1899, 'straykidschangbin': 4096, 'straykidsyshyunjin': 4100, 'hyunlix': 1900, 'minsung': 2818, 'chanmin': 725, 'straykidskingdom': 4098, 'straykidsturkey': 4099, 'outer': 3236, 'bread': 554, 'whole': 4645, 'quanlian': 3503, 'lianlian': 2426, 'kimjiwon': 2214, 'editor_': 1210, 'yeji': 4762, 'stoneheng': 4086, 'real': 3556, 'genuin': 1544, 'guarante': 1676, 'hamdi': 1731, 'door': 1140, 'increas': 1953, 'volum': 4553, 'kb': 2184, 'bean': 357, 'kbscoolfm': 2185, 'success': 4134, 'histori': 1826, 'bt': 589, 'bigbang': 419, 'superiunior': 4158, 'silk': 3887, 'charm': 732, 'cindychenyaxin': 808, 'dolmen': 1132, 'issu': 2026, 'develop': 1077, 'popular': 3405, 'rogu': 3655, 'mobil': 2857, 'younger': 4797, 'sibl': 3882, 'blackpinkstyl': 477, 'blackpinkistherevolut': 473, 'blackpinkyg': 478, 'blackpinkoffici': 476, 'blackpinkcomeback': 469, 'pinkven': 3350, 'pranapriyoban': 3438, 'lalialaedit': 2330, 'blackpinklalisa': 474, 'lisamoney': 2475, 'blackpinklisa': 475, 'bpmyluvz': 546, 'lisad': 2472, 'prettysavag': 3454, 'lalalal': 2325, 'lovesickgirl': 2535, 'boombayah': 531, 'ddududdududu': 1042, 'liskook': 2478, 'theboy': 4269, 'genv': 1545, 'theboystv': 4270, 'maika': 2584, 'yamamoto': 4749, 'lean': 2381, 'habit': 1713, 'lose': 2513, 'mtvema': 2934, 'lisaxmoonlitfloor': 2477, 'rockstar': 3653, 'lalasamnob': 2327, 'lloud': 2491, 'lisaxloui': 2476, 'fabul': 1326, 'fashionista': 1360, 'fashionweek': 1364, 'fashionlov': 1361, 'fashionblogg': 1358, 'fashionstyl': 1363, 'fashionblog': 1357, 'amaz': 102, 'collabor': 849, 'chic': 752, 'nyc': 3158, 'fashionphotograph': 1362, 'classi': 819, 'itzi': 2039, 'midzi': 2755, 'itzy_gold': 2041, 'itzy_imaginaryfriend': 2042, 'vish': 4529, 'gioban': 1567, 'dohe': 1130, 'dad': 989, 'buddhism': 593, 'abbi': 4, 'niusnew': 3105, 'mbti16': 2695, 'nucleu': 3144, 'jabbang': 2049, 'lupstar': 2559, 'lupstargram': 2560, 'sunpal': 4150, 'right': 3632, 'arm': 215, 'zalstargram': 4827, 'roséxbrunomar': 3675, 'rosé_bruno_apt': 3674, 'rose': 3671, 'rosé': 3673, 'ontheground': 3204, 'gone': 1612, 'hardtolov': 1767, 'rub': 3683, 'metabol': 2739, 'blackpinrol': 479, 'esfj': 1269, 'respect': 3617, 'strongest': 4117, 'hamster': 1733, 'jungl': 2148, 'hamsterlif': 1738, 'hamsterlov': 1739, 'hamstagram': 1732, 'jungarian': 2146, 'yellow': 4763, 'walnut': 4567, 'accur': 24, 'except': 1298, 'qiu': 3498, 'classroom': 822, 'pole': 3393, 'girlfriend': 1570, 'view': 4519, 'birth': 441, 'romant': 3661, 'fallinlov': 1338, 'month': 2901, 'nbaplay': 3048, 'born': 533, 'talent': 4203, 'brazil': 553, 'bruninho': 575, 'isback': 2021, 'brunomarsbrazil': 577, 'hooligan': 1849, 'brunomarsl': 578, 'bucheon': 590, 'bae': 300, 'sung': 4145, 'announc': 149, 'mamamusola': 2616, 'kite': 2241, 'vivaf': 4543, 'chae': 706, 'hwan': 1886, 'chairman': 712, 'organ': 3220, 'committe': 868, 'yoon': 4792, 'ryu': 3692, 'soo': 3985, 'jeong': 2091, 'solar': 3962, 'mamamoosolar': 2614, 'juri': 2153, 'pinkvenom': 3351, 'lalisamanoban': 2335, 'lalalalisa': 2326, 'gyuhani': 1710, 'hanipen': 1754, 'jung': 2145, 'jinghan': 2113, 'vihai': 4520, 'lapi': 2357, 'berri': 393, 'moonbyul': 2909, 'mamamoo': 2610, 'wheein': 4633, 'hwasa': 1890, 'jin': 2112, 'rongxian': 3667, 'bunsei': 600, 'huiren': 1872, 'huizhen': 1873, 'mamamu': 2615, 'moon': 2907, 'moosun': 2915, 'mom': 2873, 'mu': 2935, 'depend': 1061, 'combin': 859, 'instalov': 1992, 'jisoo': 2119, 'ot4': 3224, 'cutegirl': 984, 'kpopqueen': 2282, 'ygentertai': 4770, 'youtub': 4804, 'neri': 3055, 'refer': 3580, 'leehaechan': 2390, 'nct': 3050, 'enjoy': 1258, 'poplov': 3403, 'differ': 1084, 'object': 3164, 'whistl': 4641, 'wish': 4673, 'muzzl': 2951, 'cimyongsun': 807, 'yongseon': 4786, 'moonbyulyi': 2911, 'jungwheein': 2149, 'hui': 1871, 'ahnhyejin': 68, 'ahn': 67, 'hye': 1895, 'k': 2160, 'pop': 3401, 'discov': 1099, 'kpopturkey': 2283, 'mamamoomagazin': 2612, 'sadesink': 3701, 'candid': 642, 'mamamo': 2608, 'hahiajin': 1717, 'ke': 2188, 'volleybal': 4549, 'attack': 259, 'giant': 1559, 'sadiesink': 3703, 'evelyn': 1289, 'ultra': 4435, 'bra': 547, 'sim': 3891, 'sisra': 3901, 'doyoung': 1151, 'lisamanoban': 2474, 'nf': 3078, 'cupid': 966, 'fact': 1330, 'attitud': 261, 'mind': 2771, 'characterist': 728, 'bobo': 517, 'bid': 414, 'femal': 1379, 'heart': 1790, 'steel': 4075, 'apprais': 169, 'ari': 205, 'tauru': 4219, 'gemini': 1538, 'cancer': 640, 'leo': 2408, 'virgo': 4527, 'libra': 2427, 'scorpio': 3743, 'capricorn': 653, 'sakura': 3709, 'endo': 1244, 'raini': 3528, 'wast': 4586, 'paulklein': 3284, 'polklin': 3395, 'sb': 3733, 'youngstreet': 4799, 'sbsyoungstreet': 3734, 'redvelvet': 3575, 'wandi': 4573, 'qibipi': 3493, 'possess': 3421, 'desir': 1069, 'onglima': 3198, 'better': 405, 'alon': 93, 'couplelov': 923, 'thetafil': 4285, 'ceramid': 705, 'lotion': 2516, 'overcom': 3241, 'itchi': 2033, 'pikachu': 3342, 'guardi': 1677, 'nyarot': 3157, 'achig': 25, 'welcamo': 4613, 'rico': 3631, 'dot': 1147, 'bryia': 586, 'crash': 939, 'growlith': 1660, 'milot': 2768, 'floragato': 1426, 'crccalor': 944, 'quaxwel': 3506, 'herbalif': 1803, 'blackpinkforev': 471, 'blackpinkedit': 470, 'blinksblackpink': 492, 'myheart': 2957, 'myqueen': 2963, 'sakaguchi': 3708, 'sonori': 3981, 'nagano': 2972, 'megumi': 2715, 'yumi': 4815, 'adachi': 32, 'masaichi': 2677, 'ichimura': 1909, 'ryunosuk': 3699, 'kamiki': 2169, 'ado': 39, 'lulu': 2555, 'fuji': 1485, 'billisk': 432, 'rear': 3559, 'tagram': 4191, 'stagn': 4044, 'rais': 3530, 'vma': 4546, 'viviz': 4544, 'bb': 341, 'bibigi': 413, 'octopu': 3174, 'immun': 1944, 'tribut': 4389, 'squeezer': 4036, 'eunha': 1279, 'sinb': 3895, 'mysteri': 2966, 'umji': 4437, 'shhh': 3839, 'fizzl': 1421, 'nav': 3035, 'kpopidol': 2281, 'idolissu': 1918, 'patch': 3278, 'tee': 4235, 'chuchustyl': 788, 'custom': 974, 'machin': 2571, 'glacier': 1586, 'extrem': 1319, 'cotton': 920, 'jacket': 2051, 'sixton': 3904, 'handwritten': 1752, 'jess': 2095, 'kyomoto': 2295, 'daiga': 994, 'matsumura': 2686, 'hokuto': 1835, 'shintaro': 3847, 'morimoto': 2917, 'tanaka': 4205, 'tree': 4380, 'strike': 4115, 'dirt': 1096, 'kun': 2288, 'anan': 119, 'wake': 4564, 'delus': 1057, 'ddududdudu': 1041, 'dorama': 1141, 'chaeunwoo': 708, 'sofish': 3959, 'jichangwook': 2106, 'kdrama': 2187, 'june': 2144, 'parkbogum': 3266, 'hwanginyeop': 1888, 'kangtaeoh': 2172, 'dramaakorea': 1160, 'rowoon': 3679, 'parsse': 3270, 'byeonwooseok': 612, 'dorameirasdeplantao': 1142, 'chaeunwoofan': 709, 'astro': 246, 'leejongsuk': 2391, 'parkhyungsik': 3268, 'taehyung': 4188, 'jungkook': 2147, 'jimin': 2110, 'jhope': 2099, 'xiaot': 4728, 'ao': 155, 'ting': 4319, 'kep1er': 2199, 'kepler': 2200, 'mirokaro': 2821, 'anipok': 144, 'healthybreakfast': 1788, 'mygirl': 2955, 'cuteblackpink': 981, 'shawnmend': 3832, 'camilacabello': 630, 'virion': 4528, 'captur': 657, 'yamada': 4748, 'nan': 2986, 'qingxia': 3497, 'hatian': 1774, 'futur': 1497, 'extra': 1318, 'roommat': 3669, 'cohabit': 844, 'ja': 2048, 'babymonster_info': 295, 'tver': 4410, 'miki': 2761, 'mizuno': 2844, 'got': 1627, 'herijud': 1805, 'dramakorea': 1161, 'thumb': 4302, 'youmakestraykidsstay': 4795, 'blog': 496, 'handsom': 1750, 'guy': 1700, 'fight': 1394, 'fanart': 1349, 'caitvi': 621, 'vi': 4507, 'violet': 4522, 'cait': 617, 'caitlyn': 618, 'violetraman': 4524, 'wikiramman': 4658, 'jinx': 2115, 'getjinx': 1554, 'ground': 1656, 'jinxarcan': 2116, 'ekko': 1220, 'ekkolol': 1221, 'ectoart': 1204, 'interperson': 2011, 'arcan': 174, 'arcaneseason2': 182, 'arcanefanart': 176, 'caitvifanart': 622, 'leagueoflegendsfanart': 2379, 'leagueoflegend': 2378, 'workplac': 4698, 'observ': 3169, 'reson': 3616, 'icon': 1912, 'famj': 1347, 'follow4follow': 1439, 'nice': 3089, 'lovestori': 2536, 'candi': 641, 'nike': 3096, 'adida': 34, 'usagi': 4466, 'statu': 4068, 'emoticon': 1237, 'wheelchair': 4634, 'fake': 1335, 'penghu': 3293, 'vietnames': 4518, 'parti': 3272, 'happyhalloween': 1765, 'halloween': 1728, 'troubl': 4395, 'without': 4678, 'poor': 3400, 'scenic': 3738, 'spot': 4026, 'lost': 2515, 'sanotu': 3720, 'collector': 851, 'stem': 4076, 'synach': 4173, 'guanghua': 1672, 'obok': 3168, 'starman': 4060, 'nina': 3097, 'cocoa': 842, 'xiong': 4734, 'dailin': 996, 'kesong': 2204, 'offic': 3176, 'worker': 4696, 'core': 902, 'dispel': 1112, 'irregular': 2020, 'menstruat': 2730, 'indigest': 1955, 'electron': 1224, 'node': 3110, 'dish': 1106, 'hkdj': 1827, 'hkedm': 1828, 'gdragonbigbang': 1532, 'hkparti': 1830, 'lkf': 2490, 'lankwavong': 2355, 'lan': 2339, 'kwai': 2292, 'fong': 1443, 'pictur': 3337, 'nutritionist': 3149, 'reduc': 3574, 'fat': 1365, 'nuturefit': 3150, 'louisa': 2519, 'well': 4619, 'mini': 2806, 'villain': 4521, 'dortina': 1146, 'prestig': 3451, 'costco': 914, 'hazelnut': 1781, 'foodreel': 1446, 'instareel': 1998, 'foodstagram': 1447, 'electr': 1223, 'hongkongmus': 1847, 'perform': 3297, 'alanwalk': 83, 'raveparti': 3544, 'sound': 3994, 'nightclub': 3093, 'guan': 1671, 'juy': 2156, 'waist': 4562, 'constip': 884, 'probiot': 3464, 'narumi': 2991, 'songbaixuan': 3978, 'landscap': 2345, 'matsumm': 2685, 'dingxin': 1092, 'german': 1551, 'foundat': 1465, 'popo': 3404, 'misterdonut_taiwan': 2832, 'dingzi': 1093, 'collect': 850, 'guid': 1683, 'erot': 1268, 'number': 3146, 'synalta': 4174, 'ravin': 3545, 'alti': 98, 'camri': 638, 'jeonju': 2093, 'yogurt': 4781, 'rage': 3524, 'ambassador': 106, 'greek': 1647, 'bagel': 303, 'yongj': 4784, 'stupid': 4127, 'bifesta': 415, 'vefesta': 4498, 'bliar_zerobaseon': 490, 'bifesta_zb1': 416, 'zb1': 4828, 'zerobaseo': 4833, 'zebwan': 4830, 'zero': 4832, 'campaign': 632, 'cleans': 825, 'face': 1327, 'wash': 4585, 'aic2024': 70, 'reg': 3585, 'hidl': 1815, 'miyeon': 2841, 'minni': 2815, 'lower': 2541, 'sujin': 4138, 'seo': 3800, 'soojin': 3986, 'xu': 4741, 'suizhen': 4137, 'jeon': 2090, 'yeon': 4765, 'soyeon': 3999, 'tian': 4303, 'xiaojuan': 4726, 'woo': 4686, 'ki': 2208, 'yuqi': 4818, 'yeoshwa': 4768, 'shuhua': 3876, 'neverland': 3062, 'flavor': 1424, 'hao': 1760, 'ha': 1711, 'jeanhao': 2078, 'cinema_paradis': 810, 'damp': 1008, 'bodylanguag': 522, 'sleep': 3922, 'spinal': 4015, 'curv': 971, 'fatigu': 1366, 'stomachach': 4084, 'stomach': 4083, 'snore': 3943, 'humpback': 1879, 'adjust': 35, 'ill': 1936, 'sakurada': 3710, 'kenshin': 2197, 'icebreak': 1906, 'baek': 301, 'ho': 1833, 'yong': 4782, 'jun': 2143, 'mazingian': 2693, 'manabejin': 2619, 'linway': 2462, 'linin': 2459, 'nam': 2984, 'un': 4438, 'hyun': 1897, 'hyunwoo': 1901, 'tae': 4187, 'joon': 2132, 'joo': 2131, 'jungyoon': 2151, 'project7': 3471, 'project': 3470, 'assembl': 242, 'upgrad': 4458, 'worldassembl': 4702, 'lets_assembl': 2415, 'jtbc': 2135, 'sll': 3925, 'one_th': 3191, 'exist': 1304, 'kgma2024': 2206, 'sunghanbin': 4146, 'bin': 434, 'seokmatthew': 3804, 'seokmadu': 3803, 'ricki': 3630, 'parkgunwook': 3267, 'gun': 1696, 'wook': 4691, 'kimtaera': 2221, 'rae': 3518, 'kimgyuvin': 2212, 'gyu': 1709, 'kimjiwoong': 2215, 'woong': 4693, 'hanyu': 1758, 'yujin': 4813, 'applic': 168, 'bringiton': 562, 'cho': 767, 'soeon': 3958, 'zhanghao': 4843, 'kayamatairai': 2183, 'hanyujin': 1759, 'shen': 3837, 'quanrui': 3504, 'yan': 4750, 'shi': 3840, 'shiguo': 3842, 'spokesperson': 4020, 'graviti': 1642, 'cream': 945, 'zerobaten': 4836, 'zerobaseon': 4834, 'kusti': 2290, 'craviti': 940, 'crabiti': 938, 'starship': 4062, 'dshowtaiwan': 1178, 'q': 3491, 'u': 4424, 'anrui': 150, 'lovelicki': 2527, 'only_one_stori': 3203, 'zerobatene_onlytechi': 4838, 'qua': 3500, 'lalatai': 2329, 'lesbian': 2410, 'gay': 1524, 'lgbtq': 2420, 'daunt': 1027, 'cp': 935, 'beyond_your_memori': 407, 'cravityfancon_intaipei': 941, 'gl': 1585, 'pradaxricki': 3436, 'thesoundofpradaseoul': 4283, 'zerobatene_onlynerston': 4837, 'instachil': 1981, 'wakeon': 4565, 'goodsobad': 1619, 'zeros': 4839, 'ze_ros': 4829, 'planet': 3360, 'boysplanet': 545, 'xitun': 4735, 'gelnail': 1537, 'autumn': 265, 'christmasnail': 783, 'christmasnailart': 784, 'destruct': 1072, 'pradaxgyuvin': 3434, 'pradaxmatthew': 3435, 'soundofprada': 3995, 'zerobaseone_goodsobad': 4835, 'chef': 742, 'netflixhk': 3058, 'netflixkr': 3059, 'chef_': 743, 'cook': 896, 'class': 818, 'culinaryclasswar': 962, 'koreatravel': 2269, 'koreatrip': 2270, 'hkfoodi': 1829, 'hktravel': 1831, 'hktravelblogg': 1832, 'meter': 2743, 'hayao': 1779, 'miyazaki': 2840, 'ghibli': 1556, 'hayama': 1778, 'zhongli': 4850, 'nailon': 2978, 'twin': 4416, 'american': 109, 'kaddl': 2162, 'mail': 2585, 'spirit': 4016, 'away': 284, 'castl': 673, 'casifera': 671, 'paint': 3254, 'pure': 3486, 'armor': 216, 'faceless': 1328, 'chinchilla': 763, 'strawberri': 4093, 'ling': 2458, 'pork': 3407, 'manfu': 2625, 'kimji': 2213, 'woon': 4692, 'wearabl': 4599, 'formul': 1460, 'work': 4695, 'nailart': 2975, 'qgirlnail': 3492, 'simpl': 3892, 'casual': 674, 'zozotown': 4857, 'night': 3092, 'repent': 3605, 'wei': 4608, 'podo': 3374, 'mc': 2696, 'xiao': 4723, 'rabbit': 3514, 'genblu': 1539, 'phantom': 3309, 'bear': 359, 'yoyotv': 4805, 'pumpkin': 3482, 'amnesia': 112, 'yinyou': 4775, 'inkigayo': 1970, 'podolem': 3375, 'xianxu': 4722, 'domin': 1136, 'dominate_kaohsiung': 1137, 'ate': 248, 'chkchkboom': 766, 'longfu': 2507, 'philix': 3311, 'pillow': 3344, 'bbokari': 353, 'pogari': 3378, 'chase': 733, 'trend': 4386, 'eni': 1257, 'eun': 1278, 'legitim': 2397, 'plant': 3362, 'magnat': 2580, 'synaltium': 4175, 'princess': 3459, 'atheztrad': 255, 'ateezsal': 249, 'zheng': 4847, 'zhishan': 4849, 'selfnail': 3791, 'polish': 3394, 'beginn': 377, 'transpar': 4368, 'sheer': 3835, 'churun': 793, 'pan': 3259, 'conatsunail': 875, 'conjun': 881, 'namkarmail': 2985, 'stray': 4094, 'snowman': 3946, 'christmasgelnail': 780, 'block': 494, 'wen': 4622, 'qing': 3494, 'yuanshan': 4810, 'shuanglian': 3875, 'civil': 816, 'nailsgel': 2980, 'nailsart': 2979, 'leaderofkpop': 2376, 'kgma': 2205, 'adopt': 41, 'ayako': 285, 'zhen': 4846, 'eyelin': 1321, 'vi2gel': 4509, 'vi2': 4508, 'ribbon': 3628, 'plump': 3371, 'uruuru': 4464, 'ateezwttusa': 253, 'ateezwtt': 252, 'ateeztrad': 251, 'wttateez': 4712, 'wsw': 4711, 'athezoch': 254, 'ateezsel': 250, 'pot': 3427, 'phang': 3308, 'busan': 605, 'puddingpot': 3480, 'puahjit': 3476, 'internship': 2010, 'administr': 36, 'assist': 244, 'affair': 54, 'train': 4365, 'softwar': 3961, 'optim': 3214, 'python': 3490, 'career': 664, 'chuff': 789, 'brown': 568, 'beigeenail': 379, 'cut': 976, 'otaku': 3225, 'girli': 1574, 'tweed': 4411, 'knit': 2253, 'gurley': 1699, 'haliba': 1726, 'bowl': 540, 'faint': 1333, 'xingtian': 4731, 'palac': 3256, 'shilin': 3843, 'jiantan': 2102, 'tripl': 4391, 'luzhou': 2566, 'xiaohongshu': 4725, 'liga': 2435, 'nishincho': 3101, 'manicur': 2638, 'ximen': 4729, 'gentl': 1542, 'minifland_in_taipei': 2807, 'observation_in_minifland': 3170, 'yanhao': 4755, 'lee': 2388, 'reno': 3603, 'shengyu': 3838, 'seung': 3816, 'aid': 71, 'cartoon': 670, 'minimalist': 2810, 'fu': 1481, 'fwee': 1498, 'fweeagitbusan': 1499, 'naildesign': 2976, 'instanail': 1994, 'nailgram': 2977, 'ilgtargram': 1935, 'lay': 2371, 'sunghoon': 4147, 'parksungoon': 3269, 'enhypen': 1251, 'hoon': 1850, 'nhipe': 3087, 'jungwon': 2150, 'enhypenhk': 1253, 'fff': 1391, 'chengxun': 747, 'yuanyuan': 4811, 'enhypencollect': 1252, 'kpopcollect': 2275, 'ircon': 2017, 'favorit': 1367, 'engen': 1249, 'drawn': 1163, 'wanli': 4575, 'meijia': 2717, 'acryl': 27, 'decor': 1049, 'pollut': 3396, 'welcometomyworld': 4616, 'delhiwint': 1054, 'godhelu': 1602, 'delhiisagaschamb': 1053, 'aberdeenchristma': 11, 'festivefun': 1388, 'aberdeenchristmasvillag': 12, 'christmasmarket': 782, 'christmasshop': 785, 'aberdeen': 10, 'bless': 489, 'mobile_perfect': 2858, 'igworldclub': 1932, 'instaghesboro': 1984, 'rebels_unit': 3562, 'rebels_natur': 3561, 'naturephotographi': 3031, 'captureperfect': 659, 'foggi': 1433, 'moodygram': 2904, 'exklusive_shot': 1305, 'justgoshoot': 2154, 'ig_germani': 1923, 'natures_light': 3032, 'gramoft': 1634, 'nature_perfect': 3024, 'igbest_shot': 1928, 'deutschland': 1074, 'phototag_ig': 3325, 'jj_mobilephotographi': 2123, 'ig_seren': 1925, 'shotzdelight': 3864, 'ig_myshot': 1924, 'shaderecap': 3822, 'sca_steff': 3735, 'sceneri': 3737, 'moodi': 2903, 'roam': 3643, 'dogphtotographi': 1123, 'bestdogsev': 399, 'loml': 2501, 'hulamoonpack': 1874, 'rottieshepherd': 3676, 'swissshepherd': 4170, 'hawaiidog': 1776, 'sdvbrasil': 3761, 'ddv_': 1043, 'hear': 1789, 'sdvfc': 3763, 'sdvlife': 3764, 'sdvbrasileiro': 3762, 'dvvpp': 1184, 'sdv2021': 3759, 'sdv2022': 3760, 'chuvadebencao': 794, 'chuvadesegui': 797, 'chucadelike30k': 786, 'chuvasemlimit': 803, 'chucadelikes50k': 787, 'chuvadeseguidores60k': 799, 'chuvadefollow': 796, 'rtblike': 3682, 'geritakipvar': 1550, 'gtposta': 1670, 'gtapan': 1668, 'takib': 4202, 'twilight': 4415, 'let': 2414, 'gate': 1519, 'town': 4360, 'latté': 2363, 'wiwt': 4679, 'barredowl': 318, 'crawfish': 942, 'wildlifephotographi': 4661, 'florida': 1427, 'lovefl': 2521, 'bestofthe_usa': 401, 'roamflorida': 3644, 'raw_allnatur': 3547, 'instagram_photo': 1987, 'bbcearth': 352, 'sonya1': 3983, 'raw_wildlif': 3551, 'captureon': 658, 'gdl_arq': 1530, 'designinspir': 1066, 'interiordesign': 2005, 'archdailymx': 185, 'architecturedesign': 193, 'dreamhom': 1167, 'architecturetapathi': 201, 'gdl': 1529, 'arquitetura': 218, 'architecturefactor': 194, 'interiorismo': 2006, 'fotografiadearquitectura': 1464, 'architecturamexico': 192, 'designmilktravel': 1068, 'forthecuri': 1461, 'designboom': 1065, 'dummond': 1181, 'alicant': 88, 'nownessweekli': 3138, 'paperjournnalmagazin': 3260, 'inresid': 1974, 'iamatravel': 1902, 'afarmag': 53, 'traveldeep': 4373, 'rash': 3539, 'wanderlustmag': 4571, 'oftheafternoon': 3179, 'esfujifilmx': 1271, 'fujifilm': 1486, 'maneramagazin': 2624, 'sdvtod': 3765, 'sdvtodo': 3766, 'sidon': 3884, 'chuvadecurtida': 795, 'chuvadeseguidores62k': 800, 'chuvadeseguidores300k': 798, 'winner': 4668, 'wardinheironainternet': 4581, 'sᴅᴠ': 4176, 'sdv': 3758, 'seguesigodevolta': 3783, 'seguequesigodevolta': 3782, 'voltatodo': 4552, 'inhal': 1968, 'chuvadeseguidores80k': 801, 'rain': 3527, 'chuvadeseguidoreslike': 802, 'foreau': 1452, 'section': 3775, 'photographylov': 3322, 'instadaili': 1982, 'lightroom': 2437, 'itz_aman__47': 2038, 'likeforlik': 2440, 'followforfollowback': 1441, 'keepsupport': 2192, 'mumbai': 2941, 'kerala': 2201, 'fambruh': 1340, 'india': 1954, 'bomb': 527, 'bababababanbi': 291, 'miyu': 2843, 'kishi': 2231, 'japanesegirl': 2068, 'japaneseidol': 2069, 'utah': 4470, 'hanksvil': 1756, 'geolog': 1547, 'layer': 2372, 'bealpha': 356, 'willhisrad': 4663, 'utahphotograph': 4471, 'jurass': 2152, 'cretac': 950, 'instanatur': 1995, 'bekind': 382, 'givingback': 1584, 'artistsoninstagram': 229, 'artistsofinstagram': 228, 'toronto': 4351, 'montana': 2900, 'bsj': 587, 'chäppeliberg': 804, 'spilauerse': 4013, 'belt': 390, 'uri': 4463, 'sunbath': 4143, 'im': 1940, 'switzerland': 4171, 'airpollut': 74, 'resipsaloquitur': 3615, 'godhelpu': 1601, 'aberdeeninspir': 13, 'christmasinaberdeen': 781, 'charliehous': 730, 'gramoftheday': 1635, 'naturel_shot': 3029, 'sombrescap': 3973, 'visithlor': 4531, 'bestofthesunshinest': 402, 'bestoftheusa_wat': 403, 'sony70200gmii': 3982, 'architects_ne': 190, 'architecturemx': 199, 'amazingarchitectur': 103, 'photographydearquitetura': 3320, 'thespacesilik': 4284, 'ranjay_mandal_01': 3536, 'sonyalpha': 3984, 'balfa': 307, 'myrr': 2964, 'givebacktonatur': 1582, 'fair': 1334, 'bigskyjourn': 424, 'northernrocki': 3123, 'hike': 1818, 'changeyourmindset': 723, 'bellydancequeen': 389, 'weekend': 4607, 'saturdaynight': 3726, 'turkish': 4403, 'mindset': 2773, 'hulk': 1875, 'batman': 338, 'abend': 7, 'even': 1290, 'cozi': 934, 'greet': 1650, 'round': 3677, 'abendausklingenlassen': 8, 'elf': 1227, 'vixn': 4545, 'alternativegirl': 97, 'borntostandout': 535, 'daretobediffer': 1022, 'noigirl': 3112, 'solidoglori': 3968, 'blueridgemo': 508, 'appalachian_explor': 162, 'adventureappalachia': 47, 'instagramtennesse': 1991, 'greatsmokynp': 1646, 'tnstatepark': 4334, 'tnlive': 4333, 'tennesse': 4245, 'neverstopexplor': 3063, 'exploringtheglob': 1316, 'goneoutdoor': 1613, 'visualsoflif': 4542, 'packandgo': 3245, 'earthpic': 1193, 'exploretocr': 1315, 'peoplescr': 3295, 'nakedplanet': 2983, 'findyourselfoutsid': 1405, 'optoutsid': 3216, 'thevisualscollect': 4286, 'roamtheplanet': 3645, 'thecreatorclass': 4271, 'tongu': 4345, 'choosemountain': 776, 'smokymountain': 3937, 'all2ep': 89, 'moodyport': 2905, 'agameofton': 61, 'portraitgam': 3413, 'agameofportrait': 60, 'portraitpag': 3416, 'usaprimeshot': 4467, 'portraitphotographi': 3417, 'seattlephotograph': 3772, 'creativityfound': 947, 'gramslay': 1636, 'portraitmood': 3415, 'pursuitofportrait': 3488, 'lensbibl': 2407, 'theimag': 4275, 'instagramskilla': 1989, 'deliv': 1056, 'artgalleri': 224, 'paintingoftheday': 3255, 'giveaway': 1581, 'amazon': 104, 'itun': 2037, 'appl': 166, 'applegiveaway': 167, 'dieter': 1083, 'relax': 3597, 'abendessenheut': 9, 'contemporaryphotographi': 889, 'portbox': 3410, 'humbleartsfound': 1877, 'velveteyesmag': 4501, 'paradisaeamag': 3261, 'odtakeov': 3175, 'altphotoarch': 99, 'somewheremagazin': 3975, 'ifocus_gr': 1920, 'artofvisu': 230, 'pasteltone_mag': 3277, 'fubimagazin': 1482, 'mauermag': 2689, 'revelateursmag': 3626, 'navinakhatib': 3038, 'now': 3136, 'lensbal': 2406, 'waterfal': 4589, 'gradat': 1632, 'earthoutdoor': 1191, 'visualsofearth': 4541, 'earthoutdoors10k': 1192, 'nationalparkgeek': 3000, 'beautifuldestin': 362, 'voyag': 4554, 'igshotz': 1930, 'adventurenthusiast': 48, 'wanderlust': 4570, 'igtravel': 1931, 'travelphotographi': 4376, 'teton': 4251, 'outdooradventur': 3233, 'earthpix': 1194, 'grandteton': 1640, 'usinterior': 4469, 'nationalpark': 2999, 'zionnat': 4853, 'glaciernationalpark': 1587, 'gatesofthearct': 1521, 'election2024': 1222, 'newyork': 3073, 'kamalaharri': 2167, 'moma': 2874, 'evil': 1295, 'cntravel': 838, 'travelandleisur': 4372, 'worlderlust': 4703, 'goldenhour': 1610, 'bluehour': 505, 'visitnetherland': 4533, 'europestyl': 1284, 'citybestview': 815, 'natraravel': 3001, 'travellingthroughtheworld': 4375, 'earthfocu': 1190, 'streetphotographi': 4109, 'netherland': 3060, 'iamsterdam': 1903, 'hdr': 1782, 'reflect': 3581, 'rijksmuseum': 3633, 'themancompani': 4276, 'gentlemaniny': 1543, 'groom': 1654, 'internationalmensday': 2008, 'takeapaus': 4201, 'pausetopowerup': 3285, 'mensday': 2728, 'selfcar': 3788, 'luxuri': 2562, 'moscow': 2921, 'likeinstagram': 2441, 'laikivinstagram': 2312, 'lakatmoscwa': 2319, 'laikivzama': 2313, 'lick': 2428, 'likebl': 2439, 'scroll': 3754, 'ufcvipexperi': 4429, 'imafan': 1941, 'mandarinorientalnewyork': 2623, 'thanksgiv': 4261, 'thanksgivingparad': 4262, 'hypeon': 1896, 'campaignanalyt': 633, 'joinhypeon': 2126, 'miketyson': 2759, 'roundlak': 3678, 'moonsofinstagram': 2912, 'oneplu': 3195, 'shotononeplu': 3863, 'familyfun': 1344, 'burst': 604, 'laikahim': 2307, 'lakivz': 2323, 'fotografia': 1463, 'mirror': 2822, 'exercis': 1302, 'europa': 1282, 'viaj': 4510, 'fitnessjourney': 1417, 'scotland': 3744, 'visitscotland': 4535, 'scottishhighland': 3751, 'scotlandtravel': 3749, 'scotlandexplor': 3746, 'lovescotland': 2534, 'unitedkingdom': 4450, 'hiddenscotland': 1814, 'scotlandphotographi': 3747, 'bigsand': 423, 'gairloch': 1509, 'canon': 646, 'scottishcollect': 3750, 'scotland_greatshot': 3745, 'simpli': 3893, 'brilliantbritain': 561, 'landscapes_of_britain': 2352, 'lovegreatbritain': 2524, 'capturingbritain': 660, 'sunstar': 4154, 'contemporarycottag': 888, 'residentialarchitectur': 3614, 'akbarchitect': 78, 'tlpick': 4331, 'nyc_explor': 3159, 'what_i_saw_in_nyc': 4631, 'nycprimeshot': 3162, 'newyorkcityfeel': 3075, 'nycityworld': 3160, 'loves_nyc': 2532, 'bhfoto': 409, 'adorama': 43, 'mysecretnyc': 2965, 'newyorkc': 3074, 'streetmob': 4107, 'nycphotograph': 3161, 'madewithlightroom': 2573, 'n8zine': 2969, 'hellofrom': 1800, 'streeteasyfind': 4104, 'newyorklif': 3076, 'streetgramm': 4105, 'streetclass': 4103, 'spicollect': 4010, 'optimalmo': 3215, 'clickciti': 828, 'ourstreetday': 3230, 'filmtron': 1401, 'agameof10k': 59, 'gs10k': 1663, 'globalnightsquad': 1595, 'rawurbanshot': 3552, 'knowthismind': 2256, 'streetsgramm': 4111, 'worldstreetfeatur': 4707, 'worldviewmag': 4708, 'reframedmag': 3584, 'coronaviru': 908, 'covid19': 932, 'gestoorn': 1552, 'architectanddesign': 189, 'gymfam': 1704, 'studiowok': 4122, 'wokatwork': 4680, 'landscapearchitectur': 2348, 'the_gallery_of_mag': 4266, 'lalodealmeida': 2336, 'dystopiaamazônica': 1185, 'calamuchitafotodoc': 624, 'tree_brilli': 4381, 'divine_forest': 1115, 'your_tre': 4802, 'habichtwald': 1712, 'forestlov': 1455, 'treelov': 4384, 'yellowston': 4764, 'visitwyom': 4537, 'canonexploreroflight': 647, 'natgeoyourshot': 2996, 'earthporn': 1195, 'nwt_capture_of_day': 3152, 'nature_worldwide_tre': 3027, 'fingerprintofgod': 1409, 'heart_imprint': 1791, 'raw_alltre': 3548, 'allkindsoftre': 92, 'splendid_tre': 4018, 'tree_captur': 4382, 'cherryblossom': 748, 'springvib': 4029, 'springmood': 4028, 'reflectionsperfect': 3583, 'reflectionphotographi': 3582, 'kamalharri': 2168, 'prettylittletrip': 3453, 'map_of_europ': 2647, 'canonnederland': 648, 'sp': 4000, 'photograph': 3317, 'trip': 4390, 'explorescotland': 1314, 'scotlandshot': 3748, 'torridon': 4353, 'your_scotland': 4801, 'scenicbritain': 3739, 'britains_tal': 563, 'gloriousbritain': 1597, 'uk_greatshot': 4432, 'complexphoto': 872, 'uas10k': 4425, 'omd_5k': 3188, 'cinesomnia': 811, 'artclassifi': 222, 'timeto': 4317, 'garden': 1517, 'covid': 931, 'studiowokpubl': 4123, 'landarch': 2342, 'torontoarch': 4352, 'amazoniandystopia': 105, 'tree_mag': 4383, 'thehub_tre': 4274, 'tv_foggi': 4409, 'raw_foggi': 3549, 'fingerprint': 1408, 'woodlands_and_wat': 4689, 'ig_shotz_tre': 1927, 'loves_trees_rur': 2533, 'trees_of_darkness_': 4385, 'triangl': 4388, 'wyom': 4717, 'wyominglif': 4718, 'canonphotographi': 649, 'wyomingphotographi': 4719, 'grandcanyon': 1638, 'natfeotravel': 2995, 'liker': 2447, 'subscrib': 4132, 'icapen': 1904, 'nycthanksgiv': 3163, 'plumgood': 3370, 'jake': 2059, 'lake': 2321, 'roadtrip': 3642, 'supermoon': 4160, 'lipe': 2465, 'sparkl': 4003, 'cuban': 959, 'space': 4002, 'canonusa': 650, 'giethoorn': 1563, 'nwt_show': 3153, 'splendid_woodland': 4019, 'nature_obsession_landscap': 3023, 'spring': 4027, 'bhphoto': 410, 'natulhalsista': 3004, 'naturalhairspot': 3019, 'naturalhairgo': 3012, 'naturalhairinspir': 3014, 'curlyhaircommun': 970, 'teamnaturalhair': 4231, 'naturalhairgrowth': 3013, 'naturalhairrul': 3018, 'naturalhairdream': 3011, 'naturalhairblogg': 3007, 'naturalhairproblem': 3017, 'blackgirlhair': 453, 'naturalhairdontcar': 3010, 'naturalhairlov': 3016, 'myhaircrush': 2956, 'naturalrootista': 3021, 'naturalist': 3020, 'wigstylist': 4655, 'weavehairstyl': 4602, 'weavestyl': 4603, 'supergirl': 4157, 'dccomic': 1040, 'quotelifestagram': 3513, 'snappyfrang': 3940, 'relationshippost': 3592, 'relationshiplov': 3591, 'marriagevib': 2670, 'vibesofvisu': 4513, 'truelov': 4397, 'marriagediari': 2659, 'girlquot': 1575, 'marriagemateri': 2662, 'ufc': 4426, 'mma': 2853, 'oldbaenew': 3187, 'evamarcil': 1287, 'lancegross': 2340, 'hanni': 1757, 'jeanshani': 2079, 'accessori': 20, 'individualist': 1956, 'p12': 3243, 'premier12': 3448, 'sponsor': 4021, 'mlbhongkong': 2850, 'mlbmacu': 2852, 'mlbkorea': 2851, 'mlbcrew': 2848, 'mlbhoddi': 2849, 'dailyf': 998, 'dailylookrecommend': 1000, 'ann': 146, 'selflov': 3790, 'appreci': 170, 'think': 4290, 'confid': 877, 'accept': 19, 'friendship': 1478, 'neg': 3053, 'messag': 2738, 'babyou': 296, 'amoy': 113, 'goddess': 1599, 'stori': 4088, 'copi': 899, 'run': 3685, 'e': 1186, 'avakin': 268, 'avakinlif': 273, 'avakinphotographi': 277, 'avakinoffici': 275, 'weavakin': 4601, 'avakinplayermad': 278, 'avakininstagram': 271, 'avakinofici': 276, 'avakinlava': 272, 'avakinlifestyl': 274, 'sheep': 3834, 'avakingam': 270, 'avakinfamili': 269, 'avknpcsg': 283, 'prais': 3437, 'beibei': 378, 'croissant': 953, 'mylittleboxd': 2961, 'mylittlebox': 2960, 'unbox': 4439, 'jewelleri': 2097, 'lipstick': 2466, 'present': 3449, 'beautybox': 364, 'beautyproduct': 366, 'handbagaddict': 1746, 'sens': 3798, 'secur': 3776, 'supportsmallbusi': 4164, 'shopsmal': 3859, 'smallbusinesssupport': 3931, 'womeninbusi': 4684, 'season': 3771, 'matcha': 2681, 'shellfish': 3836, 'familymart': 1346, 'missunivers': 2826, 'victoriaakja': 4514, 'roadtomissunivers': 3641, 'missdenmark': 2825, 'denmark': 1059, 'beautyqueen': 367, 'beautypag': 365, 'pageantqueen': 3252, 'pageantnew': 3250, 'pageantplanet': 3251, 'pageantlif': 3249, 'reina': 3587, 'hermosa': 1806, 'linda': 2455, 'combatfc': 858, 'mmaboston': 2854, 'ufcfightpassl': 4428, 'cagefight': 616, 'jonjon': 2130, 'celtic': 703, 'patriot': 3280, 'boston': 538, 'bruin': 573, 'mmaevent': 2855, 'ufcfightnight': 4427, 'mmaworld': 2856, 'oneplus12': 3196, 'hasselblad': 1773, 'instamoon': 1993, 'dowri': 1150, 'menemen': 2727, 'trabzon': 4364, 'koran': 2265, 'meetthesut': 2713, 'reel': 3578, 'tag': 4190, 'fup': 1494, 'spooki': 4023, 'bill': 430, 'mafia': 2574, 'buffalomafia': 595, 'blogger': 497, 'familygo': 1345, 'onlinekoçluk': 3202, 'gecelikmodelleri': 1534, 'lakesofinstagram': 2322, 'saratoga': 3722, 'saratogacounti': 3723, 'luxembourg': 2561, 'intag': 2001, 'malta': 2605, 'sanmarino': 3718, 'media': 2703, 'tip': 4324, 'likemnia': 2445, 'likeinstagramm': 2442, 'laikedmlik': 2309, 'piartim': 3333, 'piar': 3331, 'coment': 862, 'contentmak': 893, 'shautigra': 3831, 'sf': 3821, 'instslik': 2000, 'author': 264, 'computertechnician': 874, 'networkspecialist': 3061, 'chateaueza': 736, 'eze': 1325, 'franc': 1468, 'travelfr': 4374, 'contact': 885, 'southern': 3998, 'court': 925, 'dajur': 1006, 'visualambassador': 4540, 'openmyworld': 3209, 'streets_vis': 4110, 'stayandwanderm': 4070, 'welivetoexplor': 4618, 'streetleak': 4106, 'streetphotograph': 4108, 'goexplor': 1603, 'urbanandstreet': 4461, 'photographyart': 3319, 'hsinthefield': 1864, 'huffpostgram': 1870, 'onbi': 3189, 'kinni': 2229, 'bikinigram': 427, 'stargram': 4055, 'ganhardinheironainternet': 1515, 'seguedevoltatodo': 3781, 'segueai': 3780, 'portraitinspir': 3414, 'jaipurgirl': 2057, 'adobephotoshop': 40, 'jaipurphotographi': 2058, 'urg': 4462, 'fambruhforev': 1341, 'photodaili': 3315, 'posesforpictur': 3419, 'rajasthan': 3532, 'jaipur': 2055, 'jaipurblogg': 2056, 'portrait_vis': 3412, 'nsbpictur': 3140, 'shootingphoto': 3855, 'myleicaphoto': 2959, 'leicastoremunich': 2403, 'leicastor': 2402, 'leica': 2399, 'chamber': 714, 'opera': 3211, 'prize': 3462, 'etczin': 1277, 'myartisr': 2953, 'taintedmag': 4194, 'classicsmagazin': 821, 'nowherediari': 3137, 'friendsinperson': 1479, 'wink': 4666, 'beautifulbizarremagazin': 361, 'ifyouleav': 1921, 'thinkveryl': 4293, 'imaginarymagnitud': 1942, 'filmagazin': 1399, 'cinecomnia': 809, 'sauna': 3728, 'sasa': 3724, 'floridaexplor': 1428, 'realflorid': 3557, 'keepflwild': 2191, 'wildflorida': 4660, 'discoverflorida': 1101, 'tenthousandisland': 4246, 'taşevl': 4224, 'bahcelievl': 304, 'naturevi': 3034, 'ev': 1285, 'quest_4_mag': 3509, 'animals_mag': 127, 'naturelov': 3030, 'natureshot': 3033, 'folk': 1434, 'folksceneri': 1436, 'folkgood': 1435, 'outdoorlif': 3234, 'outdoorliv': 3235, 'nationalgeograph': 2998, 'quest': 3508, 'discoveri': 1102, 'arquitectura': 217, 'simplic': 3894, 'haze': 1780, 'minimalismo': 2809, 'housedesign': 1858, 'cotapared': 916, 'cotaparedesarquithect': 917, 'tequi': 4247, 'teklandesign': 4238, 'teklancolour': 4237, 'root': 3670, 'radicicarpet': 3516, 'patternplay': 3282, 'nostalgia': 3129, 'newstalgia': 3072, 'canada': 639, 'alberta': 84, 'banff': 311, 'sunris': 4152, 'imvulifestyl': 1950, 'imvufinest': 1949, 'imvubaddi': 1948, 'imvu': 1947, 'jinxcosplay': 2117, 'jasminepaigemoor': 2073, 'mooreamor': 2914, 'nw': 3151, 'upperleftusa': 4459, 'raven': 3542, 'bird_brilli': 438, 'birds_ador': 439, 'birdsofinstagram': 440, 'naturebrilli': 3028, 'scream': 3753, 'forevermor': 1457, 'ravensofinstagram': 3543, 'disneyprincess': 1111, 'disnec': 1107, 'artsi': 231, 'blackgirl': 452, 'melaninpoppin': 2720, 'blackwoman': 483, 'blackpeopl': 467, 'couturegown': 928, 'luxuryfashion': 2563, 'eveninggown': 1291, 'redcarpetstyl': 3571, 'silvereleg': 3890, 'featherdetail': 1369, 'sculpteddesign': 3756, 'fashionartistri': 1356, 'handcraftedcoutur': 1747, 'highfashion': 1817, 'statementlook': 4064, 'timelesseleg': 4316, 'chicandholland': 754, 'customdesign': 975, 'couturecraftsmanship': 926, 'glamourgo': 1589, 'couturedream': 927, 'styleicon': 4129, 'fasa': 1354, 'alexpereira': 85, 'delhicaf': 1051, 'luxurylifestyl': 2564, 'treati': 4378, 'keeilo': 2189, 'luxuryliv': 2565, 'lifestyl': 2434, 'lifeisbeauti': 2432, 'delhiclub': 1052, 'instap': 1997, 'instafashion': 1983, 'pictureoftheday': 3338, 'outfitoftheday': 3240, 'loveforev': 2522, 'lovemyself': 2528, 'partygirl': 3273, 'yoggiral_urvashi': 4780, 'diljitdosanjh': 1089, 'buyabdcakeforjad': 610, 'santamonica': 3721, 'juliusshulman': 2140, 'shulman': 3878, 'archphoto': 202, 'palmspr': 3258, 'modern': 2866, 'visualacoust': 4539, 'monochrom': 2879, 'lansingmichigan': 2356, 'riverwalk': 3639, 'japantravel': 2070, 'japantrip': 2072, 'leicaphotographi': 2401, 'leicam': 2400, 'tromsø': 4394, 'late': 2361, 'hors': 1853, 'norway': 3126, 'autumnvib': 267, 'herbst': 1804, 'autumncolor': 266, 'tromsolov': 4393, 'tromso': 4392, 'visitsenja': 4536, 'wander': 4569, 'hikingadventur': 1819, 'utnorg': 4474, 'veal': 4497, 'supperclub': 4161, 'finedin': 1407, 'baranowitzgoldbergarchitect': 316, 'drzerach': 1177, 'meetboston': 2712, 'visitma': 4532, 'mansardmonday': 2641, 'nft': 3079, 'mattwalch': 2688, 'whale': 4629, 'whalecalf': 4630, 'oceanlif': 3172, 'savethewhal': 3730, 'loveti': 2538, 'frenchpolynesia': 1475, 'photographyisart': 3321, 'nftcommun': 3083, 'nftphotographi': 3086, 'nftphotograph': 3085, 'nftartist': 3081, 'nftdrop': 3084, 'nftart': 3080, 'nftcollector': 3082, 'withfnd': 4676, 'withfound': 4677, 'dodger': 1117, 'dodgerstadium': 1119, 'itfdb': 2035, 'nld': 3107, 'postseason': 3426, 'camera': 629, 'minoltax700': 2817, 'utno': 4473, 'scoundrel': 3752, 'lovetah': 2537, 'senja': 3797, 'filmcamera': 1400, 'norwegen': 3127, 'norwegenlieb': 3128, 'hesten': 1810, 'norg': 3115, 'wandern': 4572, 'gossip': 1626, 'talk': 4204, 'kota': 2271, 'miura': 2835, 'pretti': 3452, 'sj': 3907, 'perspect': 3302, 'ryuhyeyoung': 3693, 'mullet': 2939, 'repli': 3606, 'reply1988': 3607, 'sunboramo': 4144, 'eunjooroom': 1280, 'lawschool': 2369, 'lawschoolstillcut': 2370, 'untilthemorningcom': 4456, 'bright': 558, 'hana': 1743, 'ryuhyeyungadultsandkid': 3695, 'ryuhyeyoungeuoutsideyourt': 3694, 'sunne': 4149, 'servant': 3814, 'lest': 2413, 'isha': 2024, 'caitlynkiramman': 620, 'piltoversfinest': 3345, 'violyn': 4525, 'chibi': 751, 'mous': 2927, 'musutoru': 2949, 'mofumofu': 2868, 'know': 2254, 'g': 1504, 'idl': 1916, 'expect': 1307, 'kuchydl': 2285, 'gidl': 1560, 'dolphinh': 1133, 'strong': 4116, 'impress': 1945, 'pooh': 3399, 'choic': 771, 'warmth': 4584, 'asiasmostinfluenti': 235, 'asiasmostinfluential2024': 236, 'rod': 3654, 'cost': 913, 'decemb': 1048, 'elle_d': 1231, 'it_d_edit': 2029, 'chanelcruis': 720, 'chanel': 719, 'ko': 2257, 'goyounjung': 1630, 'brusley': 581, 'bruceleequot': 571, 'bruceleestyl': 572, 'bruceleefan': 570, 'bruceleeart': 569, 'beach': 354, 'onitsu': 3199, 'katigar': 2181, 'heel': 1795, 'patu': 3283, 'onitsukatig': 3200, 'sneaker': 3941, 'boot': 532, 'cap': 652, 'beani': 358, 'lagraeong': 2305, 'thinkabout_moonbyul': 4292, 'think_about': 4291, 'starlit_of_mus': 4056, 'prognosi': 3469, 'shinryujin': 3846, 'ryujin': 3696, 'iron': 2018, 'seol': 3806, 'ah': 63, 'seorina': 3809, 'xue': 4743, 'renya': 3604, 'actress': 30, 'tie': 4306, 'chaeryeong': 707, 'ryeong': 3689, 'lujin': 2552, 'dashadan': 1024, 'speak': 4005, 'dandadoomo': 1018, 'dandadanokarun': 1017, 'dandadanjiji': 1016, 'dandadanaira': 1014, 'dandadamnarat': 1012, 'dandanarrat': 1019, 'punish': 3483, 'dandadanedit': 1015, 'ocarn': 3171, 'church': 792, 'kanakura': 2171, 'eve': 1288, 'ayas': 286, 'peach': 3288, 'nujandadan': 3145, 'angri': 123, 'jiji': 2109, 'aira': 73, 'okarunedit': 3184, 'solicitarian': 3966, 'eithersid': 1219, 'chomiyeon': 773, 'juan': 2136, 'unparress': 4455, 'gidlemiyeon': 1562, 'miyeon_the_cuti': 2842, 'kailai': 2166, 'himatan': 1821, 'hamsterland': 1737, 'lotteri': 2518, 'nr': 3139, 'lucinchi': 2550, 'homag': 1839, 'ici': 1911, 'wannab': 4576, 'mafiainthemorn': 2576, 'voltag': 4551, 'harl': 1768, 'cheshir': 749, 'algorhythm': 87, 'asleep': 238, 'himada': 1820, 'gtkm24': 1669, 'solarmamamoo': 3965, 'grandson': 1639, 'sunnah': 4148, 'today': 4336, 'welcom': 4614, 'crumpl': 954, 'ooowk': 3205, 'moomoo': 2906, 'hwi': 1893, 'inthemood': 2012, 'starliteofmus': 4059, 'colour': 856, 'starlite_of_twinkl': 4058, 'newjeans_is_everywher': 3067, 'starlit_of_twinkl': 4057, 'touchin_movin': 4357, 'recip': 3563, 'save': 3729, 'technolog': 4234, 'roborovski': 3649, 'ham': 1729, 'gidleminni': 1561, 'kimminni': 2218, 'nig': 3090, 'nmixx': 3108, 'nix': 3106, 'aspa': 239, 'spa': 4001, 'kinkma': 2226, 'kink': 2225, 'mahamst': 2583, 'moka': 2871, 'mocha': 2861, 'illit': 1937, 'eilet': 1217, 'lenivers': 2405, 'renivers': 3602, 'seikari': 3784, 'mattl': 2687, 'doll': 1131, 'offici': 3177, 'websit': 4605, 'porn': 3408, 'orangenewshk': 3218, 'mix': 2836, 'idiot': 1915, 'dancingqueensontheroad': 1011, 'queenhwasa': 3507, 'samaria': 3714, 'hwasashow': 1891, 'hwasho': 1892, 'kissoflif': 2236, 'twice': 4414, 'exo': 1306, 'txt': 4420, 'dogcondit': 1121, 'dogtherapi': 1127, 'dogphysiotherapi': 1125, 'dogphysio': 1124, 'rehabilit': 3586, 'massag': 2679, 'canineenrich': 645, 'caninecondit': 644, 'k9condit': 2161, 'suppli': 4162, 'therapydog': 4281, 'rescuedog': 3613, 'dogtrain': 1128, 'dogtrainingadvic': 1129, 'weratedog': 4626, 'seolinah': 3807, 'sᴇᴏʀɪɴᴀ': 4177, 'koreanactress': 2268, 'foreopg': 1453, 'gorgeou': 1624, 'effortless': 1213, 'stun': 4126, 'exploremor': 1311, 'fyppppppppppppppppppppppppppppppppppppppppppppppppppppppppppppppppppp': 1503, 'solo': 3969, 'sadi': 3702, 'elizabeth': 1229, 'sink': 3900, 'newcont': 3065, 'sadiesinkdiaries_': 3704, 'enhypenmomaso': 1255, 'enhypenpost': 1256, 'meadow': 2700, 'postenhypen': 3423, 'enhypenmem': 1254, 'memesenhypen': 2725, 'heeseung': 1796, 'jay': 2076, 'n_': 2970, 'español': 1272, 'casio': 672, 'gshock': 1664, 'gshockwomen': 1665, 'gshockxitzi': 1666, 'notjin': 3132, 'pile': 3343, 'watsha': 4590, 'hamuken': 1740, 'sanchi': 3716, 'enthusiast': 1262, 'hamsterdor': 1735, 'milliebobbybrownedit': 2766, 'maxmayfield': 2691, 'lucassinclair': 2548, 'calebmclaughlin': 625, 'finnwubt': 1410, 'mikewheel': 2760, 'nancywheel': 2988, 'dustinhendersron': 1183, 'gatenmatarazzo': 1520, 'noahhead': 3109, 'steveharrington': 4078, 'cheersi': 740, 'famicollect': 1342, 'doubleshotmilktea': 1149, 'milktea': 2765, 'popyummi': 3406, 'jyun_': 2159, 'myomai': 2962, 'pinkchristma': 3348, 'sparrow': 4004, 'spin': 4014, 'bird': 437, 'wooah': 4687, 'eleg': 1225, 'nana': 2987, 'pepsi': 3296, 'link': 2460, 'mole': 2872, 'morak': 2916, 'bold': 525, 'find': 1404, 'joint': 2127, 'hako': 1724, 'next': 3077, 'other': 3226, 'afterlif': 57, 'natsum': 3002, 'takashi': 4199, 'ecaren': 1200, 'pig': 3341, 'stock': 4082, 'da': 988, 'xixi': 4736, 'taboo': 4186, 'reason': 3560, 'ya': 4745, 'naiqiao': 2981, 'theori': 4278, 'kamonobashi': 2170, 'ron': 3663, 'forbidden': 1451, 'hwangyeji': 1889, 'ruofan': 3686, 'jacquesaudiard': 2053, 'dreamcatch': 1165, 'sua': 4131, 'preview': 3455, 'handong': 1749, 'dami': 1007, 'yoohyeon': 4790, 'gg': 1555, 'girlgroup': 1571, 'catcher': 679, 'jiyu': 2122, 'shiyoung': 3849, 'handon': 1748, 'yoohyun': 4791, 'stagger': 4043, 'gahyun': 1507, 'spici': 4009, 'jack': 2050, 'tusi': 4407, 'spicyjackcheesetoast': 4011, 'mizunok': 2845, 'reachbeyond': 3554, 'mizunosport': 2847, 'xuexu': 4744, 'vtype': 4557, 'mamamoofanart': 2611, 'yoo': 4789, 'jiu': 2121, 'siyam': 3905, 'wheevers': 4638, 'popdaili': 3402, 'vtuber': 4556, 'mizunokr': 2846, 'siyeon': 3906, 'bisid': 444, 'gangnambsid': 1514, 'disneyplu': 1110, 'kimyongsun': 2222, 'yongsun': 4787, 'order': 3219, 'polar': 3392, 'pave': 3286, 'solid': 3967, 'brigad': 557, 'snake': 3939, 'son': 3976, 'pregnant': 3444, 'preliminari': 3446, 'newli': 3069, 'marri': 2653, 'honeymoon': 1843, 'townhous': 4361, 'pregnantlif': 3445, 'pregnancystyl': 3443, 'myheroacademia': 2958, 'berserk': 394, 'vagabond': 4476, 'titanium': 4329, 'chainsawman': 711, 'mangan': 2634, 'manangaart': 2621, 'mangacollect': 2629, 'bookstagram': 530, 'animedraw': 134, 'animeartist': 130, 'animefan': 135, 'record': 3566, 'attackontitan': 260, 'mangaart': 2627, 'mangaartwork': 2628, 'mangaedit': 2630, 'naruto': 2992, 'moonstar': 2913, 'mamamoomoonbyul': 2613, 'wood': 4688, 'xingyi': 4732, 'poison': 3380, 'wenx': 4625, 'yishi': 4776, 'piaoli': 3330, 'yi': 4771, 'hang': 1753, 'brilliant': 560, 'ni': 3088, 'moonbari': 2908, 'detail': 1073, 'drift': 1170, 'hak': 1723, 'bstage': 588, 'solar_2nd_solo_concert_colour': 3963, 'soup': 3996, 'guanyin': 1674, 'tptea': 4363, 'tieguanyintealatt': 4307, 'rang': 3535, 'oblivionbatteri': 3167, 'oblivion': 3166, 'batteri': 339, 'mamoru': 2617, 'miyano': 2839, 'qingfeng': 3496, 'liuhuo': 2483, 'hamstergram': 1736, 'chung': 790, 'retir': 3621, 'nahonsan': 2973, 'kiss': 2233, 'kiof': 2230, 'natti': 3003, 'solarkeem': 3964, 'buddhist': 594, 'gwang': 1701, 'three': 4301, 'nomin': 3113, 'brave': 552, 'northihi': 3124, 'locoitzi': 2494, 'allinu': 91, 'ringo': 3637, 'untouch': 4457, 'viarcan': 4512, 'purpl': 3487, 'arcanevi': 183, 'arcanenetflix': 181, 'arcaneleagueoflegend': 178, 'arcanelegend': 179, 'netflixarcan': 3057, 'haon': 1761, 'gisel': 1579, 'arcaneedit': 175, 'caitlynedit': 619, 'imaginedragon': 1943, 'yuri': 4819, 'girlxgirl': 1578, 'loveislov': 2526, 'gayprid': 1525, 'cupcak': 965, 'lesbianprid': 2411, 'pride': 3458, 'lgbtpride': 2419, 'yuricoupl': 4820, 'girlslov': 1576, 'yurisoft': 4821, 'shoujoai': 3865, 'gxg': 1702, 'inferior': 1959, 'videogam': 4516, 'lgbtcommun': 2418, 'warabi': 4580, 'hamsterdaili': 1734, 'goldenhamst': 1609, 'kinkuma': 2227, 'kinkumahamst': 2228, 'warehous': 4582, 'calligraphi': 627, 'brushlett': 580, 'fujitangki': 1487, 'mrsgreenappl': 2931, 'magram': 2582, 'itzzz': 2045, 'typolog': 4423, 'skincar': 3911, 'basic': 321, 'cosmet': 910, 'serum': 3813, 'tipolog': 4326, 'rongdunni': 3665, 'deadli': 1045, 'lion': 2463, 'yonglead': 4785, 'hamzi': 1741, 'hwalion': 1885, 'anhui': 124, 'metallurg': 2740, 'wheepup': 4635, 'wheebytul': 4632, 'wheesun': 4637, 'wheesa': 4636, 'mamamoa': 2609, 'violetkiramman': 4523, 'echo': 1201, 'ectoarcan': 1203, 'sonol': 3980, 'niger': 3091, 'third': 4294, 'voic': 4548, 'csp': 957, 'heaven': 1793, 'revit': 3627, 'salti': 3713, 'chicken': 757, 'economi': 1202, 'meowfashion': 2733, 'kentaro': 2198, 'goodman': 1618, 'europeoutsideyourtentfr': 1283, 'killingtim': 2210, 'seochodong': 3802, 'itzyryujin': 2044, 'ryujinitzi': 3697, 'kpopgirlgroup': 2279, 'kpopgirl': 2278, 'kpopfyp': 2276, 'phyp': 3327, 'kpopgirlsgroup': 2280, 'girlgroupstan': 1573, 'girlgroupkpop': 1572, 'loco': 2492, 'itzimimi': 2040, 'itzyjyp': 2043, 'kpopgg': 2277, 'admir': 37, 'mumodylif': 2942, 'leather': 2384, 'physician': 3329, 'aesthet': 51, 'fli': 1425, 'clean': 824, 'acn': 26, 'whiten': 4643, 'shuttl': 3881, 'moonbyuli': 2910, 't1fight': 4180, 'kkoma': 2252, 'doran': 1143, 'faker': 1336, 'diggent': 1085, 'unifi': 4444, 'unilion': 4446, 'ctbcbrother': 958, 'lott': 2517, 'ape': 160, 'rakutenmonkey': 3533, 'fubon': 1483, 'titan': 4328, 'fubonguardian': 1484, 'miquan': 2820, 'dragon': 1156, 'wdragon': 4596, 'stick': 4080, 'cpbl': 936, 'cpbl35': 937, 'wbsconelta': 4595, 'yangm': 4754, 'jiaotong': 2103, 'zhongshan': 4851, 'lck': 2374, 'dpluskia': 1152, 'welcomeback_khan': 4615, 'wbsc': 4594, 'champion': 716, 'yuzheng': 4823, 'data': 1025, 'holi': 1836, 'gong': 1614, 'biolog': 436, 'yaner': 4751, 'ditto': 1113, 'thankyou_kellin': 4263, 'jiexian': 2108, 'worlds2022': 4704, 'lolesport': 2500, 'esport': 1273, 'worlds2024': 4705, 'cktg2024': 817, 'gc': 1526, 'aov': 158, 'ankgam': 145, 'geolia': 1546, 'xinx': 4733, 'valiant': 4477, 't1win': 4182, 'redbullhomeground': 3568, 'shoheiohtani': 3852, 'ohtani': 3182, 'realli': 3558, 'dodgersstadium': 1118, 'offseason': 3178, 'holiday': 1837, 'sooooooamaz': 3988, 'loop': 2509, 'match': 2680, 'jiazheng': 2105, 'feel': 1373, 'aspir': 240, 'bloodi': 499, 'anyon': 154, 'idea': 1913, 'studywithm': 4125, 'studygram': 4124, 'bare': 317, 'cloud': 835, 'forest': 1454, 'bi': 412, 'lianjian': 2425, 'x': 4720, 'heit': 1797, 'send': 3796, 'piec': 3339, 'kuma': 2287, 'yushi': 4822, 'leagu': 2377, 'legend': 2395, 'hyung': 1898, 'secondari': 3774, 'orianna': 3221, 'arcanemem': 180, 'arcanejinx': 177, 't1valor': 4181, 'petlov': 3305, 'maori': 2645, 'twelv': 4412, 'money': 2877, 'lairefu': 2317, 'beverag': 406, 'yucheng': 4812, 'minimum': 2811, 'copper': 900, 'advanc': 45, 'main': 2586, 'drx': 1175, 'drxwin': 1176, 'enjoychalleng': 1259, 'minhyung': 2805, 'asar': 233, 'garnish': 1518, 'ryuminsok': 3698, 'valor': 4478, 'iso': 2025, 'gekko': 1535, 'seem': 3778, 'hsinchufood': 1862, 'hsinchufoodi': 1863, 'engin': 1250, 'bento': 391, 'geng': 1541, 'valu': 4479, 'haruka': 1771, 'boxian': 542}\n",
      "[[0 0 0 ... 0 0 0]\n",
      " [0 0 0 ... 0 0 0]\n",
      " [0 0 0 ... 0 0 0]\n",
      " ...\n",
      " [0 0 0 ... 0 0 0]\n",
      " [0 0 0 ... 0 0 0]\n",
      " [0 0 0 ... 0 0 0]]\n"
     ]
    }
   ],
   "source": [
    "import numpy as np\n",
    "import scipy as sp\n",
    "from sklearn.feature_extraction.text import CountVectorizer\n",
    "import nltk\n",
    "from nltk.corpus import stopwords\n",
    "from nltk.stem.porter import PorterStemmer\n",
    "import re\n",
    "from bs4 import BeautifulSoup\n",
    "\n",
    "def preprocessor(text):\n",
    "    # remove HTML tags\n",
    "    text = BeautifulSoup(text, 'html.parser').get_text()\n",
    "\n",
    "    # regex for matching emoticons, keep emoticons, ex: :), :-P, :-D\n",
    "    r = '(?::|;|=|X)(?:-)?(?:\\)|\\(|D|P)'\n",
    "    emoticons = re.findall(r, text)\n",
    "    text = re.sub(r, '', text)\n",
    "\n",
    "    # convert to lowercase and append all emoticons behind (with space in between)\n",
    "    # replace('-','') removes nose of emoticons\n",
    "    text = re.sub('[\\W]+', ' ', text.lower()) + ' ' + ' '.join(emoticons).replace('-','')\n",
    "    return text\n",
    "\n",
    "nltk.download('stopwords')\n",
    "stop = stopwords.words('english')\n",
    "\n",
    "def tokenizer_stem_nostop(text):\n",
    "    porter = PorterStemmer()\n",
    "    return [porter.stem(w) for w in re.split('\\s+', text.strip()) \\\n",
    "            if w not in stop and re.match('[a-zA-Z]+', w)]\n",
    "count = CountVectorizer(ngram_range=(1, 1),\n",
    "                        preprocessor=preprocessor,\n",
    "                        tokenizer=tokenizer_stem_nostop)\n",
    "\n",
    "count.fit(training_datalist[\"hashtag\"].to_numpy())\n",
    "BoW = count.vocabulary_\n",
    "print('[vocabulary]\\n{}'.format(BoW))\n",
    "doc_bag = count.transform(training_datalist[\"hashtag\"].to_numpy())\n",
    "doc_bag = doc_bag.toarray()\n",
    "print(doc_bag)"
   ]
  },
  {
   "cell_type": "code",
   "execution_count": 121,
   "metadata": {},
   "outputs": [],
   "source": [
    "def preProcessed(x, y):\n",
    "    x = x.astype(np.float64) \n",
    "    y = y.astype(np.float64)\n",
    "    y = y[:, np.newaxis]\n",
    "    combined = np.hstack((x, y))\n",
    "    nan_removed = combined[~np.isnan(combined).any(axis=1)]\n",
    "    x_train = nan_removed[:, :-1]\n",
    "    y_train = nan_removed[:, -1:]\n",
    "    #scaler = StandardScaler()\n",
    "    #x_train = scaler.fit_transform(x_train)\n",
    "    #y_train = scaler.fit_transform(y_train)\n",
    "    x_train[:, 0] = np.where(x_train[:, 0] > 0, np.log10(x_train[:, 0].clip(min=1e-10)), x_train[:, 0])\n",
    "    #x_train[:, 2] = np.where(x_train[:, 2] > 0, np.log10(x_train[:, 2].clip(min=1e-10)), x_train[:, 2])\n",
    "    #x_train[:, 3] = np.where(x_train[:, 3] > 0, np.log10(x_train[:, 3].clip(min=1e-10)), x_train[:, 3])\n",
    "    y_train[:, 0] = np.where(y_train[:, 0] > 0, np.log10(y_train[:, 0].clip(min=1e-10)), y_train[:, 0])\n",
    "    # x_train = (x_train - np.mean(x_train, axis=0)) / np.std(x_train, axis=0)\n",
    "    # y_train = (y_train - np.mean(y_train)) / np.std(y_train)\n",
    "    return x_train, y_train\n",
    "def split_data(X_train, Y_train, split_ratio=0.2):\n",
    "\n",
    "    x_split_size = int(len(X_train) * split_ratio)\n",
    "    y_split_size = int(len(Y_train) * split_ratio)\n",
    "    x_train = X_train[x_split_size:]\n",
    "    y_train = Y_train[y_split_size:]\n",
    "    x_val = X_train[:x_split_size]\n",
    "    y_val = Y_train[:y_split_size]\n",
    "\n",
    "    return x_train, y_train, x_val, y_val"
   ]
  },
  {
   "cell_type": "code",
   "execution_count": 122,
   "metadata": {},
   "outputs": [
    {
     "name": "stdout",
     "output_type": "stream",
     "text": [
      "[[ 12000.      1.     16.   6817.]\n",
      " [102000.      1.      1.   4905.]\n",
      " [ 12000.      1.     16.   6887.]\n",
      " ...\n",
      " [   313.      1.      1.      1.]\n",
      " [    25.      1.      1.      2.]\n",
      " [     9.      1.      1.      3.]]\n",
      "[6817. 4905. 6887. ...    1.    2.    3.]\n",
      "[[3.8336]\n",
      " [3.6906]\n",
      " [3.838 ]\n",
      " ...\n",
      " [0.    ]\n",
      " [0.301 ]\n",
      " [0.4771]]\n",
      "x_train shape: (2960, 4868), y_train shape: (2960, 1)\n",
      "x_val shape: (740, 4868), y_val shape: (740, 1)\n"
     ]
    }
   ],
   "source": [
    "xy = training_datalist[[\"followers\", \"is Photo\" ,\"hashtag_count\",\"Like Count\"]].to_numpy()\n",
    "weekday=training_datalist[[\"day_0\", \"day_1\",\"day_2\",\"day_3\",\"day_4\",\"day_5\",\"day_6\"]].to_numpy()\n",
    "print(xy)\n",
    "x = xy[:, :-1]\n",
    "x= np.hstack((x,weekday))  \n",
    "x= np.hstack((x,doc_bag))\n",
    "y = xy[:, -1]   \n",
    "print(y)\n",
    "x_processed, y_processed = preProcessed(x, y)\n",
    "print(y_processed)\n",
    "x_train, y_train, x_val, y_val = split_data(x_processed, y_processed, split_ratio=0.2)\n",
    "print(f\"x_train shape: {x_train.shape}, y_train shape: {y_train.shape}\")\n",
    "print(f\"x_val shape: {x_val.shape}, y_val shape: {y_val.shape}\")\n"
   ]
  },
  {
   "cell_type": "code",
   "execution_count": 127,
   "metadata": {},
   "outputs": [
    {
     "name": "stdout",
     "output_type": "stream",
     "text": [
      "0:\tlearn: 1.4309844\ttest: 1.3297493\tbest: 1.3297493 (0)\ttotal: 137ms\tremaining: 4m 33s\n",
      "100:\tlearn: 1.3716628\ttest: 1.2588385\tbest: 1.2588385 (100)\ttotal: 21.4s\tremaining: 6m 41s\n",
      "200:\tlearn: 1.3188244\ttest: 1.1950191\tbest: 1.1950191 (200)\ttotal: 46.5s\tremaining: 6m 56s\n",
      "300:\tlearn: 1.2732009\ttest: 1.1387936\tbest: 1.1387936 (300)\ttotal: 1m 11s\tremaining: 6m 42s\n",
      "400:\tlearn: 1.2331704\ttest: 1.0890506\tbest: 1.0890506 (400)\ttotal: 1m 35s\tremaining: 6m 22s\n",
      "500:\tlearn: 1.1983131\ttest: 1.0459668\tbest: 1.0459668 (500)\ttotal: 1m 59s\tremaining: 5m 57s\n",
      "600:\tlearn: 1.1674153\ttest: 1.0086480\tbest: 1.0086480 (600)\ttotal: 2m 23s\tremaining: 5m 34s\n",
      "700:\tlearn: 1.1399112\ttest: 0.9760425\tbest: 0.9760425 (700)\ttotal: 2m 47s\tremaining: 5m 10s\n",
      "800:\tlearn: 1.1162363\ttest: 0.9476272\tbest: 0.9476272 (800)\ttotal: 3m 12s\tremaining: 4m 48s\n",
      "900:\tlearn: 1.0947564\ttest: 0.9225096\tbest: 0.9225096 (900)\ttotal: 3m 38s\tremaining: 4m 26s\n",
      "1000:\tlearn: 1.0759166\ttest: 0.9005518\tbest: 0.9005518 (1000)\ttotal: 4m 4s\tremaining: 4m 3s\n",
      "1100:\tlearn: 1.0587086\ttest: 0.8812040\tbest: 0.8812040 (1100)\ttotal: 4m 29s\tremaining: 3m 39s\n",
      "1200:\tlearn: 1.0434888\ttest: 0.8641095\tbest: 0.8641095 (1200)\ttotal: 4m 54s\tremaining: 3m 15s\n",
      "1300:\tlearn: 1.0293286\ttest: 0.8492516\tbest: 0.8492516 (1300)\ttotal: 5m 18s\tremaining: 2m 51s\n",
      "1400:\tlearn: 1.0168081\ttest: 0.8370421\tbest: 0.8370421 (1400)\ttotal: 5m 42s\tremaining: 2m 26s\n",
      "1500:\tlearn: 1.0053856\ttest: 0.8262242\tbest: 0.8262242 (1500)\ttotal: 6m 8s\tremaining: 2m 2s\n",
      "1600:\tlearn: 0.9951874\ttest: 0.8167595\tbest: 0.8167595 (1600)\ttotal: 6m 31s\tremaining: 1m 37s\n",
      "1700:\tlearn: 0.9856219\ttest: 0.8088685\tbest: 0.8088685 (1700)\ttotal: 6m 57s\tremaining: 1m 13s\n",
      "1800:\tlearn: 0.9769144\ttest: 0.8019280\tbest: 0.8019280 (1800)\ttotal: 7m 21s\tremaining: 48.8s\n",
      "1900:\tlearn: 0.9688300\ttest: 0.7962279\tbest: 0.7962279 (1900)\ttotal: 7m 47s\tremaining: 24.3s\n",
      "1999:\tlearn: 0.9612935\ttest: 0.7914740\tbest: 0.7914740 (1999)\ttotal: 8m 11s\tremaining: 0us\n",
      "\n",
      "bestTest = 0.7914739538\n",
      "bestIteration = 1999\n",
      "\n",
      "Validation MSE: 0.6264\n"
     ]
    }
   ],
   "source": [
    "from catboost import CatBoostRegressor\n",
    "from sklearn.metrics import mean_squared_error\n",
    "\n",
    "# 假设数据已经准备好，x_train, y_train, x_val, y_val 是 numpy 数组\n",
    "\n",
    "x_train[:, 1] = x_train[:, 1].astype(int)\n",
    "\n",
    "\n",
    "# 初始化 CatBoost 回归模型\n",
    "model = CatBoostRegressor(\n",
    "    iterations=2000,             # 迭代次数\n",
    "    learning_rate=0.001,          # 学习率\n",
    "    depth=12,                    # 决策树深度\n",
    "    loss_function='RMSE',       # 损失函数，回归任务用 RMSE\n",
    "    random_seed=42,             # 随机种子，确保可复现性\n",
    "    verbose=100                 # 每隔多少次输出训练信息\n",
    ")\n",
    "\n",
    "# 将数据转换为合适的格式\n",
    "y_train = y_train.ravel()  # 确保 y_train 是一维数组\n",
    "y_val = y_val.ravel()\n",
    "\n",
    "cat_features = [1] \n",
    "model.fit(\n",
    "    x_train, y_train,\n",
    "    eval_set=(x_val, y_val),\n",
    "    use_best_model=True\n",
    ")\n",
    "\n",
    "# 验证模型\n",
    "y_pred = model.predict(x_val)\n",
    "\n",
    "# 计算均方误差 (MSE)\n",
    "mse = mean_squared_error(y_val, y_pred)\n",
    "print(f\"Validation MSE: {mse:.4f}\")\n"
   ]
  },
  {
   "cell_type": "code",
   "execution_count": null,
   "metadata": {},
   "outputs": [
    {
     "name": "stdout",
     "output_type": "stream",
     "text": [
      "MAPE on validation data: 20.159053841766266%\n"
     ]
    }
   ],
   "source": [
    "def MAPE(y_true, y_pred):\n",
    "    \"\"\"\n",
    "    Calculates Mean Absolute Percentage Error (MAPE) between the true and predicted values.\n",
    "\n",
    "    Parameters:\n",
    "    - y_true (numpy.ndarray): Actual values (ground truth).\n",
    "    - y_pred (numpy.ndarray): Predicted values.\n",
    "\n",
    "    Returns:\n",
    "    - float: MAPE value as a percentage.\n",
    "    \"\"\"\n",
    "\n",
    "    non_zero_indices = y_true != 0\n",
    "    y_true_filtered = y_true[non_zero_indices]\n",
    "    y_pred_filtered = y_pred[non_zero_indices]\n",
    "\n",
    "    ape = np.mean(np.abs((y_true_filtered - y_pred_filtered) / y_true_filtered)) * 100\n",
    "\n",
    "    return ape\n",
    "\n",
    "mape = MAPE(y_val, y_pred)\n",
    "print(f\"MAPE on validation data: {mape}%\")\n",
    "#2000 0.001 12\n",
    "\n"
   ]
  },
  {
   "cell_type": "code",
   "execution_count": 132,
   "metadata": {},
   "outputs": [
    {
     "name": "stdout",
     "output_type": "stream",
     "text": [
      "[[  956.9495]\n",
      " [ 2129.8821]\n",
      " [  956.9495]\n",
      " [  750.3983]\n",
      " [12435.294 ]\n",
      " [ 1202.5699]\n",
      " [ 1985.3902]\n",
      " [ 1902.8411]\n",
      " [  863.7983]\n",
      " [ 3609.3113]\n",
      " [ 2333.4883]\n",
      " [  809.8306]\n",
      " [ 5900.1245]\n",
      " [13276.6225]\n",
      " [ 1551.3888]\n",
      " [  930.1952]\n",
      " [  784.1989]\n",
      " [ 1961.7974]\n",
      " [ 9503.9433]\n",
      " [ 2492.5457]\n",
      " [ 3589.9071]\n",
      " [ 1443.1918]\n",
      " [ 3734.8918]\n",
      " [  914.4309]\n",
      " [ 2175.2253]\n",
      " [ 1000.6655]\n",
      " [ 2275.5147]\n",
      " [  482.2803]\n",
      " [ 3454.6676]\n",
      " [  687.0136]]\n",
      "[[ 6817.]\n",
      " [ 4905.]\n",
      " [ 6887.]\n",
      " [ 4174.]\n",
      " [16000.]\n",
      " [ 1958.]\n",
      " [ 2925.]\n",
      " [  270.]\n",
      " [ 3630.]\n",
      " [18000.]\n",
      " [15000.]\n",
      " [  387.]\n",
      " [ 7555.]\n",
      " [22000.]\n",
      " [    1.]\n",
      " [ 1944.]\n",
      " [ 1911.]\n",
      " [  341.]\n",
      " [10000.]\n",
      " [ 1506.]\n",
      " [ 4283.]\n",
      " [  770.]\n",
      " [35000.]\n",
      " [  235.]\n",
      " [  885.]\n",
      " [ 1988.]\n",
      " [ 1684.]\n",
      " [   75.]\n",
      " [  202.]\n",
      " [  733.]]\n"
     ]
    }
   ],
   "source": [
    "np.set_printoptions(precision=4,suppress=True)\n",
    "print(10 ** y_pred[0:30][:, np.newaxis])\n",
    "print(10**y_val[0:30].reshape(-1,1))"
   ]
  },
  {
   "cell_type": "code",
   "execution_count": null,
   "metadata": {},
   "outputs": [],
   "source": []
  },
  {
   "cell_type": "markdown",
   "metadata": {
    "id": "csS9lL8DCzZO"
   },
   "source": [
    "### Step 3: Implement Regression"
   ]
  },
  {
   "cell_type": "code",
   "execution_count": 200,
   "metadata": {
    "executionInfo": {
     "elapsed": 3,
     "status": "ok",
     "timestamp": 1727179518371,
     "user": {
      "displayName": "張瑜庭",
      "userId": "02186097122319016792"
     },
     "user_tz": -480
    },
    "id": "n8ftprTRC0Na"
   },
   "outputs": [],
   "source": [
    "def Regression(dataset, degree):\n",
    "    \"\"\"\n",
    "    Performs regression on the given dataset and return the coefficients.\n",
    "\n",
    "    Parameters:\n",
    "    - dataset (numpy.ndarray): A 2D array where each row represents a data point.\n",
    "\n",
    "    Returns:\n",
    "    - w (numpy.ndarray): The coefficients of the regression model. For example, y = w[0] + w[1] * x + w[2] * x^2 + ...\n",
    "    \"\"\"\n",
    "\n",
    "    X = dataset[:, :-1] # All columns except the last one (features)\n",
    "    y = dataset[:, -1] # Last column (target)\n",
    "\n",
    "    # Standardize the training data (mean and std are for later use)\n",
    "    mean = np.mean(X, axis=0)\n",
    "    std = np.std(X, axis=0)\n",
    "    X = (X - mean) / std\n",
    "\n",
    "    # Add polynomial features to X\n",
    "    X_poly = np.ones((X.shape[0], 1))  # Add intercept term (column of ones)\n",
    "    for d in range(1, degree + 1):\n",
    "        X_poly = np.hstack((X_poly, X ** d))  # Add x^d terms to feature matrix\n",
    "\n",
    "    # Initialize coefficients (weights) to zero\n",
    "    num_dimensions = X_poly.shape[1]  # Number of features (including intercept and polynomial terms)\n",
    "    print(f\"num_dimensions:{num_dimensions}\")\n",
    "    w = np.zeros(num_dimensions)\n",
    "    print(f\"X_poly.shape:{X_poly.shape}\")\n",
    "\n",
    "    # TODO: Set hyperparameters\n",
    "    if degree == 2 :\n",
    "      num_iteration = 30000\n",
    "      learning_rate = 0.002\n",
    "    if degree == 1 :\n",
    "      num_iteration = 500\n",
    "      learning_rate = 0.01\n",
    "\n",
    "    # Gradient Descent\n",
    "    m = len(y)  # Number of data points\n",
    "    for iteration in range(num_iteration):\n",
    "        # TODO: Prediction using current weights and compute error\n",
    "        y_pred = np.dot(X_poly, w)  # Prediction using current weights\n",
    "        error = y_pred - y  # Compute the error (residuals)\n",
    "\n",
    "        # TODO: Compute gradient\n",
    "        gradient = (1/m) * np.dot(X_poly.T, error)\n",
    "\n",
    "        # TODO: Update the weights\n",
    "        w = w - learning_rate * gradient\n",
    "\n",
    "        # Compute the cost (Mean Squared Error)\n",
    "        cost = (1/(2*m)) * np.sum(error ** 2)\n",
    "\n",
    "        # Optionally, print the cost every 100 iterations\n",
    "        if iteration % 100 == 0:\n",
    "            print(f\"Iteration {iteration}, Cost: {cost}\")\n",
    "\n",
    "    return w, mean, std  # Return the weights, mean, and std\n"
   ]
  },
  {
   "cell_type": "markdown",
   "metadata": {
    "id": "inqQ4lh8DFY6"
   },
   "source": [
    "### Step 4: Make Prediction"
   ]
  },
  {
   "cell_type": "code",
   "execution_count": 201,
   "metadata": {
    "executionInfo": {
     "elapsed": 3,
     "status": "ok",
     "timestamp": 1727179518371,
     "user": {
      "displayName": "張瑜庭",
      "userId": "02186097122319016792"
     },
     "user_tz": -480
    },
    "id": "WwGE2qjgDLwt"
   },
   "outputs": [],
   "source": [
    "\n",
    "def MakePrediction(w, test_dataset, degree):\n",
    "    \"\"\"\n",
    "    Predicts the output for a given test dataset using a regression model.\n",
    "\n",
    "    Parameters:\n",
    "    - w (numpy.ndarray): The coefficients of the model, where each element corresponds to\n",
    "                               a coefficient for the respective power of the independent variable.\n",
    "    - test_dataset (numpy.ndarray): A 1D array containing the input values (independent variable)\n",
    "                                          for which predictions are to be made.\n",
    "\n",
    "    Returns:\n",
    "    - list/numpy.ndarray: A list or 1d array of predicted values corresponding to each input value in the test dataset.\n",
    "    \"\"\"\n",
    "    prediction = []\n",
    "\n",
    "    # TODO\n",
    "\n",
    "    # Create a matrix with polynomial features for the test dataset\n",
    "    X_poly_test = np.ones((test_dataset.shape[0], 1))  # Start with a column of ones for the intercept term\n",
    "    for d in range(1, degree + 1):\n",
    "        X_poly_test = np.hstack((X_poly_test, test_dataset ** d))  # Add x^d terms\n",
    "\n",
    "    # Compute the predictions using the model's coefficients\n",
    "    prediction = np.dot(X_poly_test, w)  # dot product of the feature matrix and the weights\n",
    "    return prediction\n"
   ]
  },
  {
   "cell_type": "markdown",
   "metadata": {
    "id": "-q4qKXbDDmG9"
   },
   "source": [
    "### Step 5: Train Model and Generate Result\n",
    "\n",
    "Use the above functions to train your model on training dataset, and predict the answer of testing dataset.\n",
    "\n",
    "Save your predicted values in `output_datalist`\n",
    "\n"
   ]
  },
  {
   "cell_type": "code",
   "execution_count": null,
   "metadata": {
    "colab": {
     "base_uri": "https://localhost:8080/"
    },
    "executionInfo": {
     "elapsed": 4,
     "status": "ok",
     "timestamp": 1727179518372,
     "user": {
      "displayName": "張瑜庭",
      "userId": "02186097122319016792"
     },
     "user_tz": -480
    },
    "id": "coo82WvZDpMq",
    "outputId": "641e084d-25dd-456e-d3f6-26654dcde22f"
   },
   "outputs": [],
   "source": [
    "# TODO\n",
    "split_ratio = 0.8  # For example, 80% for training and 20% for validation\n",
    "degree = 1         # Polynomial degree\n",
    "# (1) Split data\n",
    "training_data, validation_data = SplitData(training_datalist, split_ratio)\n",
    "\n",
    "# (2) Preprocess data\n",
    "training_data = PreprocessData(training_data)\n",
    "validation_data = PreprocessData(validation_data)\n",
    "\n",
    "# (3) Train regression model\n",
    "w, mean, std = Regression(training_data, degree)\n",
    "\n",
    "# (4) Predict validation dataset's answer, calculate MAPE comparing to the ground truth\n",
    "def MAPE(y_true, y_pred):\n",
    "    \"\"\"\n",
    "    Calculates Mean Absolute Percentage Error (MAPE) between the true and predicted values.\n",
    "\n",
    "    Parameters:\n",
    "    - y_true (numpy.ndarray): Actual values (ground truth).\n",
    "    - y_pred (numpy.ndarray): Predicted values.\n",
    "\n",
    "    Returns:\n",
    "    - float: MAPE value as a percentage.\n",
    "    \"\"\"\n",
    "\n",
    "    return np.mean(np.abs((y_true - y_pred) / y_true)) * 100\n",
    "\n",
    "X_val = validation_data[:, :1]  # All columns except the last one (features)\n",
    "X_val = (X_val - mean) / std  # Standardize features\n",
    "y_val = validation_data[:, 1]   # Last column (target)\n",
    "\n",
    "# Make predictions on validation data\n",
    "y_val_pred = MakePrediction(w, X_val, degree)\n",
    "\n",
    "# Calculate MAPE\n",
    "mape = MAPE(y_val, y_val_pred)\n",
    "print(f\"MAPE on validation data: {mape}%\")\n",
    "\n",
    "# (5) Make prediction of testing dataset and store the values in output_datalist\n",
    "\n",
    "# Standardize using training mean and std\n",
    "X_test = (testing_datalist - mean) / std\n",
    "\n",
    "# Make predictions on the standardized testing data\n",
    "output_datalist = MakePrediction(w, X_test, degree)\n"
   ]
  },
  {
   "cell_type": "markdown",
   "metadata": {
    "id": "RW3NrFmGEEiG"
   },
   "source": [
    "### *Write the Output File*\n",
    "\n",
    "Write the prediction to output csv and upload the file to Kaggle\n",
    "> Format: 'Id', 'gripForce'\n"
   ]
  },
  {
   "cell_type": "code",
   "execution_count": 203,
   "metadata": {
    "executionInfo": {
     "elapsed": 3,
     "status": "ok",
     "timestamp": 1727179518372,
     "user": {
      "displayName": "張瑜庭",
      "userId": "02186097122319016792"
     },
     "user_tz": -480
    },
    "id": "Mo7rdhx0EFLn"
   },
   "outputs": [],
   "source": [
    "# Assume that output_datalist is a list (or 1d array) with length = 100\n",
    "\n",
    "with open(output_dataroot, 'w', newline='', encoding=\"utf-8\") as csvfile:\n",
    "  writer = csv.writer(csvfile)\n",
    "  writer.writerow(['Id', 'gripForce'])\n",
    "  for i in range(len(output_datalist)):\n",
    "    writer.writerow([i,output_datalist[i]])\n"
   ]
  },
  {
   "cell_type": "markdown",
   "metadata": {
    "id": "V1O2l8d2E3he"
   },
   "source": [
    "# 2. Advanced Part (45%)\n",
    "In the second part, you need to implement regression differently from the basic part to improve your grip force predictions. You must use more than two features.\n",
    "\n",
    "You can choose either matrix inversion or gradient descent for this part\n",
    "\n",
    "We have provided `lab1_advanced_training.csv` for your training\n",
    "\n",
    "> Notice: Be cautious of the \"gender\" attribute, as it is represented by \"F\"/\"M\" rather than a numerical value.\n",
    "\n",
    "Please save the prediction result in a CSV file and submit it to Kaggle"
   ]
  },
  {
   "cell_type": "code",
   "execution_count": 203,
   "metadata": {
    "executionInfo": {
     "elapsed": 3,
     "status": "ok",
     "timestamp": 1727179518372,
     "user": {
      "displayName": "張瑜庭",
      "userId": "02186097122319016792"
     },
     "user_tz": -480
    },
    "id": "K6hluh7UMB9C"
   },
   "outputs": [],
   "source": []
  },
  {
   "cell_type": "code",
   "execution_count": 204,
   "metadata": {
    "executionInfo": {
     "elapsed": 3,
     "status": "ok",
     "timestamp": 1727179518372,
     "user": {
      "displayName": "張瑜庭",
      "userId": "02186097122319016792"
     },
     "user_tz": -480
    },
    "id": "Us1kieIvcucL"
   },
   "outputs": [],
   "source": [
    "training_dataroot = 'lab1_advanced_training.csv' # Training data file file named as 'lab1_advanced_training.csv'\n",
    "testing_dataroot = 'lab1_advanced_testing.csv'   # Testing data file named as 'lab1_advanced_testing.csv'\n",
    "output_dataroot = 'lab1_advanced.csv' # Output file will be named as 'lab1_advanced.csv'\n",
    "\n",
    "training_datalist =  [] # Training datalist, saved as numpy array\n",
    "testing_datalist =  [] # Testing datalist, saved as numpy array\n",
    "\n",
    "output_datalist =  [] # Your prediction, should be a list with 3000 elements"
   ]
  },
  {
   "cell_type": "code",
   "execution_count": 205,
   "metadata": {
    "executionInfo": {
     "elapsed": 3,
     "status": "ok",
     "timestamp": 1727179518372,
     "user": {
      "displayName": "張瑜庭",
      "userId": "02186097122319016792"
     },
     "user_tz": -480
    },
    "id": "zAmzFZM-dCkG"
   },
   "outputs": [],
   "source": [
    "# Read input csv to datalist\n",
    "with open(training_dataroot, newline='') as csvfile:\n",
    "  training_datalist = pd.read_csv(training_dataroot).to_numpy()\n",
    "\n",
    "with open(testing_dataroot, newline='') as csvfile:\n",
    "  testing_datalist = pd.read_csv(testing_dataroot).to_numpy()"
   ]
  },
  {
   "cell_type": "code",
   "execution_count": null,
   "metadata": {
    "colab": {
     "base_uri": "https://localhost:8080/"
    },
    "executionInfo": {
     "elapsed": 8503,
     "status": "ok",
     "timestamp": 1727179526872,
     "user": {
      "displayName": "張瑜庭",
      "userId": "02186097122319016792"
     },
     "user_tz": -480
    },
    "id": "NSMzOXFAo2P0",
    "outputId": "1b794865-0f1e-4108-fd61-2fe62973556f"
   },
   "outputs": [],
   "source": [
    "# TODO\n",
    "split_ratio = 0.8  # For example, 80% for training and 20% for validation\n",
    "degree = 2         # Polynomial degree\n",
    "# (1) Split data\n",
    "training_data, validation_data = SplitData(training_datalist, split_ratio)\n",
    "\n",
    "# (2) Preprocess data\n",
    "mapping = {'F': 1, 'M': 2}\n",
    "\n",
    "# Transform gender values\n",
    "gender_column = training_data[:, 1]  # Extract the gender column\n",
    "# Apply mapping: map 'F' to 1, 'M' to 2, and leave np.nan unchanged\n",
    "gender_column_mapped = np.where(gender_column == 'F', 1, np.where(gender_column == 'M', 2, gender_column))\n",
    "training_data[:, 1] = gender_column_mapped  # Update the dataset with mapped values\n",
    "\n",
    "# Transform gender values\n",
    "gender_column = validation_data[:, 1]  # Extract the gender column\n",
    "# Apply mapping: map 'F' to 1, 'M' to 2, and leave np.nan unchanged\n",
    "gender_column_mapped = np.where(gender_column == 'F', 1, np.where(gender_column == 'M', 2, gender_column))\n",
    "validation_data[:, 1] = gender_column_mapped  # Update the dataset with mapped values\n",
    "\n",
    "training_data = PreprocessData(training_data)\n",
    "validation_data = PreprocessData(validation_data)\n",
    "\n",
    "# (3) Train regression model\n",
    "w, mean, std = Regression(training_data, degree)\n",
    "\n",
    "# (4) Predict validation dataset's answer, calculate MAPE comparing to the ground truth\n",
    "def MAPE(y_true, y_pred):\n",
    "    \"\"\"\n",
    "    Calculates Mean Absolute Percentage Error (MAPE) between the true and predicted values.\n",
    "\n",
    "    Parameters:\n",
    "    - y_true (numpy.ndarray): Actual values (ground truth).\n",
    "    - y_pred (numpy.ndarray): Predicted values.\n",
    "\n",
    "    Returns:\n",
    "    - float: MAPE value as a percentage.\n",
    "    \"\"\"\n",
    "\n",
    "    return np.mean(np.abs((y_true - y_pred) / y_true)) * 100\n",
    "\n",
    "# (4) Predict validation dataset's answer, calculate MAPE comparing to the ground truth\n",
    "X_val = validation_data[:, :-1]  # All columns except the last one (features)\n",
    "X_val = (X_val - mean) / std  # Standardize features\n",
    "y_val = validation_data[:, -1]   # Last column (target)\n",
    "\n",
    "# Make predictions on validation data\n",
    "y_val_pred = MakePrediction(w, X_val, degree)\n",
    "\n",
    "# Calculate MAPE\n",
    "mape = MAPE(y_val, y_val_pred)\n",
    "print(f\"MAPE on validation data: {mape}%\")\n",
    "\n",
    "# (5) Make prediction of testing dataset and store the values in output_datalist\n",
    "\n",
    "# Transform gender values\n",
    "gender_column = testing_datalist[:, 1]  # Extract the gender column\n",
    "# Apply mapping: map 'F' to 1, 'M' to 2, and leave np.nan unchanged\n",
    "gender_column_mapped = np.where(gender_column == 'F', 1, np.where(gender_column == 'M', 2, gender_column))\n",
    "testing_datalist[:, 1] = gender_column_mapped  # Update the dataset with mapped values\n",
    "\n",
    "# Standardize using training mean and std\n",
    "X_test = (testing_datalist - mean) / std\n",
    "\n",
    "# Make predictions on the standardized testing data\n",
    "output_datalist = MakePrediction(w, X_test, degree)"
   ]
  },
  {
   "cell_type": "markdown",
   "metadata": {
    "id": "uVz38ASe-gGV"
   },
   "source": [
    "# Save the Code File\n",
    "Please save your code and submit it as an ipynb file! (**Lab1.ipynb**)"
   ]
  },
  {
   "cell_type": "code",
   "execution_count": 206,
   "metadata": {
    "executionInfo": {
     "elapsed": 2,
     "status": "ok",
     "timestamp": 1727179526872,
     "user": {
      "displayName": "張瑜庭",
      "userId": "02186097122319016792"
     },
     "user_tz": -480
    },
    "id": "d3Nzz4PijHP-"
   },
   "outputs": [],
   "source": []
  }
 ],
 "metadata": {
  "colab": {
   "provenance": []
  },
  "kernelspec": {
   "display_name": "Python 3",
   "name": "python3"
  },
  "language_info": {
   "codemirror_mode": {
    "name": "ipython",
    "version": 3
   },
   "file_extension": ".py",
   "mimetype": "text/x-python",
   "name": "python",
   "nbconvert_exporter": "python",
   "pygments_lexer": "ipython3",
   "version": "3.11.9"
  }
 },
 "nbformat": 4,
 "nbformat_minor": 0
}
