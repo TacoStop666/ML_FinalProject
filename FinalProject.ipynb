{
 "cells": [
  {
   "cell_type": "markdown",
   "metadata": {
    "id": "egBMMLGV_X_x"
   },
   "source": [
    "### Import Packages\n"
   ]
  },
  {
   "cell_type": "code",
   "execution_count": 2,
   "metadata": {
    "executionInfo": {
     "elapsed": 589,
     "status": "ok",
     "timestamp": 1727179517871,
     "user": {
      "displayName": "張瑜庭",
      "userId": "02186097122319016792"
     },
     "user_tz": -480
    },
    "id": "WhhUTua487C-"
   },
   "outputs": [],
   "source": [
    "import numpy as np\n",
    "import matplotlib.pyplot as plt\n",
    "import pandas as pd\n",
    "import csv\n",
    "import math\n",
    "import random"
   ]
  },
  {
   "cell_type": "markdown",
   "metadata": {
    "id": "8iuXHvhLALwz"
   },
   "source": [
    "### Global attributes"
   ]
  },
  {
   "cell_type": "code",
   "execution_count": 3,
   "metadata": {
    "executionInfo": {
     "elapsed": 4,
     "status": "ok",
     "timestamp": 1727179518371,
     "user": {
      "displayName": "張瑜庭",
      "userId": "02186097122319016792"
     },
     "user_tz": -480
    },
    "id": "wXZVhdp8-flF"
   },
   "outputs": [],
   "source": [
    "training_dataroot = 'translated_output2.csv'\n",
    "# testing_dataroot = 'lab1_basic_testing.csv'\n",
    "output_dataroot = 'lab1_basic.csv' \n",
    "\n",
    "training_datalist =  [] \n",
    "# testing_datalist =  [] # Testing datalist, saved as numpy array\n",
    "\n",
    "output_datalist =  [] "
   ]
  },
  {
   "cell_type": "markdown",
   "metadata": {
    "id": "IyTqIRxQAtWj"
   },
   "source": [
    "### Load the Input File"
   ]
  },
  {
   "cell_type": "code",
   "execution_count": 4,
   "metadata": {
    "executionInfo": {
     "elapsed": 4,
     "status": "ok",
     "timestamp": 1727179518371,
     "user": {
      "displayName": "張瑜庭",
      "userId": "02186097122319016792"
     },
     "user_tz": -480
    },
    "id": "KUzYjoq9AwRp"
   },
   "outputs": [],
   "source": [
    "# Read input csv to datalist\n",
    "with open(training_dataroot, newline='') as csvfile:\n",
    "  training_datalist = pd.read_csv(training_dataroot).to_numpy()\n",
    "\n",
    "# with open(testing_dataroot, newline='') as csvfile:\n",
    "#   testing_datalist = pd.read_csv(testing_dataroot).to_numpy()"
   ]
  },
  {
   "cell_type": "code",
   "execution_count": 5,
   "metadata": {},
   "outputs": [
    {
     "name": "stdout",
     "output_type": "stream",
     "text": [
      "[\"polarbear ,icecream ,aiart ,artcommunity ,cub ,cutebear ,art ,polar ,arctic ,ice-cream'\"\n",
      " \"Crispy fried chicken chop ,Crispy fried shrimp ,Hualien ,Hualien City ,Hualien Food ,Hualien Simple ,Hualien lunch ,Hualien Dinner ,Eat Hualien with great heart ,Picnic picnic ,Pine garden annex ,gourmet food ,Ingredients'\"\n",
      " \"Cause ,Stalk ,Oblinter stalk ,Mag ,memes ,Sharing ,joke ,Sneer ,funny ,Funny movie ,Humorous quotation ,change ,Lu Guangzhong ,singer ,muscle ,fitness'\"\n",
      " ... \"Soda ,sodagreen ,Soda ,sodagreen ,20thAnniversaryConcertTour'\"\n",
      " \"Black and white chef '\" 'no hashtage']\n"
     ]
    }
   ],
   "source": [
    "print(training_datalist[:,7])"
   ]
  },
  {
   "cell_type": "markdown",
   "metadata": {
    "id": "QFXG-axpAcom"
   },
   "source": [
    "### Implement the Regression Model"
   ]
  },
  {
   "cell_type": "markdown",
   "metadata": {
    "id": "9bqYH_MvBv4v"
   },
   "source": [
    "#### Step 1: Split Data\n",
    "Split data in *training_datalist* into training dataset and validation dataset\n"
   ]
  },
  {
   "cell_type": "code",
   "execution_count": 5,
   "metadata": {
    "executionInfo": {
     "elapsed": 4,
     "status": "ok",
     "timestamp": 1727179518371,
     "user": {
      "displayName": "張瑜庭",
      "userId": "02186097122319016792"
     },
     "user_tz": -480
    },
    "id": "6K2QUnt-A-1r"
   },
   "outputs": [],
   "source": [
    "def SplitData(data, split_ratio):\n",
    "    \"\"\"\n",
    "    Splits the given dataset into training and validation sets based on the specified split ratio.\n",
    "\n",
    "    Parameters:\n",
    "    - data (numpy.ndarray): The dataset to be split. It is expected to be a 2D array where each row represents a data point and each column represents a feature.\n",
    "    - split_ratio (float): The ratio of the data to be used for training. For example, a value of 0.8 means 80% of the data will be used for training and the remaining 20% for validation.\n",
    "\n",
    "    Returns:\n",
    "    - training_data (numpy.ndarray): The portion of the dataset used for training.\n",
    "    - validation_data (numpy.ndarray): The portion of the dataset used for validation.\n",
    "\n",
    "    \"\"\"\n",
    "    training_data = []\n",
    "    validation_data = []\n",
    "\n",
    "    # TODO\n",
    "    # Shuffle the data to ensure randomness\n",
    "    np.random.shuffle(data)\n",
    "\n",
    "    # Calculate the split index based on the ratio\n",
    "    split_index = int(len(data) * split_ratio)\n",
    "\n",
    "    # Split the data into training and validation sets\n",
    "    training_data = data[:split_index]\n",
    "    validation_data = data[split_index:]\n",
    "\n",
    "    return training_data, validation_data\n",
    "\n"
   ]
  },
  {
   "cell_type": "markdown",
   "metadata": {
    "id": "-miSLyewCeME"
   },
   "source": [
    "#### Step 2: Preprocess Data\n",
    "Handle unreasonable data and missing data\n",
    "\n",
    "> Hint 1: Outliers and missing data can be addressed by either removing them or replacing them using statistical methods (e.g., the mean of all data).\n",
    "\n",
    "> Hint 2: Missing data are represented as `np.nan`, so functions like `np.isnan()` can be used to detect them.\n",
    "\n",
    "> Hint 3: Methods such as the Interquartile Range (IQR) can help detect outliers"
   ]
  },
  {
   "cell_type": "code",
   "execution_count": 199,
   "metadata": {
    "executionInfo": {
     "elapsed": 4,
     "status": "ok",
     "timestamp": 1727179518371,
     "user": {
      "displayName": "張瑜庭",
      "userId": "02186097122319016792"
     },
     "user_tz": -480
    },
    "id": "jR4TYnwwCrci"
   },
   "outputs": [],
   "source": [
    "def PreprocessData(data):\n",
    "    \"\"\"\n",
    "    Preprocess the given dataset and return the result.\n",
    "\n",
    "    Parameters:\n",
    "    - data (numpy.ndarray): The dataset to preprocess. It is expected to be a 2D array where each row represents a data point and each column represents a feature.\n",
    "\n",
    "    Returns:\n",
    "    - preprocessedData (numpy.ndarray): Preprocessed data.\n",
    "    \"\"\"\n",
    "\n",
    "    preprocessedData = []\n",
    "\n",
    "    # -----------------------------------------------------------------------------------\n",
    "    # only for advance\n",
    "    # # Handle gender column (second column)\n",
    "    # mapping = {'F': 1, 'M': 2}\n",
    "\n",
    "    # # Transform gender values\n",
    "    # gender_column = data[:, 1]  # Extract the gender column\n",
    "    # # Apply mapping: map 'F' to 1, 'M' to 2, and leave np.nan unchanged\n",
    "    # gender_column_mapped = np.where(gender_column == 'F', 1, np.where(gender_column == 'M', 2, gender_column))\n",
    "    # data[:, 1] = gender_column_mapped  # Update the dataset with mapped values\n",
    "\n",
    "    # -----------------------------------------------------------------------------------\n",
    "\n",
    "    # Convert data to a float type to handle np.nan and numerical operations\n",
    "    data = data.astype(float)\n",
    "\n",
    "    # Handle missing data: Replace np.nan with the mean of each column\n",
    "    col_means = np.nanmean(data, axis=0)  # Compute the mean of each column ignoring np.nan\n",
    "    inds = np.where(np.isnan(data))  # Find indices of np.nan values\n",
    "    data[inds] = np.take(col_means, inds[1])  # Replace np.nan with the column mean\n",
    "\n",
    "    # Handle outliers using Interquartile Range (IQR)\n",
    "    def remove_outliers(data):\n",
    "        # Calculate IQR for each column\n",
    "        Q1 = np.percentile(data, 25, axis=0)\n",
    "        Q3 = np.percentile(data, 75, axis=0)\n",
    "        IQR = Q3 - Q1\n",
    "\n",
    "        # Define bounds for outliers\n",
    "        lower_bound = Q1 - 2 * IQR\n",
    "        upper_bound = Q3 + 2 * IQR\n",
    "\n",
    "        # Find rows where all features are within bounds\n",
    "        within_bounds = np.all((data >= lower_bound) & (data <= upper_bound), axis=1)\n",
    "\n",
    "        # Return the data without outliers\n",
    "        return data[within_bounds]\n",
    "\n",
    "    # Remove outliers\n",
    "    preprocessedData = remove_outliers(data)\n",
    "\n",
    "    return preprocessedData"
   ]
  },
  {
   "cell_type": "markdown",
   "metadata": {},
   "source": [
    "### Process Hashtag"
   ]
  },
  {
   "cell_type": "code",
   "execution_count": 6,
   "metadata": {},
   "outputs": [
    {
     "name": "stdout",
     "output_type": "stream",
     "text": [
      "['runners', 'like', 'running', 'and', 'thus', 'they', 'run']\n",
      "['runner', 'like', 'run', 'and', 'thu', 'they', 'run']\n"
     ]
    },
    {
     "name": "stderr",
     "output_type": "stream",
     "text": [
      "[nltk_data] Downloading package wordnet to\n",
      "[nltk_data]     C:\\Users\\sammy\\AppData\\Roaming\\nltk_data...\n",
      "[nltk_data]   Package wordnet is already up-to-date!\n",
      "[nltk_data] Downloading package omw-1.4 to\n",
      "[nltk_data]     C:\\Users\\sammy\\AppData\\Roaming\\nltk_data...\n",
      "[nltk_data]   Package omw-1.4 is already up-to-date!\n"
     ]
    },
    {
     "name": "stdout",
     "output_type": "stream",
     "text": [
      "run\n",
      "['runner', 'like', 'run', 'thu', 'run']\n",
      "[example documents]\n",
      "Study hard, then you will be happy and I will be happy\n",
      "\"I'm not happy :(\" \", because you don't study hard\n",
      "\n",
      "[vocabulary]\n",
      "{'studi': 2, 'hard': 1, 'happi': 0}\n",
      "[[2 1 1]\n",
      " [1 1 1]]\n"
     ]
    },
    {
     "name": "stderr",
     "output_type": "stream",
     "text": [
      "[nltk_data] Downloading package stopwords to\n",
      "[nltk_data]     C:\\Users\\sammy\\AppData\\Roaming\\nltk_data...\n",
      "[nltk_data]   Package stopwords is already up-to-date!\n",
      "C:\\Users\\sammy\\AppData\\Local\\Packages\\PythonSoftwareFoundation.Python.3.11_qbz5n2kfra8p0\\LocalCache\\local-packages\\Python311\\site-packages\\sklearn\\feature_extraction\\text.py:521: UserWarning: The parameter 'token_pattern' will not be used since 'tokenizer' is not None'\n",
      "  warnings.warn(\n"
     ]
    }
   ],
   "source": [
    "import re\n",
    "from bs4 import BeautifulSoup\n",
    "\n",
    "def preprocessor(text):\n",
    "    # remove HTML tags\n",
    "    text = BeautifulSoup(text, 'html.parser').get_text()\n",
    "\n",
    "    # regex for matching emoticons, keep emoticons, ex: :), :-P, :-D\n",
    "    r = '(?::|;|=|X)(?:-)?(?:\\)|\\(|D|P)'\n",
    "    emoticons = re.findall(r, text)\n",
    "    text = re.sub(r, '', text)\n",
    "\n",
    "    # convert to lowercase and append all emoticons behind (with space in between)\n",
    "    # replace('-','') removes nose of emoticons\n",
    "    text = re.sub('[\\W]+', ' ', text.lower()) + ' ' + ' '.join(emoticons).replace('-','')\n",
    "    return text\n",
    "\n",
    "def tokenizer(text):\n",
    "    return re.split('\\s+', text.strip())\n",
    "\n",
    "print(tokenizer('runners like running and thus they run'))\n",
    "\n",
    "from nltk.stem.porter import PorterStemmer\n",
    "\n",
    "def tokenizer_stem(text):\n",
    "    porter = PorterStemmer()\n",
    "    return [porter.stem(word) for word in re.split('\\s+', text.strip())]\n",
    "\n",
    "print(tokenizer_stem('runners like running and thus they run'))\n",
    "\n",
    "import nltk\n",
    "from nltk.stem import WordNetLemmatizer\n",
    "\n",
    "nltk.download('wordnet')\n",
    "nltk.download('omw-1.4')\n",
    "\n",
    "def lemmatizer_stem(word, part_of_sppech):\n",
    "    lemmatizer=WordNetLemmatizer()\n",
    "    return lemmatizer.lemmatize(word, pos=part_of_sppech)\n",
    "\n",
    "print (lemmatizer_stem('running','v'))\n",
    "\n",
    "import nltk\n",
    "from nltk.corpus import stopwords\n",
    "from nltk.stem.porter import PorterStemmer\n",
    "\n",
    "nltk.download('stopwords')\n",
    "stop = stopwords.words('english')\n",
    "\n",
    "def tokenizer_stem_nostop(text):\n",
    "    porter = PorterStemmer()\n",
    "    return [porter.stem(w) for w in re.split('\\s+', text.strip()) \\\n",
    "            if w not in stop and re.match('[a-zA-Z]+', w)]\n",
    "\n",
    "print(tokenizer_stem_nostop('runners like running and thus they run'))\n",
    "import numpy as np\n",
    "import scipy as sp\n",
    "from sklearn.feature_extraction.text import CountVectorizer\n",
    "\n",
    "doc_dummy = [\"Study hard, then you will be happy and I will be happy\",\n",
    "           \"\\\"I'm not happy :(\\\" \\\", because you don't study hard\"]\n",
    "print('[example documents]\\n{}\\n'.format('\\n'.join(doc_dummy)))\n",
    "\n",
    "# ngram_range=(min,max), default: 1-gram => (1,1)\n",
    "count = CountVectorizer(ngram_range=(1, 1),\n",
    "                        preprocessor=preprocessor,\n",
    "                        tokenizer=tokenizer_stem_nostop)\n",
    "\n",
    "count.fit(doc_dummy)\n",
    "\n",
    "# dictionary is stored in vocabulary_\n",
    "BoW = count.vocabulary_\n",
    "print('[vocabulary]\\n{}'.format(BoW))\n",
    "# get matrix (doc_id, vocabulary_id) --> tf\n",
    "doc_bag = count.transform(doc_dummy)\n",
    "doc_bag = doc_bag.toarray()\n",
    "print(doc_bag)"
   ]
  },
  {
   "cell_type": "code",
   "execution_count": null,
   "metadata": {},
   "outputs": [
    {
     "name": "stdout",
     "output_type": "stream",
     "text": [
      "[vocabulary]\n",
      "{'polarbear': 4789, 'icecream': 2728, 'aiart': 114, 'artcommun': 318, 'cub': 1374, 'cutebear': 1402, 'art': 314, 'polar': 4788, 'arctic': 292, 'ice': 2726, 'cream': 1346, 'crispi': 1365, 'fri': 2085, 'chicken': 1084, 'chop': 1120, 'shrimp': 5520, 'hualien': 2661, 'citi': 1147, 'food': 2042, 'simpl': 5553, 'lunch': 3675, 'dinner': 1579, 'eat': 1712, 'great': 2298, 'heart': 2532, 'picnic': 4701, 'pine': 4714, 'garden': 2150, 'annex': 239, 'gourmet': 2280, 'ingredi': 2812, 'caus': 999, 'stalk': 5776, 'oblint': 4483, 'mag': 3704, 'meme': 3910, 'share': 5461, 'joke': 3041, 'sneer': 5628, 'funni': 2105, 'movi': 4187, 'humor': 2679, 'quotat': 4984, 'chang': 1038, 'lu': 3663, 'guangzhong': 2328, 'singer': 5559, 'muscl': 4228, 'fit': 2011, 'snack': 5625, 'afternoon': 90, 'tea': 6024, 'fux': 2117, 'street': 5845, 'stone': 5823, 'cake': 883, 'famili': 1911, 'girn': 2225, 'hualienfood': 2662, 'hashtag': 2511, 'girhein': 2214, 'geoentertain': 2185, 'harpalgeo': 2504, 'geotv': 2188, 'abdullah': 9, 'kadwani': 3087, 'askurashi': 335, 'saleemghchanchi': 5295, 'imranz': 2776, 'case': 959, 'hariswahe': 2500, 'beenachaudhri': 531, 'song': 5675, 'dehe': 1508, 'grandma': 2290, 'chiayi': 1080, 'stori': 5827, 'interest': 2863, 'taiwanes': 5975, 'moho': 4104, 'jiewei': 3004, 'auspici': 378, 'fragrant': 2071, 'ah': 104, 'po': 4763, 'lifi': 3514, 'scenic': 5359, 'spot': 5752, 'tourism': 6237, 'recommend': 5066, 'warmth': 6569, 'move': 4183, 'sawa': 5347, 'explorepag': 1869, 'foreau': 2055, 'reel': 5080, 'instareel': 2852, 'viralreel': 6504, 'comedyreel': 1234, 'funnyreel': 2109, 'friendship': 2089, 'jugiyar': 3057, 'bff': 582, 'instagram': 2839, 'trend': 6271, 'instagood': 2837, 'reelsvideo': 5101, 'fypy': 2125, 'quoteshedyay': 4989, 'beauti': 525, 'new': 4362, 'vairalvideo': 6427, 'lowiq01': 3658, 'lowiq01andtherhythmmakersplu': 3659, 'challeng': 1032, 'hibiya': 2562, 'outdoor': 4563, 'music': 4234, 'hall': 2404, 'ichikawa': 2731, 'entertain': 1798, 'tiktok': 6162, 'viral': 6499, 'short': 5509, 'vs': 6546, 'youtubeshort': 6867, 'maikalyt': 3721, 'buttabomma': 868, 'allearjun': 167, 'pooja': 4801, 'hegd': 2541, 'danc': 1445, 'telugusong': 6067, 'telugu': 6055, 'breakfast': 780, 'cafe': 877, 'meowgenz': 3928, 'contrast': 1287, 'dedic': 1498, 'handsom': 2467, 'guy': 2356, 'japanes': 2944, 'boy': 763, 'face': 1887, 'valu': 6435, 'dog': 1617, 'slave': 5596, 'hound': 2648, 'system': 5941, 'friend': 2086, 'male': 3757, 'god': 2245, 'kota': 3282, 'miura': 4065, 'cat': 967, 'mirakota': 4048, 'fight': 1982, 'husband': 2692, 'abdomin': 8, 'japaneseboy': 2945, 'koreanboy': 3274, 'ab': 5, 'muscleboy': 4229, 'mmafight': 4081, 'burn': 859, 'red': 5071, 'learnfromzett': 3457, 'magic': 3706, 'bikost': 610, 'mannahero': 3797, 'tabl': 5946, 'bkmn': 631, 'bikosmanna': 609, 'educ': 1725, 'travel': 6265, 'trip': 6286, 'attract': 372, 'restaur': 5150, 'dine': 1575, 'room': 5221, 'taiwan': 5974, 'must': 4240, 'map': 3804, 'coupl': 1327, 'student': 5856, 'donghua': 1634, 'univers': 6404, 'tzu': 6349, 'chi': 1079, 'korean': 3271, 'style': 5869, 'dish': 1596, 'small': 5609, 'taipei': 5963, 'doubl': 1648, 'zhongshan': 6953, 'station': 5799, 'nail': 4275, 'meilai': 3897, 'dessert': 1538, 'district': 1603, 'unlimit': 6407, 'time': 6166, 'coffe': 1201, 'shop': 5505, 'tarot': 5994, 'daan': 1418, 'fish': 2004, 'sea': 5379, 'peacock': 4636, 'strong': 5853, 'peanut': 4638, 'strawberri': 5836, 'film': 1989, 'yan': 6769, 'yiwen': 6815, 'actress': 32, 'limit': 3526, 'supermarket': 5908, 'discount': 1590, 'super': 5901, 'commerci': 1242, 'drink': 1676, 'product': 4889, 'buy': 870, 'one': 4517, 'get': 2190, 'free': 2077, 'taichung': 5958, 'tainan': 5961, 'control': 1288, 'blueberri': 697, 'love': 3628, 'loveislov': 3638, 'loveforev': 3633, 'thoughtoftheday': 6138, 'thought': 6137, 'motivationalquot': 4173, 'explor': 1865, 'thisisvanlif': 6129, 'vanlifeproject': 6449, 'vanlif': 6442, 'vanlifestyl': 6451, 'vanlifediari': 6444, 'vanconvers': 6439, 'vanlifemov': 6448, 'sprintervanconvers': 5759, 'lifecom': 3509, 'sprintervan': 5758, 'sprinterconvers': 5757, 'sprintervanlif': 5760, 'vanbuild': 6437, 'vanlifeeurop': 6445, 'campervan': 902, 'enfurgomolam': 1766, 'houseonwheel': 2655, 'kitchenidea': 3235, 'greenkitchen': 2302, 'tinyhous': 6180, 'smallkitchen': 5613, 'smallbathroom': 5612, 'interior': 2864, 'emina': 1750, 'chees': 1062, 'diet': 1562, 'taoyuan': 5991, 'dudu': 1688, 'vikalsen7500': 6491, 'hotpot': 2646, 'event': 1837, 'tideview': 6154, 'safetyfirst': 5288, 'qiantangrivertidalbor': 4957, 'halloween': 2405, 'scareprank': 5353, 'scareactor': 5352, 'baxteravenu': 496, 'baxteravenuemorgu': 497, 'louisvil': 3627, 'indian': 2788, 'ram': 5020, 'caloramdarbar': 888, 'xiaowowi': 6731, 'rent': 5130, 'boyfriend': 765, 'reelsexplor': 5092, 'torto': 6232, 'exclus': 1854, 'motiv': 4169, 'vidamesurprenda': 6477, 'career': 937, 'polic': 4791, 'good': 2264, 'life': 3508, 'reelsfory': 5094, 'profession': 4892, 'lose': 3618, 'weight': 6594, 'tagify_app': 5954, 'motivationfit': 4174, 'viti': 6515, 'motivacaoetudo': 4171, 'phrase': 4693, 'concurseri': 1262, 'maromba': 3817, 'motivationtododia': 4175, 'motivacaosempr': 4172, 'studi': 5861, 'vidalev': 6476, 'gospel': 2276, 'reelspist': 5099, 'valitymaenaefacil': 6430, 'mechan': 3876, 'job': 3037, 'mechaniclif': 3877, 'mechanicproblem': 3878, 'solv': 5670, 'problem': 4883, 'idea': 2737, 'newtech': 4376, 'newtechnolog': 4377, 'thebest': 6105, 'satisfyingvideo': 5342, 'nextlevel': 4383, 'techworld': 6044, 'socignif': 5643, 'amaz': 186, 'techlov': 6038, 'jobdon': 3038, 'innov': 2820, 'skill': 5579, 'machin': 3692, 'gadget': 2131, 'ilovemyjob': 2764, 'omgrobot': 4515, 'diy': 1612, 'jcb': 2955, 'progress': 4894, 'engineeringmarvel': 1774, 'tool': 6223, 'heavymachin': 2538, 'mermaid': 3935, 'siren': 5563, 'anim': 218, 'nice': 4397, 'schön': 5364, 'fyp': 2121, 'attempt': 369, 'momlif': 4113, 'mom': 4109, 'blogger': 689, 'momhack': 4111, 'first': 2000, 'momsofinstagram': 4118, 'toddlerm': 6201, 'babi': 412, 'hack': 2369, 'babiesofinstagram': 413, 'toddlermomhack': 6202, 'babysafeti': 421, 'word': 6683, 'pre': 4854, 'sale': 5294, 'ticket': 6152, 'site': 5566, 'spring': 5754, 'rin': 5180, 'chunlang': 1135, 'festiv': 1973, 'hiroyuki': 2578, 'akiyama': 134, 'mountain': 4180, 'autumn': 384, 'nami': 4287, 'camp': 897, 'fresh': 2084, 'milk': 3977, 'yogurt': 6827, 'greec': 2299, 'french': 2082, 'top': 6225, 'fruit': 2093, 'jam': 2932, 'low': 3656, 'calori': 889, 'card': 926, 'slim': 5601, 'meal': 3869, 'fat': 1942, 'reduc': 5076, 'chocol': 1111, 'xuefang': 6759, 'yogeng': 6826, 'group': 2309, 'purchas': 4942, 'healthi': 2530, 'loss': 3620, 'oat': 4481, 'unifi': 6395, 'health': 2529, 'xiaohongshu': 6725, 'differentsceneri': 1564, 'magicalnatur': 3707, 'raretose': 5032, 'wonderfulview': 6672, 'desert': 1528, 'mansion': 3798, 'busi': 866, 'museum': 4231, 'zhongzheng': 6956, 'tourist': 6238, 'taipeifood': 5967, 'taipeitravel': 5969, 'taipeifoodi': 5968, 'taipeieat': 5965, 'taipeicoffe': 5964, 'leav': 3458, 'soul': 5701, 'road': 5188, 'sky': 5591, 'shore': 5508, 'append': 259, 'haveagoodnight': 2517, 'reyvaqueiro': 5162, 'pricilasenna': 4872, 'naovolta': 4299, 'clipsvideo': 1178, 'ootd': 4532, 'dailylook': 1430, 'daili': 1427, 'wear': 6586, 'diari': 1560, 'women': 6668, 'cloth': 1181, 'kesfetplatform01': 3173, 'medyareclam01': 3889, 'novemb': 4456, 'a101ganmet': 1, 'bimaktuel': 616, 'indyriml': 2798, 'duatia': 1685, 'social': 5640, 'media': 3880, 'domest': 1629, 'wed': 6589, 'design': 1529, 'annebebek': 238, 'canimoglum': 909, 'skint': 5584, 'skin': 5580, 'bodrum': 720, 'foça': 2069, 'selcuk': 5395, 'shoe': 5502, 'writer': 6702, 'balconi': 445, 'decor': 1497, 'hunter': 2688, 'winter': 6654, 'winteraespa': 6655, 'aespa': 70, 'aespawint': 78, 'spa': 5712, 'smeniorin': 5619, 'xhuong': 6719, 'whiplash': 6622, 'trendingreel': 6274, 'sadsong': 5284, 'nowtrend': 4458, 'instalik': 2846, 'instamood': 2848, 'yoshida': 6849, 'einen': 1734, 'cure': 1386, 'ahmedabad': 106, 'gujugotada': 2344, 'ahmedabad_instagram': 107, 'gujarat': 2339, 'guju': 2343, 'kathiyawadi': 3136, 'gujjugram': 2340, 'chel': 1066, 'cabilo': 874, 'gujjujalso': 2341, 'navasari': 4324, 'gunjantang': 2352, 'mehsana': 3894, 'bhuro': 590, 'shout': 5512, 'shoutout': 5513, 'say': 5348, 'botad': 753, 'mahesana': 3718, 'mincess': 3986, 'gujrati': 2342, 'kutch': 3327, 'kathiawadi': 3135, 'tg': 6096, 'otheryouphotographi': 4556, 'navsari': 4327, 'thunder': 6145, 'cinnamolol': 1144, 'instagramstrategi': 2845, 'digitalmarket': 1569, 'contentcr': 1284, 'reelsmarket': 5098, 'influencermarket': 2804, 'brandstrategi': 773, 'bar': 461, 'cultur': 1382, 'nourish': 4455, 'parent': 4601, 'songshan': 5683, 'villag': 6494, 'praiadosanjo': 4849, 'shark': 5465, 'sharkfish': 5466, 'ryotaro': 5262, 'kawaguchi': 3138, 'nishiyama': 4424, 'yoshiro': 6851, 'moe': 4101, 'hirao': 2575, 'fallontonight': 1908, 'day': 1470, 'six': 5567, 'day6_3rd_worldtour': 1472, 'forever_young': 2059, 'livenationtaiwan': 3574, 'long': 3605, 'hair': 2382, 'medium': 3886, 'perm': 4658, 'transform': 6258, 'bomb': 736, 'natur': 4313, 'volum': 6545, 'xinjiang': 6742, 'gourmetfood': 2281, 'chinatravel': 1094, 'teamalpha': 6027, 'alphamov': 174, 'believeinyourself': 550, 'fitnessinspir': 2015, 'inspireoth': 2827, 'gyminspir': 2361, 'gymlif': 2362, 'gymmotiv': 2363, 'gymgain': 2360, 'workoutmotiv': 6688, 'weighttrain': 6598, 'weightlift': 6595, 'fitfam': 2012, 'companion': 1248, 'gym': 2358, 'musclebuild': 4230, 'leanmuscl': 3452, 'inspir': 2826, 'influenc': 2803, 'posit': 4826, 'reelsinstagram': 5096, 'happi': 2484, 'instadaili': 2834, 'diwalistatu': 1609, 'diwalivib': 1611, 'diwali': 1607, 'baitoj': 440, 'happybhaojjj': 2486, 'dhatera': 1552, 'govardhan': 2282, 'puja': 4925, 'happygowardhanpuja': 2489, 'diwalistyl': 1610, 'diwaliliteoffestivel': 1608, 'funnyvideo': 2110, 'comedi': 1233, 'moviescen': 4195, 'movielin': 4190, 'movieaddict': 4188, 'movielov': 4191, 'thesolac': 6119, 'moviequot': 4193, 'tvshow': 6323, 'law': 3411, 'movieworld': 4198, 'movietim': 4197, 'cinema': 1141, 'hollywood': 2605, 'buff': 841, 'moviefact': 4189, 'cinematographi': 1143, 'movienight': 4192, 'quot': 4983, 'tvseri': 6322, 'moviestar': 4196, 'maker': 3732, 'quotesdaili': 4987, 'quotesfory': 4988, 'quotestorememb': 4990, 'filmphotographi': 1992, 'open': 4533, 'store': 5826, 'report': 5134, 'kiln': 3198, 'roast': 5190, 'pizza': 4733, 'grill': 2305, 'principl': 4878, 'napoli': 4301, 'napo': 4300, 'north': 4444, 'uncl': 6385, 'bake': 441, 'pizzeria': 4739, 'qiu': 4963, 'duo': 1693, 'linyu': 3536, 'lin': 3528, 'alwaysgood': 180, 'overwind': 4574, 'shock': 5501, 'wasp': 6573, 'kawaii': 3139, 'genderrevealshow': 2175, 'genderrev': 2173, 'genderrevealparti': 2174, 'pregnanc': 4859, 'pinkorblu': 4719, 'heorsh': 2551, 'gender': 2172, 'babyshoweridea': 422, 'itsaboy': 2907, 'itsagirl': 2908, 'babyontheway': 420, 'reveal': 5158, 'shower': 5517, 'exploremor': 1867, 'zhen': 6939, 'bubbleta': 834, 'bleak': 677, 'joyc': 3051, 'hot': 2643, 'pot': 4831, 'spici': 5739, 'ximend': 6736, 'trendingaudio': 6272, 'taitung': 5973, 'taito': 5972, 'mung': 4222, 'bean': 518, 'soup': 5704, 'coix': 1210, 'seed': 5393, 'wild': 6648, 'driftwoman': 1675, 'robot': 5196, 'creat': 1347, 'landmark': 3383, 'packag': 4579, 'line': 3529, 'onlin': 4526, 'form': 2061, 'physic': 4696, 'hello': 2544, 'hourjunglecafé': 2649, 'yuanchuan': 6873, 'user': 6418, 'quantiti': 4969, 'yet': 6797, 'happylifepartnerday': 2493, 'like': 3517, 'shilin': 5487, 'beanflow': 520, 'xingtian': 6740, 'palac': 4587, 'pud': 4923, 'foodphotographi': 2045, 'yummi': 6885, 'pasta': 4618, 'poatrichpar': 4765, 'sadedit': 5273, 'sadstatu': 5285, 'trendingnow': 6273, 'sadeditsemot': 5274, 'sadmovi': 5280, 'sadheartfeel': 5276, 'bachchanfamili': 423, 'aishwaryarai': 120, 'celios': 1008, 'bollywoodmovi': 733, 'bollywoodloway': 732, 'bollywoodlov': 731, 'golden': 2259, 'seri': 5434, 'oreo': 4544, 'hahababi': 2375, 'give': 2228, 'bestfriend': 570, 'bffgoal': 583, 'chold': 1114, 'note': 4450, 'brunch': 812, 'hong': 2621, 'kong': 3268, 'suprem': 5913, 'stayreal': 5807, 'luci': 3666, 'wonder': 6671, 'libet': 3506, 'wonderlivet2024': 6673, 'ai': 113, 'babyfashion': 415, 'cute': 1397, 'fashion': 1927, 'ida': 2735, 'hye': 2712, 'honor': 2628, 'leader': 3418, 'cheerlead': 1060, 'kia': 3189, 'tiger': 6160, 'li': 3499, 'duohui': 1694, 'basebal': 471, 'cheer': 1059, 'littl': 3568, 'dragon': 1659, 'girl': 2215, 'tianmu': 6150, 'stadium': 5771, 'miquan': 4047, 'pepsi': 4651, 'aoyama': 255, 'stage': 5772, 'market': 3816, 'million': 3982, 'huazhuo': 2665, 'hip': 2571, 'hop': 2634, 'roarnowbik': 5189, 'wan': 6557, 'hu': 2659, 'thank': 6099, 'watch': 6575, 'show': 5516, 'fan': 1914, 'brush': 819, 'infinit': 2800, 'mani': 3793, 'support': 5912, 'wumu': 6710, 'reelfel': 5083, 'relat': 5111, 'reelindia': 5086, 'memesdaili': 3912, 'emin': 1749, 'guo': 2353, 'tong': 6220, 'kk74': 3251, 'funload': 2104, 'samurai': 5317, 'mapl': 3805, 'sugar': 5880, 'poster': 4829, 'ell': 1740, 'live': 3571, 'circl': 1145, 'mcdonald': 3865, 'thick': 6124, 'bulletbuba': 846, 'istanbul': 2895, 'türkiy': 6351, 'turkey': 6307, 'bursa': 863, 'swanjah': 5925, 'distribut': 1602, 'trabzon': 6248, 'turkish': 6308, 'kuwait': 3328, 'saudi': 5344, 'arabia': 271, 'uae': 6353, 'qatar': 4954, 'sponsorship': 5747, 'keyth': 3177, 'color': 1225, 'drag': 1658, 'pink': 4716, 'magnet': 3711, 'cushion': 1391, 'glow': 2242, 'moist': 4105, 'brillianc': 791, 'water': 6576, 'light': 3515, 'dri': 1673, 'mulkwang': 4215, 'makeup': 3734, 'yalda': 6765, 'clamp': 1156, 'coat_night_ilda': 1195, 'papion': 4595, 'bazarardbel': 498, 'broadcast': 796, 'bow': 756, 'tie': 6155, 'headband': 2524, 'fantasi': 1918, 'accessori': 18, 'vulgar': 6548, 'hiro': 2576, 'honghong': 2623, 'second': 5388, 'five': 2018, 'shine': 5489, 'bloom': 692, 'public': 4919, 'artisan': 323, 'zhao': 6935, 'juanzhou': 3056, 'sacrific': 5269, 'emergefest': 1747, 'jerusalem': 2981, 'adventur': 64, 'park': 4603, 'hush': 2693, 'zoo': 6968, 'hous': 2650, 'hue': 2667, 'helsinki': 2546, 'lambda': 3379, 'club': 1184, 'mindbodi': 3988, 'akshakumar': 140, 'akshaya': 141, 'axi': 396, 'akshayafan': 142, 'akshayakumarkingdom': 143, 'akshaykumarstatu': 153, 'akshaykumarfanbas': 147, 'akshaykumarcomedi': 145, 'akshaykumarprideofindia': 151, 'auxyemamu': 386, 'akshayummem': 154, 'akshaykumardaili': 146, 'akshaykumarfanclub': 148, 'akshaykumarforev': 149, 'akshaykumar2021': 144, 'auxi': 385, 'akshaykumarquot': 152, 'akshaykumarmovi': 150, 'khilakumar': 3186, 'khiladi': 3185, 'akkiansforev': 136, 'akkia': 135, 'akkiasloway': 137, 'sanheyuan': 5325, 'old': 4507, 'daughter': 1467, 'barbecu': 463, 'thanksgiv': 6100, 'nameart': 4285, 'namevideo': 4286, 'lyric': 3685, 'marathilov': 3806, 'lovestori': 3651, 'romant': 5213, 'reelinstagram': 5087, 'goodnight': 2267, 'insta': 2828, 'igtv': 2755, 'instalov': 2847, 'statuslov': 5803, 'sad': 5270, 'breakup': 781, 'bolloywood': 729, 'whatsappastatu': 6618, 'explorelov': 1866, 'fact': 1892, 'okay': 4505, 'groundsfootwear': 2308, 'bell': 551, 'ken': 3158, 'tizzybac25th': 6194, 'sharehold': 5462, 'meet': 3891, 'listen': 3566, 'railway': 5012, 'camel': 893, 'cactu': 875, 'lemon': 3480, 'test': 6086, 'camelfact': 894, 'disass': 1587, 'instavir': 2856, 'solut': 5669, 'thesolut': 6120, 'grand': 2289, 'mint': 4043, 'tainanfood': 5962, 'pinkwibu': 4722, 'colorpop': 1228, 'inmyl': 2818, 'sassystyl': 5338, 'contentcreatorlif': 1286, 'streetstyl': 5849, 'aestheticvib': 83, 'modellifestyl': 4098, 'boldandbright': 728, 'before_thia': 535, 'winterfeel': 6656, 'feelinggood': 1958, 'kissememor': 3228, 'summervib': 5890, 'partyvib': 4615, 'warm': 6568, 'mood': 4146, 'ugc': 6372, 'ugccreat': 6376, 'commercialmodel': 1243, 'skirt': 5586, 'coat': 1194, 'kataman_majasi': 3132, 'dress': 1672, 'set_ilda': 5440, 'plase': 4749, 'stylish': 5871, 'take': 5979, 'transport': 6262, 'draw': 1665, 'towel': 6240, 'admiss': 56, 'rock': 5198, 'rockintaichung': 5199, 'livejapan': 3573, 'likejapan_': 3518, 'editor': 1724, 'depart': 1525, 'kaohsiung': 3119, 'christma': 1125, 'tree': 6270, 'merrychristma': 3936, 'christmastre': 1129, 'snowflak': 5635, 'skmpark': 5588, 'skmparkoutlet': 5589, 'caoyi': 914, 'indianstreetfood': 2790, 'viralfood': 6500, 'runrophon': 5251, 'crispyfoodst': 1366, 'candi': 907, 'send': 5410, 'uniqu': 6400, 'letter': 3493, 'handmad': 2466, 'materi': 3853, 'creativ': 1348, 'birthday': 625, 'gift': 2207, 'in': 2779, 'feng': 1967, 'greet': 2303, 'mariko': 3812, 'akama': 124, 'keisuk': 3156, 'nishito': 4423, 'tomohiro': 6216, 'ikeda': 2757, 'momoka': 4115, 'kitano': 3233, 'sannanoichi': 5327, 'yuki': 6882, 'komasui': 3265, 'aputur': 268, 'babe': 411, 'actor': 31, 'drama': 1662, 'koneko': 3267, 'feed': 1956, 'indonesia': 2792, 'homemad': 2614, 'foodstagram': 2048, 'jakarta': 2930, 'bandung': 453, 'malaysia': 3755, 'surabaya': 5914, 'foodi': 2044, 'cheap': 1056, 'home': 2607, 'culinari': 1379, 'cater': 975, 'kulinerjakarta': 3318, 'kulinarym': 3317, 'cherish': 1075, 'chen': 1069, 'peixian': 4644, 'jesslyn': 2984, 'rong': 5217, 'ayu': 400, 'cardtrick': 935, 'cardmag': 934, 'cardgam': 930, 'playingcard': 4753, 'shuffl': 5527, 'magician': 3708, 'trick': 6283, 'adisneychristma': 53, 'hkdisneyland': 2585, 'disneyland': 1598, 'yilan': 6805, 'accommod': 21, 'wendi': 6609, 'young': 6856, 'sarah': 5333, 'mainten': 3726, 'alga': 165, 'sunscreen': 5899, 'harunami': 2509, 'tunafish': 6304, 'fishingfunni': 2008, 'fishreleas': 2010, 'self': 5398, 'person': 4663, 'team': 6026, 'vlog': 6520, 'lightweight': 3516, 'tripod': 6288, 'outfitoftheday': 4569, 'xlarg': 6751, 'xlargejp': 6753, 'xlarge_snap': 6752, 'xlargeumeda': 6754, 'hepfiv': 2552, 'umeda': 6382, 'outfit': 4566, 'outfitinspir': 4568, 'outfitidea': 4567, 'coordin': 1299, 'video': 6481, 'weixi': 6601, 'loy': 3660, 'thousand': 6139, 'peopl': 4648, 'cola': 1211, 'tour': 6236, 'ding': 1576, 'che': 1055, 'pato': 4627, 'beck': 527, 'theband': 6104, 'ififel': 2747, 'iif': 2756, 'visit': 6512, 'lantern': 3394, 'ichigi': 2730, 'hom': 2606, 'best_find': 565, 'centenni': 1011, 'tochigi': 6198, 'donut': 1637, 'tomato': 6213, 'juic': 3058, 'alishan': 166, 'nation': 4309, 'forest': 2057, 'amus': 197, 'area': 294, 'b': 407, 'homestay': 2616, 'fila': 1987, 'pad': 4581, 'filaflow': 1988, 'han': 2460, 'hee': 2539, 'selfi': 5400, 'pond': 4798, 'haruita': 2507, 'joy': 3050, 'gima': 2210, 'retrospect': 5154, 'shoutouttoindiemus': 5514, 'knowledg': 3257, 'satellit': 5339, 'kass': 3130, 'cours': 1331, 'homeruntaiwan': 2615, 'citic': 1148, 'cup': 1383, 'black': 633, 'panther': 4594, 'banner': 457, 'gaoyuan': 2147, 'industri': 2795, 'commerc': 1241, 'compromis': 1254, 'medyareklam01': 3890, 'actual': 33, 'denebunom': 1515, 'poem': 4771, 'write': 6701, 'bikahv': 608, 'baharat': 436, 'mum': 4218, 'brown': 805, 'cover': 1333, 'yuan': 6871, 'full': 2100, 'given': 2231, 'annual': 243, 'preferenti': 4858, 'cassetti': 964, 'casetifytw': 961, 'muffin': 4209, 'coat_tess': 1196, 'streetfood': 5847, 'masahiro': 3841, 'yu': 6870, 'ogawa': 4496, 'shigeru': 5485, 'osako': 4551, 'nishitaka': 4422, 'makanan': 3729, 'choi': 1112, 'sang': 5322, 'yeop': 6792, 'overwhelm': 4573, 'harold': 2503, 'countrysid': 1326, 'nativ': 4310, 'bridg': 787, 'advertis': 65, 'chishang': 1103, 'jinyin': 3027, 'gimaxv': 2211, 'embarrass': 1744, 'punish': 4931, 'sing': 5558, 'competit': 1250, 'zhang': 6933, 'jiahong': 2994, 'win': 6651, 'a101aktüel': 0, 'poetri': 4772, 'furnitur': 2112, 'figur': 1986, 'beverag': 579, 'xinyi': 6743, 'shake': 5455, 'make': 3730, 'tri': 6281, 'hahabababi': 2374, 'murah': 4225, 'spice': 5738, 'summer': 5889, 'kulin': 3316, 'bikostar': 611, 'foryou': 2066, 'casetifi': 960, 'bear': 521, 'rescu': 5142, 'wildlif': 6649, 'conserv': 1272, 'ador': 61, 'savebear': 5346, 'discov': 1591, 'masker': 3844, 'class': 1157, 'komiksahnel': 3266, 'comic': 1238, 'güldürgüldürshow': 2365, 'gulumseaska': 2348, 'smile': 5620, 'guzelllik': 2357, 'sunset': 5900, 'hummu': 2678, 'morn': 4163, 'hayatvesigar': 2521, 'videogam': 6483, 'videostaredit': 6486, 'cpbl': 1338, 'portrait': 4822, 'photographi': 4690, 'chines': 1096, 'stick': 5817, 'reelskannada': 5097, 'reelstelugu': 5100, 'motivacaocarreiraspoliciai': 4170, 'vidaorganizada': 6480, 'vidadecao': 6474, 'vidadeconcurseiro': 6475, 'reelsgospel': 5095, 'ancient': 210, 'woman': 6667, 'hand': 2463, 'vira': 6498, 'viralvideo': 6505, 'pigeon': 4708, 'pigeonlov': 4709, 'michealbadalkabutar': 3954, 'dhule': 1554, 'constipatedbabi': 1276, 'gassybabi': 2153, 'newmomtip': 4368, 'newborn': 4365, 'newbornbabi': 4366, 'tip': 6181, 'chiropractor': 1102, 'pediatricadjust': 4642, 'constip': 1275, 'constipationrelief': 1277, 'babychiropractor': 414, 'blackbackground': 637, 'white': 6626, 'blank': 674, 'solidcolor': 5663, 'empti': 1754, 'cgstatu': 1016, 'radhikamerach': 5001, 'anantambani': 205, 'puzzl': 4948, 'confus': 1265, 'udaipur': 6356, 'udaipurupd': 6358, 'nathdwara': 4308, 'shreenathji': 5519, 'krishna': 3309, 'indianfestiv': 2789, 'cow': 1335, 'udaipurc': 6357, 'yuqi': 6892, 'instead': 2857, 'cam': 890, 'kpop': 3287, 'puppi': 4935, 'hidl': 2567, 'g_i_dl': 2128, 'raini': 5014, 'season': 5385, 'woo': 6676, 'ki': 3188, 'children': 1091, 'minni': 4035, 'soyeon': 5709, 'miyeon': 4073, 'shuhua': 5528, 'rice': 5169, 'favorit': 1949, 'bowl': 758, 'specialti': 5718, 'rakimi': 5019, 'restor': 5151, 'recoveri': 5069, 'rehabilit': 5109, 'adana': 37, 'sokaklezzetl': 5654, 'gudiya': 2334, 'somigudiya': 5672, 'dancereel': 1452, 'power': 4836, 'aimai': 118, 'berlin': 561, 'premier': 4862, 'bdgfolk': 511, 'vanlifebuild': 6443, 'vanclan': 6438, 'camper': 900, 'vanlifeidea': 6446, 'builtnotbought': 844, 'livingvanlif': 3578, 'vanlifemagazin': 6447, 'projectvanlif': 4899, 'tinyhom': 6179, 'woodwork': 6678, 'vandesign': 6441, 'smallspac': 5616, 'vwcrafter': 6549, 'sealif': 5382, 'hard': 2495, 'stay': 5804, 'porridg': 4818, 'jiexi': 3005, 'abroad': 11, 'prototyp': 4908, 'blood': 690, 'bodi': 719, 'sculptur': 5377, 'gu': 2325, 'shengnan': 5477, 'rumor': 5246, 'lusi': 3680, 'dew': 1550, 'zhaolusi': 6936, 'weibo': 6593, 'lizhen': 3580, 'flower': 2029, 'moon': 4148, 'tianlei': 6149, 'cyclon': 1415, 'wife': 6638, 'soda': 5645, 'sodagreen': 5646, 'green': 2301, 'twenti': 6327, 'year': 6783, 'moment': 4110, 'concert': 1258, 'thondimeenavan': 6133, 'aktodondi': 155, 'fisher': 2005, 'seafood': 5380, 'fishnet': 2009, 'fisherman': 2007, 'nativebeauti': 4311, 'ramnadu': 5027, 'ramanathapuram': 5023, 'lifestyl': 3513, 'trendingsong': 6277, 'tamilrock': 5983, 'ramanathapramdistr': 5022, 'teach': 6025, 'classroom': 1160, 'emer': 1745, 'exhibit': 1857, 'emerg': 1746, 'tick': 6151, 'talk': 5981, 'mr': 4200, 'lee': 3463, 'imer': 2769, 'jang': 2937, 'ive': 2914, 'iv': 2913, 'wonyoung': 6675, 'backup': 426, 'signatur': 5543, 'chu': 1131, 'promi': 4901, 'nine': 4410, 'ha': 2367, 'ji': 2992, 'semi': 5409, 'idol': 2741, 'my': 4252, 'east': 1709, 'gate': 2155, 'night': 4404, 'hualienifood': 2663, 'nutrit': 4464, 'diabet': 1556, 'guozi': 2354, 'femal': 1964, 'discipl': 1588, 'mulberri': 4214, 'find': 1996, 'land': 3382, 'luxi': 3682, 'tian': 6146, 'lei': 3479, 'oh': 4498, 'emperor': 1753, 'majesti': 3727, 'luofi': 3677, 'three': 6140, 'crow': 1369, 'kill': 3196, 'mo': 4086, 'yiyang': 6818, 'feel': 1957, 'dig': 1565, 'ramnadpasanga': 5026, 'emergencychalleng': 1748, 'soyon': 5710, 'nakashima': 4282, 'mika': 3969, 'cloudcak': 1183, 'puls': 4927, 'cupcak': 1384, 'cloud': 1182, 'fluffycak': 2031, 'weirdcor': 6599, 'strangefruit': 5835, 'tetsuko': 6087, 'prfm': 4870, 'adult': 63, 'iron': 2883, 'plate': 4750, 'recip': 5063, 'la': 3337, 'fun': 2103, 'bestoftheday': 573, 'landscap': 3385, 'videooftheday': 6485, 'artofinstagram': 325, 'artgalleri': 320, 'artwork': 330, 'asmr': 336, 'mukbangeatingshow': 4211, 'foreopg': 2056, 'mukbangeatingshowtiktok': 4212, 'mukbangkorea': 4213, 'band': 452, 'ktv': 3312, 'singl': 5562, 'stream': 5844, 'whocar': 6629, 'zepp': 6920, 'accumul': 23, 'kaier': 3090, 'place': 4740, 'cool': 1295, 'kaha': 3088, 'tide': 6153, 'magazin': 3705, 'man': 3776, 'billionair': 614, 'wufu': 6709, 'bed': 528, 'photo': 4687, 'derail': 1526, 'hahababy_': 2376, 'mark': 3815, 'mail': 3722, 'dolphin': 1627, 'lotteri': 3624, 'bior': 622, 'nirvana': 4419, 'gener': 2176, 'age': 91, 'milkshak': 3979, 'karina': 3125, 'aspa': 345, 'relayd': 5121, 'cigarett': 1138, 'kohataiwan': 3260, 'tao': 5990, 'headlin': 2525, 'carina': 941, 'content': 1283, 'real': 5050, 'koha': 3259, 'oliviarodrigo': 4513, 'billieeilish': 613, 'sabrinacarpent': 5268, 'potato': 4832, 'xiaobian': 6724, 'topick': 6228, 'galaxi': 2139, 'atrophi': 366, 'side': 5538, 'custodi': 1392, 'rare': 5031, 'diseas': 1595, 'think': 6128, 'daisuki': 1438, 'channel': 1042, 'powersea': 4840, 'appear': 258, 'emrg2025': 1755, 'keelung': 3153, 'yunlin': 6891, 'changhua': 1041, 'plan': 4742, 'schedul': 5360, 'list': 3565, 'sleep': 5599, 'account': 22, 'pocket': 4767, 'book': 739, 'stationeri': 5801, 'handwrit': 2468, 'seller': 5406, 'eleven': 1738, 'stationari': 5800, 'journal': 3048, 'planner': 4744, 'dailyplann': 1433, 'notebook': 4451, 'tim': 6165, 'follow': 2037, 'taiwanfood': 5976, 'activ': 30, 'xiaoqi': 6728, 'instant': 2851, 'articl': 321, 'mandarin': 3781, 'bead': 514, 'berri': 563, 'flavor': 2024, 'unpack': 6409, 'vinegar': 6496, 'chestnut': 1077, 'atm': 364, 'kottayam': 3284, 'pig': 4707, 'malamnew': 3754, 'attend': 370, 'school': 5363, 'punjabi': 4932, 'taeyeon': 5952, 'tango': 5988, 'underwear': 6391, 'agre': 94, 'honey': 2620, 'emot': 1751, 'yuna': 6887, 'concept': 1257, 'dogmat': 1619, 'death': 1492, 'nuclear': 4462, 'empathi': 1752, 'dorat': 1643, 'bangi': 454, 'dong': 1632, 'songpa': 5681, 'seongsu': 5427, 'cowboy': 1336, 'yeonhe': 6790, 'legendari': 3476, 'curiou': 1387, 'drip': 1677, 'happo': 2485, 'collect': 1218, 'preserv': 4864, 'egg': 1728, 'tofu': 6205, 'noodl': 4438, 'tomkardi': 6214, 'venom': 6460, 'venomthelastd': 6461, 'symbiot': 5936, 'codex': 1198, 'bestscen': 575, 'marvel': 3837, 'eddebrock': 1719, 'timeleft': 6168, 'appoint': 265, 'know': 3256, 'realiti': 5058, 'date': 1466, 'experi': 1862, 'worri': 6697, 'theme': 6112, 'togeth': 6206, 'juli': 3059, 'half': 2402, 'see': 5392, 'piscoband': 4727, 'weirdpet': 6600, 'creatur': 1351, 'skinwalk': 5585, 'snl': 5630, 'korea': 3270, 'kim': 3199, 'shin': 5488, 'rok': 5205, 'soo': 5689, 'wonhoon': 6674, 'jiy': 3035, 'eun': 1824, 'zhu': 6958, 'en': 1757, 'zhuyi': 6960, 'migrant': 3965, 'migrat': 3966, 'kiasting': 3190, 'fubon': 2096, 'titan': 6192, 'angel': 213, 'big': 597, 'dome': 1628, 'better': 578, 'human': 2676, 'jiay': 3001, 'starbuck': 5783, 'xingbingl': 6737, 'sellstagram': 5407, 'textur': 6094, 'seoul': 5428, 'aopt': 253, 'pharaoh': 4677, 'aanomali': 3, 'alsasa': 175, 'sasa': 5336, 'pedestrianview': 4641, 'monpachi': 4124, 'publictransport': 4920, 'extermin': 1875, 'leedahy': 3466, 'fancam': 1916, 'cocoa': 1197, 'star': 5779, 'bingl': 619, 'locomot': 3586, 'redoor': 5075, 'neck': 4344, 'sukchasoorma': 5884, 'kableon': 3085, 'mcgriddl': 3867, 'mac': 3689, 'gridor': 2304, 'dafsho': 1422, 'eighti': 1733, 'hiwa': 2583, 'caffea': 878, 'tripl': 6287, 'cuisin': 1377, 'beibei': 541, 'tifthandco': 6159, 'trippyart': 6289, 'hail': 2381, 'mother': 4168, 'goddess': 2247, 'makali': 3728, 'navratri': 4326, 'kali': 3091, 'maa': 3687, 'mahakali': 3716, 'mahadev': 3714, 'aghori': 92, 'blackmag': 650, 'mahak': 3715, 'thai': 6097, 'southern': 5708, 'cook': 1291, 'usual': 6420, 'dailylif': 1429, 'apt': 267, 'agricultur': 97, 'farmer': 1921, 'agro': 99, 'agroeptop': 101, 'plantacao': 4746, 'oganaropara': 4495, 'farm': 1920, 'tractor': 6251, 'militari': 3976, 'milho': 3975, 'world': 6691, 'brazil': 776, 'hike': 2569, 'harvest': 2510, 'gim': 2209, 'rural': 5254, 'produc': 4887, 'raw': 5042, 'agribusi': 95, 'agrobrutta': 100, 'japan': 2942, 'pose': 4825, 'czech': 1416, 'republ': 5139, 'sport': 5751, 'cartiereyewear': 956, 'eyewear': 1884, 'sound': 5702, 'translat': 6260, 'lifeli': 3511, 'palan': 4588, 'sell': 5405, 'zone': 6966, 'scene': 5358, 'gangnam': 2146, 'daeyu': 1421, 'goodby': 2266, 'frame': 2072, 'lol': 3593, 'izakaya': 2918, 'tora': 6230, 'drunk': 1683, 'jaimatadi': 2929, 'saizhen': 5290, 'boat': 712, 'ship': 5497, 'agricultura': 98, 'agronomi': 102, 'planter': 4748, 'oagronaopara': 4479, 'oagromoveomundo': 4478, 'corn': 1304, 'vidanocampo': 6479, 'vidanaroça': 6478, 'produtorrur': 4891, 'madinroça': 3699, 'agronomiabruta': 103, 'ryosuk': 5261, 'tatsumi': 6001, 'yuri': 6895, 'parti': 4614, 'sunpalhwanyoung': 5898, 'maakali': 3688, 'viralvideochalleng': 6506, 'agricultor': 96, 'trendingvideo': 6278, 'brasil': 774, 'bruto': 824, 'plantadeira': 4747, 'trator': 6264, 'mundo': 4221, 'colheitadeira': 1214, 'civilengin': 1151, 'machineri': 3693, 'heavyequip': 2537, 'engin': 1771, 'autom': 381, 'technolog': 6042, 'scienc': 5365, 'tech': 6037, 'electron': 1736, 'technev': 6039, 'instatech': 2854, 'manufactur': 3801, 'futur': 2115, 'satisfi': 5341, 'ugccontentcr': 6375, 'ugccommun': 6373, 'ugcexampl': 6377, 'ugccont': 6374, 'makeuptutori': 3751, 'sandonazonclay': 5321, 'urlimik': 6414, 'coolieno1': 1296, 'bärundhawan': 872, 'sherlikhan': 5480, 'bollywood': 730, 'pleas': 4756, 'eye': 1879, 'want': 6562, 'go': 2243, 'devara': 1548, 'ntr': 4461, 'janvikapoor': 2941, 'anirudhravichand': 236, 'anirudh': 235, 'telugustatu': 6069, 'telugureel': 6066, 'teluguvideosong': 6071, 'telugumus': 6065, 'telugulovesong': 6061, 'bgm': 584, 'telugutrend': 6070, 'instabl': 2829, 'instatrend': 2855, 'trendingreelsvideohow': 6276, 'sappllavi': 5332, 'hicelebr': 2564, 'praveenandala': 4853, 'tradingvideo': 6253, 'slowli': 5605, 'wenwei': 6611, 'scroll': 5375, 'guitar': 2337, 'rooki': 5220, 'orang': 4540, 'holiday': 2598, 'cold': 1213, 'maria': 3809, 'kelli': 3157, 'mariahcarey': 3811, 'xma': 6755, 'qi': 4955, 'alliwantforchristmasisy': 169, 'alway': 179, 'best': 564, 'onemansjourney': 4520, 'mercurymov': 3933, 'terryleenelson': 6084, 'picoftheday': 4702, 'somethingnew': 5671, 'artcollector': 317, 'contemporaryart': 1281, 'contemporari': 1280, 'abstractart': 13, 'abstractpaint': 15, 'abstractartist': 14, 'abstract': 12, 'hongkong': 2626, 'kenni': 3162, 'pushkarfair2024': 4946, 'pushkarmela2024': 4947, 'buffalo': 842, 'bull': 845, 'locofrank': 3585, 'manwithamiss': 3802, 'raisin': 5018, 'gorillahal': 2275, 'backtor': 425, 'versaceeyewear': 6465, 'yiyi': 6819, 'northern': 4446, 'south': 5707, 'sydney': 5934, 'australia': 379, 'girlfriendshipforev': 2218, 'shrink': 5522, 'recipi': 5064, 'marathimovi': 3807, 'pune': 4930, 'voiletflamemotionpictur': 6530, 'disney': 1597, 'spoof': 5748, 'disneymem': 1599, 'oodbycheckin': 4530, 'firstnoteoflove1stfmintp': 2003, 'fnolperfectfin': 2033, 'play': 4751, 'perfect': 4653, 'firstnoteoflov': 2002, 'sung': 5893, 'tuoshan': 6305, 'fenghao': 1968, 'liu': 3570, 'yite': 6814, 'jamkkasama': 2934, 'jin': 3016, 'taiyou': 5978, 'jiahuan': 2995, 'yinghong': 6809, 'amanda': 182, 'jifan': 3006, 'practic': 4845, 'macro': 3694, 'warner': 6570, 'bl': 632, 'boyslov': 766, 'gagaelala': 2134, 'gagaoolalaorigin': 2136, 'port': 4820, 'jeed': 2957, 'maltein': 3758, 'ideal': 2738, 'bastard': 490, 'bestart': 567, 'popoo': 4810, 'oosaka': 4531, 'shrutimarath': 5523, 'gulaabi': 2345, 'porticomedia': 4821, 'jigriyaar': 3007, 'quoteftheday': 4985, 'gagaoolala': 2135, 'fnolperfectfinal': 2034, 'dancekarnatakadance2024': 1450, 'drug': 1681, 'deardict': 1490, 'tipsanaksehat': 6187, 'toy': 6242, 'innisfre': 2819, 'claymask': 1162, 'koreanskincar': 3277, 'poremask': 4816, 'porecar': 4815, 'oilcontrol': 4502, 'sephorasal': 5432, 'sololif': 5668, 'sadlif': 5278, 'brokenlif': 800, 'brokenheartquot': 799, 'myhappymo': 4260, 'sadlov': 5279, 'fakesmil': 1903, 'fakelov': 1901, 'fakechat': 1900, 'newpost': 4371, 'viralinstagram': 6501, 'newreel': 4372, 'newarriv': 4364, 'popmart': 4804, 'popmartglob': 4806, 'labubumacaron': 3341, 'labubuhaveaseat': 3340, 'popmartlabubu': 4807, 'labubupopmart': 3342, 'labubu': 3339, 'perspect': 4664, 'popmartcollect': 4805, 'popmartphotograph': 4808, 'blindbox': 681, 'blindboxtoy': 682, 'artta': 328, 'toyphotographi': 6246, 'toyphoto': 6245, 'dailyquot': 1434, 'quoteoftheday': 4986, 'beef': 530, 'reelsfe': 5093, 'fypppppppppppppppppppppppppppppppppppppppppppppppppppppppppppppppppppp': 2123, 'radhekrishna': 5000, 'row': 5231, 'prem': 4861, 'lovesong': 3649, 'involv': 2875, 'btsarm': 828, 'kimtehiaung': 3217, 'rm': 5187, 'jimin': 3013, 'hobbi': 2594, 'jhope': 2991, 'suga': 5879, 'taehyung': 5950, 'jungkook': 3067, 'armi': 307, 'v': 6424, 'jeonjungkook': 2978, 'seokjin': 5421, 'namjoon': 4289, 'pictur': 4703, 'matern': 3854, 'photoshoot': 4692, 'soccer': 5639, 'snowbodi': 5634, 'check': 1058, 'inbodi': 2782, 'measur': 3873, 'dial': 1558, 'bodycheck': 722, 'result': 5153, 'beforeandaft': 536, 'gentlemen': 2181, 'quarrel': 4973, 'stabliz': 5770, 'songrecreationround': 5682, 'zeinadian': 6918, 'tipsanakhat': 6186, 'videoanaclucu': 6482, 'pore': 4814, 'skincareroutin': 5583, 'toycollector': 6243, 'sadquotespag': 5282, 'dkd2024': 1615, 'hobi': 2595, 'zeekannada': 6915, 'mainananak': 3723, 'zeeonthegoreel': 6916, 'kimtaehyung': 3215, 'govir': 2284, 'tipsparentinganak': 6189, 'turtl': 6313, 'fairi': 1897, 'frozen': 2092, 'made': 3696, 'xiancao': 6720, 'eyebrow': 1880, 'repair': 5131, 'trimmer': 6285, 'import': 2772, 'trim': 6284, 'blue': 696, 'qualiti': 4966, 'improv': 2774, 'treatment': 6269, 'bleach': 676, 'hunt': 2687, 'dark': 1460, 'navi': 4325, 'beig': 542, 'gray': 2297, 'transpar': 6261, 'lavend': 3410, 'phone': 4682, 'govinda': 2283, 'rashmikamandana': 5033, 'wang': 6559, 'xingren': 6739, 'perfum': 4655, 'xiaosanmei': 6729, 'ri': 5166, 'shu': 5524, 'concubin': 1261, 'tutorialmakeupnatur': 6318, 'makeuptransform': 3749, 'douyinmakeuptutori': 1652, 'easydraw': 1710, 'girldraw': 2216, 'fbreelsfyp': 1951, 'lipbalm': 3538, 'lipgloss': 3541, 'skincar': 5581, 'skincareluxuri': 5582, 'lipmask': 3542, 'lipoil': 3544, 'jesu': 2986, 'jesuschrist': 2987, 'jesussav': 2988, 'godisgood': 2249, 'godbless': 2246, 'brother': 804, 'sister': 5565, 'everyday': 1839, 'di': 1555, 'mei': 3895, 'messi': 3938, 'cliffjump': 1171, 'cliff': 1170, 'quarri': 4974, 'underground': 6387, 'radh': 4998, 'livetw': 3576, 'grab': 2285, 'lazi': 3414, 'bag': 434, 'inform': 2806, 'textil': 6090, 'center': 1012, 'starri': 5794, 'moonlightlov': 4155, 'moonlight': 4154, 'koimbatorevagaira': 3262, 'coimbatoremem': 1208, 'coimbatorefoodi': 1207, 'coimbatorenew': 1209, 'coimbator': 1206, 'cbe': 1002, 'tirupurfoodi': 6191, 'tup': 6306, 'gandhipuram': 2143, 'pronunci': 4903, 'srca': 5762, 'sri': 5763, 'ramakrishna': 5021, 'colleg': 1220, 'prozonemal': 4910, 'chennai': 1073, 'friendshipgo': 2090, 'crush': 1371, 'psgca': 4913, 'ngpcolleg': 4393, 'hica': 2563, 'krishnammalcolleg': 3310, 'psg': 4912, 'kpriet': 3308, 'minimum': 4030, 'tingl': 6174, 'mochi': 4095, 'hsinchu': 2658, 'miaoli': 3949, 'pingtung': 4715, 'hell': 2543, 'stunt': 5867, 'artist': 324, 'buddha': 839, 'wilfredwan': 6650, 'heal': 2527, 'yanl': 6774, 'verosa': 6464, 'liang': 3502, 'yongt': 6836, 'yixin': 6816, 'katrina': 3137, 'jacksonwang': 2925, 'jiaer': 2993, 'mama': 3759, 'mamaaward': 3760, 'brunomar': 814, 'rosé': 5226, 'blackpink': 653, 'gdragon': 2163, 'gd': 2162, 'quan': 4967, 'zhilong': 6947, 'tm': 6195, 'charact': 1045, 'tastmark': 5999, 'soniabans': 5685, 'lone': 3604, 'hemispher': 2548, 'yichen': 6803, 'stem': 5814, 'synaltium': 5939, 'synach': 5938, 'stubborn': 5855, 'swan': 5924, 'magnat': 3710, 'laughter': 3407, 'infarct': 2799, 'yinxin': 6812, 'azh': 405, 'guitarist': 2338, 'anniversari': 241, 'tenaci': 6075, 'outboundliv': 4562, 'camperconvers': 901, 'rvlife': 5256, 'sprinter': 5755, 'vanlifevir': 6452, 'packthevan': 4580, 'carpentri': 945, 'vanliferul': 6450, 'crystal': 1372, 'sidsriamn': 5539, 'telugusongslyr': 6068, 'telugulovestatu': 6062, 'lovefail': 3631, 'lovefailiur': 3632, 'telugudubsmash': 6059, 'telugucomedi': 6058, 'telugujok': 6060, 'telugumovi': 6064, 'telugumem': 6063, 'disappoint': 1586, 'reson': 5147, 'fall': 1904, 'secret': 5389, 'respect': 5148, 'alon': 170, 'rememb': 5127, 'psycholog': 4916, 'express': 1874, 'powerofsea': 4839, 'ring': 5181, 'miniyang': 4032, 'wax': 6582, 'remov': 5128, 'brand': 771, 'beeswax': 534, 'exceed': 1848, 'zhecheng': 6938, 'separ': 5431, 'sprintercamp': 5756, 'sidsriramn': 5540, 'telugucinema': 6057, 'telugubgm': 6056, 'carpetgroom': 950, 'rugbrush': 5240, 'asmrsound': 342, 'clean': 1163, 'carpetbrush': 947, 'carpetclean': 948, 'carpetwash': 952, 'carpetcleaningservic': 949, 'carpetasmr': 946, 'rugwash': 5244, 'rugscrub': 5243, 'ruggroom': 5241, 'back': 424, 'scrape': 5372, 'carpetscrap': 951, 'hut': 2695, 'pizzah': 4734, 'pizzahut': 4735, 'nantou': 4297, 'yzfamili': 6898, 'concret': 1260, 'build': 843, 'contstruct': 1289, 'architectur': 286, 'architect': 285, 'architecturelov': 289, 'interiordesign': 2865, 'engcivil': 1767, 'project': 4897, 'architectureeurban': 287, 'construct': 1278, 'arquiteturadeinterir': 311, 'tokyo': 6209, 'surigi': 5917, 'chiyoda': 1105, 'ward': 6565, 'region': 5108, 'volleybal': 6533, 'japanvolleybal': 2949, 'commun': 1245, 'base': 470, 'tokyocerisi': 6211, 'sponsor': 5746, 'recruit': 5070, 'kanda': 3094, 'akihabara': 128, 'high': 2568, 'queue': 4982, 'haikyuu': 2380, 'valley': 6431, 'men': 3919, 'volleyballplay': 6537, 'volleyballislif': 6535, 'volley': 6532, 'volleyballlif': 6536, 'awesom': 395, 'worldofengin': 6693, 'futuretech': 2116, 'mathemat': 3855, 'visual': 6514, 'xuan': 6758, 'offic': 4492, 'worker': 6685, 'av': 387, 'youth': 6865, 'fengshan': 1970, 'west': 6613, 'outdoorcook': 4564, 'trout': 6291, 'asmrcleaningvideo': 338, 'pastri': 4621, 'pasticceria': 4620, 'italia': 2900, 'sweet': 5928, 'learn': 3453, 'boya': 764, 'buckwheat': 837, 'wake': 6553, 'jasmin': 2950, 'fragranc': 2070, 'degre': 1506, 'c': 873, 'pet': 4666, 'record': 5068, 'shovel': 5515, 'forc': 2054, 'meow': 3926, 'hairi': 2387, 'child': 1089, 'crown': 1370, 'head': 2523, 'learnfromkhabi': 3455, 'minecraft': 3992, 'jing': 3018, 'method': 3944, 'celebr': 1006, 'cliniqu': 1175, 'field': 1978, 'circul': 1146, 'moistur': 4106, 'gel': 2166, 'surg': 5916, 'clinic': 1174, 'maintain': 3725, 'dermatolog': 1527, 'unit': 6402, 'state': 5798, 'select': 5396, 'come': 1232, 'interact': 2862, 'meteor': 3942, 'mitt': 4063, 'pick': 4700, 'animmemm': 233, 'animegirl': 228, 'animelov': 230, 'yakuzafiancé': 6764, 'fypag': 2122, 'discoverunder100k': 1594, 'otakugirl': 4554, 'web': 6587, 'animerecommend': 231, 'animereel': 232, 'animekiss': 229, 'animecoupl': 226, 'yakuza': 6763, 'animeboy': 224, 'manga': 3785, 'mangalv': 3788, 'mangagirl': 3787, 'mangarecommend': 3789, 'mangaart': 3786, 'mangram': 3792, 'mangastyl': 3790, 'meofashion': 3925, 'tattoo': 6002, 'tattooidea': 6009, 'tattoostyl': 6014, 'tattoodesign': 6005, 'realismtattoo': 5052, 'blackandgreytattoo': 635, 'incedup': 2783, 'tattooink': 6010, 'inkaddict': 2815, 'artsi': 327, 'detail': 1543, 'tuft': 6303, 'keeprun': 3154, 'keeprunningchina': 3155, 'bailu': 439, 'edit': 1722, 'cdrama': 1003, 'talent': 5980, 'artshoq': 326, 'usa': 6416, 'uk': 6378, 'nagarakuji': 4273, 'templ': 6074, 'nasu': 4306, 'worldseri': 6695, 'mlbpartner': 4077, 'rubiksmakeyourmov': 5237, 'rubik': 5236, 'cube': 1375, 'digitalart': 1567, 'digitalartist': 1568, 'clipstudiopaint': 1177, 'animalart': 219, 'cuteart': 1399, 'cuteartstyl': 1400, 'maruko': 3835, 'board': 711, 'catcaf': 970, 'catstagram': 994, 'puppet': 4934, 'heroic': 2556, 'train': 6255, 'advic': 66, 'sentenc': 5416, 'philosophi': 4681, 'languag': 3391, 'shuang': 5525, 'lint': 3534, 'bluelynxbicolor': 701, 'kitten': 3239, 'ragdol': 5005, 'ragdollcat': 5006, 'ragdollscat': 5008, 'catslov': 989, 'pattern': 4629, 'bobcat': 716, 'two': 6338, 'bobcatica': 717, 'basketbal': 473, 'kuroco': 3322, 'basket': 472, 'funnymem': 2108, 'amvedit': 199, 'basketballgam': 476, 'jjk': 3036, 'bluelock': 700, 'akan': 125, 'kurokawa': 3323, 'aquahoshino': 269, 'mitterfast': 4064, 'topic': 6227, 'undergrad': 6386, 'taisho': 5971, 'koreanfood': 3275, 'boss': 749, 'kimchi': 3201, 'catsrestaur': 992, 'kitti': 3246, 'instagramcat': 2840, 'catoftheday': 983, 'lovecat': 3629, 'kit': 3231, 'catlov': 981, 'catsofig': 990, 'catlif': 980, 'catsofinstagram': 991, 'inscat': 2823, 'tattooart': 6003, 'realistictattoo': 5056, 'realistictattooartist': 5057, 'inkmag': 2816, 'tattooedpeopl': 6007, 'tattooedmen': 6006, 'realismtattooartist': 5053, 'realist': 5054, 'realisticink': 5055, 'tattooinstagram': 6011, 'tattoolov': 6013, 'bnginksocieti': 709, 'origin': 4549, 'sorrow': 5698, 'graffiti': 2286, 'cats_of_world': 987, 'instacat': 2830, 'cats_of_instagram': 986, 'neko': 4349, 'fitfit': 2013, 'fitfittravel': 2014, 'leopard': 3486, 'journey': 3049, 'rackdol': 4997, 'seallynxbicolor': 5383, 'monochrom': 4123, 'standupcomedi': 5778, 'uzhic': 6423, 'gi': 2199, 'kai': 3089, 'litter': 3567, 'also': 176, 'thing': 6127, 'sangingxfruit': 5323, 'sablebreton': 5267, 'pie': 4704, 'luxembourg': 3681, 'patisseri': 4625, 'faitmaison': 1898, 'patisseriemaison': 4626, 'chief': 1085, 'madinluxregian': 3698, 'pastryoftheday': 4623, 'patronag': 4628, 'ganachemonte': 2142, 'foodblogg': 2043, 'pastryblogg': 4622, 'pole': 4790, 'vivrededass': 6519, 'crisp': 1364, 'tart': 5995, 'dessertet': 1539, 'dessertmaison': 1540, 'behavior': 539, 'detalhamentoautomotivo': 1544, 'automot': 382, 'aesthet': 82, 'cardetail': 927, 'carrobemcar': 954, 'vitrif': 6516, 'polimentotecnico': 4792, 'ibir': 2725, 'lagoazul': 3352, 'esteticapremium': 1813, 'hydrolepel': 2711, 'hygien': 2714, 'supercarro': 5904, 'fulldetail': 2101, 'productdesign': 4890, 'designinspir': 1532, 'innovativedesign': 2821, 'innovativeproduct': 2822, 'industrialdesign': 2796, 'designlov': 1534, 'designidea': 1531, 'archiproduct': 283, 'creativedesign': 1349, 'homedecor': 2611, 'designdeinterior': 1530, 'housebeauti': 2651, 'designlif': 1533, 'gadgetsnew': 2132, 'hurri': 2691, 'cooltech': 1297, 'phoneclean': 4683, 'scenar': 5357, 'holistictherapi': 2600, 'rhythmk': 5165, 'biofeedbackpractition': 621, 'counsel': 1324, 'harleystreet': 2501, 'crouchend': 1368, 'marilynallentherapeuticcounsel': 3814, 'musich': 4236, 'loveh': 3635, 'quantumbiofeedback': 4970, 'quantumeductor': 4971, 'teencounsel': 6048, 'cosmod': 1313, 'adolescenttrauma': 58, 'marilynallenphd': 3813, 'therapeuticcounsel': 6115, 'conscious': 1271, 'alternativemedicin': 177, 'biofeedback': 620, 'complimentarymedicin': 1251, 'scio': 5366, 'uv': 6422, 'burnaboy': 860, 'enjoy': 1794, 'crazi': 1344, 'predat': 4855, 'braveri': 775, 'reeloftheday': 5091, 'protect': 4907, 'mustwatch': 4246, 'reelitfeel': 5088, 'lovekitten': 3639, 't1': 5943, 'worlds24': 6694, 'faker': 1902, 'garnish': 2151, 'reco_ig': 5065, 'iedemo_graphi': 2745, 'genic_mag': 2177, 'mst_premium': 4203, 'engenhariacivil': 1770, 'arquiteturaeurbanismo': 312, 'tbt': 6022, 'repost': 5135, 'merelbek': 3934, 'cardetailingaddict': 928, 'autoschoonmaken': 383, 'carcleaningtip': 925, 'cardetailinglov': 929, 'carcleaningproduct': 924, 'handcarwash': 2464, 'opticoatproplu': 4538, 'bmw': 706, 'carexpert': 938, 'coast': 1193, 'mesh': 3937, 'popular': 4811, 'photograph': 4689, 'seventeen': 5446, 'dk': 1614, 'seok': 5420, 'min': 3985, 'seokmin': 5424, 'dorogu': 1644, 'shuozhen': 5533, 'michikan': 3957, 'exchang': 1852, 'godiva': 2251, 'mobilerepair': 4093, 'iphon': 2878, 'phonerepi': 4686, 'microsold': 3960, 'repairiphon': 5132, 'cellphonerepair': 1010, 'screenrepair': 5373, 'iphonerepair': 2880, 'datarecoveri': 1465, 'screenreplac': 5374, 'appl': 261, 'phonerepairshop': 4685, 'samsungrepair': 5316, 'microsoldadura': 3961, 'laptoprepair': 3397, 'samsung': 5315, 'appleepair': 262, 'ipad': 2877, 'iphonefix': 2879, 'macbookrepair': 3691, 'crackedscreen': 1340, 'solder': 5662, 'tabletrepair': 5947, 'smartphonerepair': 5618, 'mobil': 4089, 'computerrepair': 1255, 'rebal': 5061, 'oleo': 4511, 'mug': 4210, 'ole': 4510, 'easi': 1708, 'arrang': 313, 'lentin': 3483, 'aya': 398, 'oreocak': 4545, 'tastemad': 5997, 'dream': 1667, 'oper': 4534, 'musk': 4239, 'nvidia': 4469, 'gb200': 2160, 'undertak': 6390, 'focu': 2036, 'reprint': 5137, 'beitudu': 546, 'middl': 3962, 'tcfsh2024': 6023, 'campu': 903, 'storm': 5828, 'murder': 4226, 'nearlean': 4343, 'haircut': 2383, 'louisianabarb': 3626, 'kennerbarb': 3161, 'batsolebrais': 494, 'metairiebarb': 3940, 'lakecharlesbarb': 3364, 'slidellbarb': 5600, 'hammondbarb': 2411, 'laplacebarb': 3396, 'houmabarb': 2647, 'gonzalesbarb': 2263, 'covingtonbarb': 1334, 'gulfportbarb': 2347, 'lafayettebarb': 3351, 'mobilebarb': 4090, 'fade': 1894, 'psychobarb': 4915, 'scissorcut': 5367, 'menshaircut': 3921, 'bestbarb': 568, 'mandevillebarb': 3783, 'barbervideo': 464, 'notoriousfoodi': 4452, 'italianfood': 2902, 'homecook': 2610, 'dataight': 1464, 'comfortfood': 1237, 'dinneridea': 1580, 'dinnertim': 1581, 'cookingtim': 1293, 'cookingram': 1292, 'asmrfood': 339, 'easyrecip': 1711, 'audi': 374, 'q4etron': 4952, 'publish': 4921, 'aottergirl': 254, 'pistachio': 4728, 'iza': 2917, 'girlstalk': 2224, 'mercerbrunch': 3931, 'toast': 6197, 'hairtutori': 2397, 'tutorialhair': 6317, 'hairdecor': 2384, 'hairglamvideo': 2385, 'hairtransform': 2396, 'hairstyletutori': 2394, 'hairstylevideo': 2395, 'hairofinstagram': 2390, 'hairstyleidea': 2393, 'kyoto': 3334, 'fushimi': 2114, 'inari': 2781, 'mandarinchines': 3782, 'chinesesong': 1099, 'doraemon': 1640, 'na': 4270, 'beamngdriv': 517, 'drift': 1674, 'necktattoo': 4345, 'tattoolif': 6012, 'fender': 1966, 'travelphotographi': 6266, 'zara': 6902, 'xfactor': 6713, 'yuanbao': 6872, 'zheng': 6940, 'zhishan': 6948, 'member': 3909, 'toddler': 6199, 'hors': 2638, 'shadow': 5453, 'tvb': 6320, 'news': 4373, 'tvbsnew': 6321, 'microscop': 3959, 'phonefixcraft': 4684, 'fengjia': 1969, 'wind': 6652, 'rain': 5013, 'champion': 1035, 'seal': 5381, 'king': 3220, 'ctbcbrother': 1373, 'amauryguichon': 185, 'alfaromeogiulia': 164, 'alfaromeo': 163, 'gtam': 2319, 'duck': 1687, 'garag': 2148, 'championship': 1036, 'p12': 4577, 'premier12': 4863, 'unlock': 6408, 'host': 2641, 'hero': 2555, 'teamtaiwan': 6033, 'travi': 6267, 'hi': 2561, 'cuivi': 1378, 'cui': 1376, 'cnc': 1186, 'cncmachin': 1188, 'cncmill': 1189, 'customizedcnc': 1394, 'cnclathemachin': 1187, 'madeinchina': 3697, 'moldmak': 4108, 'vacuumcast': 6426, 'sheetmetalfabr': 5473, 'auto': 380, 'medicaldevic': 3883, 'industrialrobot': 2797, 'aerospac': 69, 'homeappli': 2608, 'communicationdesign': 1246, 'game': 2140, 'tournament': 6239, 'rugscrap': 5242, 'posa': 4824, 'ohuhumark': 4500, 'gravityfal': 2296, 'dipperpin': 1583, 'venu': 6462, 'lesson': 3490, 'qingda': 4959, 'develop': 1549, 'nthumd': 4460, 'tsinghua': 6297, 'chin': 1092, 'mi': 3947, 'sheng': 5475, 'hairstyl': 2392, 'hairtutorialvideo': 2398, 'hotd': 2644, 'hairvideotutori': 2400, 'hairoftheday': 2391, 'videohair': 6484, 'hairvideo': 2399, 'asian': 332, 'petit': 4667, 'asianbabygirl': 333, 'monster': 4125, 'luca': 3664, 'clikclak': 1172, 'animalwelfar': 222, 'farriersoftiktok': 1924, 'horsesho': 2639, 'farrier': 1923, 'hoof': 2631, 'care': 936, 'jincheng': 3017, 'jiangnan': 2997, 'affect': 85, 'projeto': 4900, 'arquiteturad': 310, 'nola': 4437, 'technot': 6043, 'wood': 6677, 'door': 1638, 'lock': 3584, 'chihuahua': 1088, 'chiwasutagu': 1104, 'dust': 1695, 'polymorph': 4796, 'breed': 784, 'court': 1332, 'homehack': 2613, 'smartliv': 5617, 'householdtip': 2653, 'homeeffici': 2612, 'organizeyourhom': 4547, 'jojo': 3040, 'fart': 1925, 'top10': 6226, 'cutebabi': 1401, 'b_moment': 410, 'chiquita': 1101, 'landscape_lov': 3387, 'landscapephotographi': 3390, 'landscape_captur': 3386, 'norgefoto': 4440, 'exceptional_pictur': 1850, 'nature_shoot': 4319, 'earth_shotz': 1707, 'ourplanetdaili': 4560, 'landscapehunt': 3388, 'landscapelov': 3389, 'nature_prefect': 4318, 'visitnorway': 6513, 'longexpoelit': 3607, 'northernnorway': 4447, 'dreamchasersnorway': 1670, 'thebestofnorway': 6106, 'lofoten': 3588, 'globeshotz': 2240, 'ig_shotz': 2749, 'artchitectur': 316, 'vn': 6522, 'vnindonesia': 6523, 'islandia': 2892, 'camaro': 891, 'japanesefood': 2946, 'sequenc': 5433, 'mota': 4167, 'resid': 5145, 'minim': 4028, 'housedesign': 2652, 'residencedesign': 5146, 'indoor': 2793, 'nishi': 4420, 'awa': 392, 'firework': 1998, 'ina': 2780, 'firkan': 1999, 'horiuchi': 2635, 'smoke': 5621, 'fire': 1997, 'archaicstudio': 279, 'air': 119, 'ga': 2129, 'novic': 4457, 'tasti': 5998, 'browni': 806, 'run': 5247, 'growth': 2313, 'exercis': 1855, 'excercis': 1851, 'teammat': 6031, 'kid': 3193, 'california': 884, 'loyalti': 3661, 'bt': 826, 'btsedit': 830, 'btsmeme': 831, 'volleyballtim': 6542, 'goodandbett': 2265, 'volleyballtrain': 6544, 'volleyballproblem': 6538, 'volleyballtip': 6543, 'inscript': 2824, 'mingvolleybal': 4023, 'mvc': 4251, 'pour': 4833, 'defens': 1501, 'volleyballdefend': 6534, 'techniqu': 6041, 'volleyballskil': 6540, 'turnip': 6312, 'soonmoo': 5693, 'pinkgirrrl': 4717, 'leagueoflegendsvideo': 3444, 'leagueoflegend': 3425, 'leagueoflegendsmem': 3438, 'leagueoflegendsfanart': 3433, 'leagueoflegendsfunni': 3434, 'leagueoflegendstrol': 3443, 'leagueoflegendsedit': 3432, 'leagueoflegendsfunnyvideo': 3435, 'riotgam': 5183, 'lolfunni': 3595, 'cai': 879, 'youqun': 6864, 'shuangl': 5526, 'yixuan': 6817, 'enterpris': 1797, 'taipow': 5970, 'pokemon': 4778, 'pokemonart': 4779, 'pokemongam': 4783, 'pokemoncard': 4780, 'pokemoncollector': 4781, 'pokemoncommun': 4782, 'pokebal': 4777, 'pokemongo': 4784, 'pokémon': 4787, 'pokemonmem': 4785, 'choos': 1119, 'tiramisu': 6190, 'gotal': 2278, 'ramen': 5024, 'pull': 4926, 'charg': 1047, 'peak': 4637, 'bmwprestigeclub': 708, 'bmwluxuryclass': 707, 'van': 6436, 'gogh': 2255, 'search': 5384, 't1win': 5945, 'paulazhen': 4630, 'bira': 623, 'throat': 6142, 'valdatw': 6428, 'tini': 6176, 'hua': 2660, 'da': 1417, 'plu': 4760, 'disneyplu': 1600, 'f': 1886, 'cebu': 1004, 'fella': 1963, 'lolhighlight': 3596, 'leagueoflegendsriotgam': 3441, 'ezreal': 1885, 'tahmkenh': 5956, 'nyc': 4475, 'nycsubway': 4477, 'bigdog': 601, 'cutedog': 1407, 'samoy': 5303, 'samoyedsofinstagram': 5313, 'dogsofinstagram': 1623, 'ryo': 5260, 'motono': 4177, 'chachacha': 1018, 'warrior': 6571, 'waiter': 6551, 'connect': 1267, 'flamen': 2021, 'reaction': 5048, 'stray': 5837, 'nyanstargram': 4472, 'catstargram': 997, 'mixinglook': 4068, 'technew': 6040, 'countdown': 1325, 'zno': 6963, 'believ': 549, 'target': 5992, 'juvenil': 3079, 'effort': 1727, 'persist': 4662, 'grow': 2310, 'way': 6583, 'log': 3590, 'copywrit': 1301, 'read': 5049, 'engrav': 1790, 'heartbeat': 2533, 'car': 922, 'carsofinstagram': 955, 'cutecat': 1404, 'whisker': 6623, 'homecat': 2609, 'cutekitten': 1411, 'gato': 2157, 'petsofinstagram': 4671, 'kittensofinstagram': 3245, 'adoptdontshop': 60, 'piti': 4731, 'pokemontcg': 4786, 'lopunni': 3614, 'lolsupp': 3600, 'leagu': 3420, 'leaguemem': 3424, 'leagueclip': 3422, 'leagueplay': 3448, 'leagueofmem': 3447, 'leagueoflegendsworlds2019': 3446, 'leagueoflegendspro': 3440, 'pro': 4881, 'proguid': 4895, 'leaguefail': 3423, 'leagueoflegendsplay': 3439, 'proguidesleagu': 4896, 'truedamag': 6293, 'kda': 3150, 'pyke': 4949, 'soraka': 5696, 'senna': 5415, 'sett': 5441, 'lolcosplay': 3594, 'leonalol': 3485, 'karma': 3128, 'anni': 240, 'swain': 5921, 'alwaysootd': 181, 'oushi': 4561, 'ou': 4558, 'ziwa': 6962, 'propos': 4906, 'ximen': 6735, 'yin': 6807, 'bai': 438, 'tattooartist': 6004, 'osaka': 4550, 'anatoli': 207, 'udon': 6359, 'deacon': 1485, 'comment': 1239, 'conveni': 1290, 'pizzatawan': 4738, 'pastahut': 4619, 'straightforward': 5832, 'delici': 1510, 'stimul': 5818, 'provinci': 4909, 'italian': 2901, 'instanc': 2850, 'foodreel': 2047, 'degener': 1505, 'wei': 6592, 'sushi': 5919, 'pit': 4729, 'trail': 6254, 'dakeng': 1440, 'dongshan': 1635, 'beitun': 547, 'popyummi': 4812, 'taichungfood': 5959, 'yuanzai': 6878, 'duke': 1689, 'shaqimo': 5460, 'dou': 1647, 'superman': 5907, 'absurd': 17, 'set': 5439, 'lec': 3461, 'pentakil': 4647, 'petti': 4673, 'asset': 348, 'kinako': 3219, 'box': 759, 'look': 3612, 'manchikan': 3779, 'munchkin': 4220, 'cutecatsofinstagram': 1406, 'instacatsgram': 2831, 'catinstagram': 979, 'dami': 1442, 'xiaomi': 6727, 'tenz': 6081, 'snow': 5633, 'arginin': 295, 'fitwomen': 2017, 'stimulu': 5819, 'minecraftmem': 4009, 'minecraftonli': 4010, 'minecraftp': 4011, 'minecraftpc': 4012, 'minecraftpocketedit': 4013, 'minecraftxbox': 4021, 'minecraftserv': 4018, 'minecraftps3': 4015, 'minecraftart': 3995, 'minecraftskin': 4019, 'minecraftfx': 4005, 'minecraftunivers': 4020, 'skydoesminecraft': 5592, 'minecraftforev': 4004, 'minecraftdiari': 4001, 'minecraftedit': 4003, 'minecraftgirl': 4006, 'minecraftcak': 3998, 'minecraftdraw': 4002, 'minecraftxbox360': 4022, 'minecraftbuild': 3997, 'minecraftdaili': 4000, 'fengzhong': 1971, 'global': 2237, 'uniform': 6396, 'call': 885, 'leagueoflegendstr': 3442, 'lolpost': 3599, 'leagueoflegendscosplay': 3431, 'lc': 3415, 'leagueoflegendsgirl': 3436, 'leagueoflegendsislif': 3437, 'leagueoflegendsclip': 3430, 'kaohsiungfood': 3120, 'yesstyl': 6796, 'makeupinspir': 3741, 'wintermakeup': 6657, 'newyork': 4380, 'newyorkc': 4381, 'koreanmakeup': 3276, 'cottag': 1321, 'belcub': 548, 'prank': 4852, 'sanguang': 5324, 'climb': 1173, 'fy': 2120, 'sashimi': 5337, 'instagramjapan': 2841, 'webstagram': 6588, 'vsco': 6547, 'photooftheday': 4691, 'len': 3482, 'reflex': 5106, 'camera': 895, 'coregraphi': 1303, 'casual': 966, 'gcs2024': 2161, 'showtim': 5518, 'confront': 1264, 'creaturedesign': 1353, 'creatureart': 1352, 'wip': 6659, 'meng': 3920, 'debut': 1494, 'keycap': 3176, 'gamingmem': 2141, 'legendsneverdi': 3477, 'league_of_legend': 3421, 'leagueoflegendsart': 3427, 'leagueoflegendsbrasil': 3429, 'leagueoflegendsbr': 3428, 'mobilelegendsvideo': 4091, 'katarina': 3133, 'leagueoflegendmem': 3426, 'leagueoflegendswildrift': 3445, 'kittycat': 3247, 'kittylov': 3248, 'catsworld': 998, 'catssarelif': 993, 'celibl': 1007, 'kittensofin': 3243, 'catbabi': 969, 'meowmeowmeow': 3930, 'catculut': 974, 'catinstagood': 978, 'furri': 2113, 'mycat': 4255, 'catclub': 973, 'happycatclub': 2487, 'bestcat': 569, 'funnycat': 2106, 'kittens_today': 3242, 'kittens_of_world': 3241, 'meow_beauti': 3927, 'jiao': 2999, 'laboratori': 3338, 'qa': 4953, 'jiaotong': 3000, 'foodstagrsm': 2049, 'zhibei': 6943, 'meat': 3874, 'scholarli': 5362, 'illustr': 2761, 'pepper': 4650, 'supper': 5911, 'minuet': 4044, 'cavalm': 1000, 'nyankor': 4471, 'tender': 6077, 'kedi': 3152, 'catstagram_japan': 995, 'petstagram': 4672, 'ilovecat': 2762, 'moffmecat': 4102, 'shun': 5530, 'oguri': 4497, 'harisenbon': 2499, 'haruka': 2508, 'paradis': 4599, 'warl': 6567, 'maruto': 3836, 'goe': 2253, 'philippin': 4679, 'manila': 3796, 'vacat': 6425, 'solairesor': 5657, 'solar': 5658, 'solaireexperi': 5656, 'velvet': 6459, 'redvelvet': 5077, 'sulk': 5887, 'seulgi': 5442, 'arcan': 272, 'valorantfyp': 6432, 'valorantgam': 6433, 'valorantnew': 6434, 'catch': 971, 'match': 3851, 'never': 4359, 'constantli': 1273, 'volleyballtech': 6541, 'attacklin': 368, 'meter': 3943, 'jump': 3060, 'volleyballsav': 6539, 'central': 1013, 'plain': 4741, 'zhongyuan': 6955, 'zhongli': 6952, 'includ': 2785, 'app': 257, 'romanc': 5211, 'consult': 1279, 'encount': 1759, 'minion': 4031, 'mini': 4026, 'captain': 916, 'kidult': 3195, 'un': 6384, 'catsagram': 988, 'catloversclub': 982, 'banqiao': 458, 'learnfromzeta': 3456, 'catstagramcat': 996, 'koko': 3263, 'fast': 1941, 'simplic': 5554, 'zucchini': 6970, 'oliv': 4512, 'oil': 4501, 'sol': 5655, 'bream': 782, 'truffl': 6295, 'snapper': 5627, 'steamedegg': 5811, 'workout': 6687, 'burncalori': 861, 'wholefood': 6631, 'sauc': 5343, 'taro': 5993, 'well': 6604, 'skyxmoomin': 5593, 'optic': 4537, 'ripe': 5184, 'rib': 5167, 'hood': 2630, 'zhuangtoubei': 6959, 'kitchenwar': 3236, 'arquitetura': 309, 'stagnu': 5774, 'american': 191, 'kittenlov': 3240, 'catgram': 977, 'cats_of_day': 985, 'bestmeow': 572, 'sweetcat': 5930, 'mimari': 3984, 'sock': 5644, 'ball': 447, 'catphoto': 984, 'cutepet': 1412, 'ilovemycat': 2763, 'europ': 1832, 'reliev': 5124, 'reunion': 5156, 'taichungfoodi': 5960, 'sesam': 5438, 'process': 4884, 'entrepreneurship': 1803, 'artvideo': 329, 'palett': 4589, 'catfood': 976, 'toryburch': 6233, 'lawson': 3412, 'work': 6684, 'lover': 3646, 'mania': 3794, 'uchi': 6354, 'pikachu': 4710, 'diguda': 1570, 'dagtrio': 1423, 'nmmix': 4430, 'seolyun': 5425, 'stomach': 5821, 'enough': 1796, 'lili': 3524, 'sullyoon': 5888, 'bae': 430, 'jiwoo': 3034, 'relay': 5120, 'starsearch2024': 5796, 'overflow': 4572, 'mediacorpstarsearch2024': 3881, 'pov': 4834, 'burdin': 857, 'blockchain': 687, 'gdsc': 2165, 'nthugdsc': 4459, 'googledevelop': 2271, 'appier': 260, 'stabatumbl': 5768, 'starbarg': 5781, 'starba': 5780, 'hate': 2514, 'zhihao': 6945, 'jiang': 2996, 'songlin': 5680, 'welfar': 6603, 'verif': 6463, 'chobom': 1110, 'choong': 1118, 'tin': 6172, 'chorong': 1123, 'yoon': 6840, 'bo': 710, 'bomi': 737, 'apink': 256, 'fad': 1893, 'bank': 456, 'intern': 2867, 'televis': 6053, 'slimemix': 5603, 'colormix': 1227, 'dens': 1516, 'artcraftblend': 319, 'softtic': 5651, 'daiso': 1437, 'averag': 390, 'item': 2905, 'kushi': 3325, 'english': 1779, 'englishtransl': 1787, 'disciplin': 1589, 'habit': 2368, 'persever': 4659, 'memetransl': 3915, 'memesoul': 3913, 'miyin': 4075, 'pizzahuttaiwan': 4736, 'mebox': 3875, 'solo': 5665, 'huang': 2664, 'chasergamew2': 1053, 'ukasatagram': 6379, 'junior': 3072, 'chengxin': 1071, 'haoxiang': 2482, 'yaxuan': 6780, 'tnt': 6196, 'tv': 6319, 'wall': 6556, 'money': 4120, 'likesforlik': 3520, 'cheppu': 1074, 'boost': 742, 'ad': 34, 'applic': 264, 'akita': 129, 'inu': 2874, 'societi': 5642, 'akitainu': 131, 'akitainudog': 133, 'akitainu_cut': 132, 'fullinunuubun': 2102, 'akitadog': 130, 'seven': 5445, 'ragdollworld': 5009, 'meowmeow': 3929, 'cutecatcart': 1405, 'point': 4775, 'bluebicolor': 698, 'fluffi': 2030, 'fluffycat': 2032, 'nyancon01': 4470, 'model': 4097, 'roy': 5233, 'studio': 5862, 'nyanusutagu': 4473, 'return': 5155, 'ragdolllov': 5007, 'shoot': 5504, 'corp': 1309, 'fifi': 1979, 'whole': 6630, 'costco': 1318, 'foot': 2050, 'minuett': 4045, 'carrash': 953, 'chan': 1037, 'honpo': 2629, 'eureka': 1831, 'milktread': 3981, 'zhongxiao': 6954, 'dunhua': 1691, 'massag': 3847, 'dreamer': 1671, 'campaign': 898, 'kykawa': 3330, 'pop': 4802, 'choic': 1113, 'statu': 5802, 'union': 6398, 'fisheri': 2006, 'allianc': 168, 'milkfish': 3978, 'bass': 489, 'privat': 4879, 'instafood': 2835, 'cookreel': 1294, 'haridi': 2498, 'tutori': 6316, 'presid': 4865, 'naga': 4271, 'sendai': 5411, 'miyagi': 4069, 'northeast': 4445, 'shabu': 5451, 'safe': 5287, 'analyst': 202, 'diplomat': 1582, 'guardian': 2332, 'minecraftd': 3999, 'minecraftrust': 4016, 'minecraftprettybuild': 4014, 'java': 2951, 'minecraftbas': 3996, 'minecraftarchitectur': 3994, 'minecraftrusticbas': 4017, 'minecraftidea': 4007, 'mojang': 4107, 'minecraftarchitect': 3993, 'minecraftinspir': 4008, 'redesign': 5074, 'price': 4871, 'digit': 1566, 'pure': 4943, 'nanj': 4294, 'topten': 6229, 'filter': 1994, 'mofumofu': 4103, 'crew': 1355, 'rug': 5239, 'tanbuku': 5986, 'associ': 351, 'tanjiro': 5989, 'zenitsu': 6919, 'ite': 2904, 'demon': 1513, 'slayer': 5598, 'pur': 4941, 'shinobu': 5493, 'tandyro': 5987, 'kamado': 3092, 'nezuko': 4384, 'onepiec': 4522, 'familymart': 1912, 'hanton': 2473, 'flow': 2028, 'kittensofinsta': 3244, 'reelitfeelit': 5089, 'reelsvir': 5102, 'momo': 4114, 'puppylov': 4938, 'animallov': 220, 'gf': 2192, 'bollywoodsong': 734, 'amazingtalk': 187, 'aigener': 116, 'aivideo': 121, 'cosplay': 1314, 'co': 1191, 'dentinogenesis2024': 1523, 'bemfkgiikhakhakka': 557, 'intent': 2861, 'skit': 5587, 'sibl': 5536, 'oldestdaught': 4508, 'hateel': 2515, 'friendsforev': 2088, 'odisha': 4489, 'gtav': 2323, 'gta5': 2315, 'rockstar': 5200, 'crimefamili': 1363, 'gtamafia': 2320, 'mob': 4088, 'theft': 6111, 'lossanto': 3621, 'playstat': 4755, 'psch': 4911, 'gtaonlin': 2321, 'g': 2126, 'freeaim': 2078, 'gtacrew': 2317, 'gtacf': 2316, 'gtaps4': 2322, 'gtacrim': 2318, 'runour1': 5250, 'rockstarlifestyl': 5201, 'eu': 1822, 'syg': 5935, 'mod': 4096, 'camber': 892, 'romantizandi': 5214, 'newvideo': 4378, 'borntolos': 745, 'h90': 2366, 'violin': 6497, 'teid': 6050, 'teidenationalpark': 6051, 'volcano': 6531, 'architecturehunt': 288, 'archdaili': 280, 'archilov': 282, 'architecturephotographi': 291, 'broadmag': 797, 'ignant': 2753, 'noicemag': 4436, 'archit': 284, 'tbilisi': 6021, 'georgia': 2186, 'georgiatravelmo': 2187, 'brutbuild': 823, 'brutal_architectur': 822, 'gross': 2307, 'brutal': 821, 'sosbrut': 5699, 'bhubhij': 589, 'justic': 3075, 'dilwaleaki': 1574, 'my_eos_photo': 4253, 'total_japan': 6234, 'bestphoto_japan': 574, 'bestjapanpapics_': 571, 'japan_of_insta': 2943, 'lovers_nippon': 3647, 'longexposure_japan': 3608, 'photo_shorttrip': 4688, 'art_of_japan': 315, 'tokyocameraclub': 6210, 'wu_japan': 6707, 'japantravelphoto': 2948, 'tohoku': 6207, 'best_moments_wat': 566, 'raw_japan_': 5043, 'socialmediamarket': 5641, 'view': 6489, 'kannadaactress': 3102, 'nammasandalwood': 4292, 'nammachitraranga': 4291, 'karnataka': 3129, 'waterfal': 6577, 'naturelov': 4320, 'oregon': 4543, 'onepodcast': 4524, 'onemoretimepodcast': 4521, 'lucacasadei': 3665, 'laceclosur': 3343, 'closuresewin': 1180, 'wig': 6639, 'lacewig': 3346, 'lacefrontwig': 3345, 'blackhairstyl': 643, 'wigslay': 6643, 'meltdown': 3907, 'meltedhairlin': 3908, 'wiginstal': 6640, 'wiglif': 6641, 'wigstyl': 6644, 'straightwig': 5833, 'curlywig': 1389, 'bob': 713, 'silkpressqueen': 5546, 'blackgirlmag': 641, 'laceclosurewig': 3344, 'wigunit': 6646, 'steak': 5809, 'hejian': 2542, 'grain': 2287, 'shadisa': 5452, 'parishilton': 4602, 'sewinskil': 5448, 'wigsforblackwomen': 6642, 'wigtutori': 6645, 'curli': 1388, 'vh1': 6470, 'dearmama': 1491, 'teyanataylor': 6095, 'lalaanthoni': 3367, 'ciara': 1137, 'lukejam': 3672, 'ashanti': 331, 'devalelli': 1547, 'colinkaepernick': 1215, 'anthonyanderson': 249, 'diddi': 1561, 'gabriel': 2130, 'monicadenis': 4122, 'lauren': 3408, 'london': 3602, 'rayj': 5045, 'princesslov': 4877, 'bobbybrown': 715, 'tipharri': 6182, 'tinyharri': 6178, 'jheneaiko': 2990, 'roman': 5210, 'fashionicon': 1934, 'northwest': 4448, 'michaeljackson': 3951, 'aaliyah': 2, 'yeezi': 6784, 'kimkardashian': 3208, 'kimkardashianwest': 3209, 'nori': 4441, 'westi': 6616, 'kardashian': 3124, 'kany': 3117, 'kanyewest': 3118, 'ye': 6782, 'fanpag': 1917, 'chicagowest': 1082, 'kyliejenn': 3332, 'kendalljenn': 3160, 'crifter': 1361, 'khloekardasian': 3187, 'kourtneykardashian': 3286, 'jinx': 3024, 'jinxcosplay': 3026, 'blackhistorymonth': 647, 'blackhistori': 644, 'blackhistory365': 645, 'blackhistoryfact': 646, 'blackpanth': 652, 'blacklivesmatt': 648, 'blackexcel': 640, 'ryancoogl': 5257, 'blackpow': 667, 'nipseyhussl': 4418, 'wakandaforev': 6552, 'malcolmx': 3756, 'melanin': 3901, 'peac': 4634, 'gucci': 2333, 'jayz': 2953, 'phyliciarashad': 4694, 'wick': 6635, 'jokezar': 3042, 'medicin': 3884, 'medit': 3885, 'mediumship': 3887, 'medic': 3882, 'post': 4828, 'text': 6088, 'textpost': 6092, 'textpostaccount': 6093, 'textgram': 6089, 'staystrong': 5808, 'stayhealthi': 5805, 'stayposit': 5806, 'ask': 334, 'eathealthi': 1715, 'abstracttattoo': 16, 'blxckink': 704, 'losangelestattoo': 3617, 'blackworktattoo': 673, 'tttism': 6301, 'linework': 3530, 'instatattoo': 2853, 'latattoo': 3401, 'tat': 6000, 'contemporarytattoo': 1282, 'tattooflash': 6008, 'ttt': 6300, 'blacktattoo': 669, 'flashwork': 2023, 'flash': 2022, 'db': 1475, 'dbz': 1477, 'dragonbal': 1660, 'dragonballsup': 1661, 'toei': 6204, 'goku': 2257, 'ssj': 5765, 'goten': 2279, 'badass': 428, 'gohan': 2256, 'brloy': 795, 'bulma': 849, 'beeru': 533, 'vegeta': 6457, 'chichi': 1083, 'piccolo': 4699, 'freezer': 2081, 'beingold': 545, 'turning30': 6311, 'ladi': 3349, 'grownupproblem': 2312, 'procreat': 4885, 'miketyson': 3971, 'jake': 2931, 'captainamerica': 917, 'aveng': 388, 'ironman': 2884, 'thor': 6134, 'mcu': 3868, 'hulk': 2675, 'blackwidow': 670, 'steverog': 5816, 'chrisevan': 1124, 'loki': 3592, 'avengersinfinitywar': 389, 'buckybarn': 838, 'thano': 6101, 'infinitywar': 2801, 'endgam': 1760, 'robertdnejr': 5192, 'wintersoldi': 6658, 'tom': 6212, 'holland': 2601, 'batman': 493, 'cheyannek': 1078, 'thesummeriturnedpretti': 6122, 'bigfemmeenergi': 602, 'giveherflowh': 2230, 'femmreitforward': 1965, 'trand': 6257, 'naturephotographi': 4321, 'nevergiveup': 4360, 'gymaddict': 2359, 'starbucksdrink': 5784, 'starbucksfrappuccino': 5785, 'starbuckslatt': 5786, 'latt': 3404, 'redvelvetdrink': 5078, 'starbi': 5782, 'starbuckslov': 5787, 'frappuccino': 2075, 'icedlatt': 2729, 'tyson': 6346, 'fbmeme': 1950, 'pinterestmem': 4724, 'facebook': 1888, 'relatablemem': 5112, 'tiktokmem': 6164, 'pinterest': 4723, 'dailymem': 1431, 'dankmem': 1457, 'textmem': 6091, 'haha': 2373, 'nichemem': 4401, 'silli': 5547, 'delulu': 1511, 'delus': 1512, 'paultyson': 4633, 'monsterhigh': 4126, 'monsterhighdol': 4132, 'wealth': 6585, 'monsterhighcostum': 4131, 'monsterhighnew': 4141, 'monsterhighseri': 4142, 'frankiestein': 2074, 'ghouliayelp': 2198, 'monsterhighcollect': 4129, 'clawdeenwolf': 1161, 'monsterhighg1': 4133, 'monsterhighmovi': 4140, 'monsterhighliveact': 4136, 'monsterhighleak': 4135, 'monsterhighcosplay': 4130, 'monsterhigh2010': 4127, 'lagoonablu': 3353, 'draculaura': 1655, 'monsterhighmakeup': 4138, 'monsterhighmem': 4139, 'monsterhighg3': 4134, 'cleodenil': 1168, 'would': 6699, 'childhoodnostalgia': 1090, 'draculauraaesthet': 1656, 'monsterhigh2024': 4128, 'monsterhighthemovi': 4143, 'swatch': 5926, 'lipstick': 3547, 'darkr': 1461, 'basketballmatch': 480, 'basketballhour': 477, 'basketballlov': 479, 'basketballn': 484, 'basketballmov': 483, 'basketballmotiv': 482, 'basketballforev': 475, 'basketballfan': 474, 'basketballleagu': 478, 'basketballquot': 485, 'basketballskil': 486, 'player': 4752, 'basketballmem': 481, 'bball': 501, 'bballforlif': 504, 'bball4lif': 502, 'bballtrain': 509, 'bballedit': 503, 'bballstar': 508, 'bballsho': 507, 'bballislif': 506, 'ufc': 6360, 'jonjon': 3045, 'stipemioc': 5820, 'failur': 1895, 'michaelchandl': 3950, 'charlesoliveira': 1049, 'mma': 4078, 'thomaspel': 6130, 'porsch': 4819, 'carguy': 940, 'cargirl': 939, 'internet': 2868, 'skaikson': 5573, 'mindset': 3989, 'loganpaul': 3591, 'si': 5535, 'satir': 5340, 'thepenguin': 6114, 'dc': 1478, 'cristinmilioti': 1367, 'stylereel': 5870, 'fashionreel': 1939, 'reelfashion': 5082, 'fashionstyl': 1940, 'dailyreel': 1435, 'fallstyl': 1909, 'fallaesthet': 1905, 'fallfashion': 1906, 'fashionaesthet': 1929, 'fashionhack': 1933, 'attitud': 371, 'shayari': 5469, 'leahkateb': 3450, 'miguelharichi': 3968, 'persianprincess': 4661, 'wickedpremier': 6637, 'wickedmovi': 6636, 'redcarpet': 5072, 'redcarpetfashion': 5073, 'glammakeup': 2235, 'loveisland': 3637, 'monsterhighlor': 4137, 'compress': 1253, 'narutoedit': 4305, 'naruto': 4304, 'amv': 198, 'swirl': 5933, 'sharingan': 5463, 'sharinganey': 5464, 'itachi': 2898, 'itachiedit': 2899, 'akatsuki': 127, 'akatsukedit': 126, 'boruto': 747, 'borutoedit': 748, 'anedit': 212, 'saddl': 5272, 'editimaim': 1723, 'amithavachi': 194, 'anbuitachi': 209, 'martialart': 3834, 'newviralreelsvideoa': 4379, 'instagrammarket': 2842, 'reellaroforelet': 5090, 'virat': 6507, 'kohli': 3261, 'viratkohli': 6508, 'interiordesigninspir': 2866, 'instagramnail': 2843, 'instagoodmyphoto': 2838, 'harrisonford': 2505, 'marvelstudio': 3839, 'mango': 3791, 'shebeauti': 5471, 'thin': 6126, 'e': 1703, 'wave': 6580, 'shopeetw': 5506, 'nina': 4409, 'scrap': 5371, 'jerer': 2979, 'rat': 5034, 'bee': 529, 'workshop': 6690, 'gold': 2258, 'salt': 5296, 'teatea': 6036, 'merchant': 3932, 'fudon': 2097, 'jelli': 2960, 'haribo': 2497, 'metaphys': 3941, 'tempera': 6073, 'shui': 5529, 'mate': 3852, 'predict': 4856, 'ambigu': 189, 'divin': 1606, 'cardin': 933, 'caddi': 876, 'cleaningservic': 1164, 'minji': 4033, 'newjean': 4367, 'chemmini': 1068, 'netflix': 4352, 'sepama': 5430, 'tingyi': 6175, 'hydol': 2710, 'baoya': 460, 'poya': 4841, 'spoon': 5750, 'castl': 965, 'badminton': 429, 'axian': 397, 'dynam': 1701, 'memoir': 3917, 'beginn': 538, 'hershey': 2557, 'soft': 5650, 'biscuit': 626, 'cutehairstyl': 1409, 'hairidea': 2388, 'burger': 858, 'mythought': 4269, 'inmyg': 2817, 'shape': 5459, 'relationshipquot': 5115, 'lovequot': 3645, 'relationshipstruggl': 5117, 'arianagrand': 298, 'comparison': 1249, 'arianagrandeupd': 303, 'rembeauti': 5126, 'arianagrandestyl': 302, 'arianagrandeedit': 299, 'arian': 297, 'fetusariana': 1974, 'fetusarianagrand': 1975, 'gainwiththeepluto': 2138, 'celeblowup': 1005, 'arianagrandefan': 300, 'kbyefornow': 3146, 'arianagrandemerch': 301, 'arianamakeup': 304, 'rainonm': 5015, 'arianayoung': 305, 'mafiagrand': 3703, 'instacomedi': 2833, 'bulli': 848, 'scari': 5354, 'jester': 2985, 'spooki': 5749, 'specialeffectsmakeup': 5717, 'sfx': 5449, 'nightmarefuel': 4407, 'scaryart': 5355, 'scarymem': 5356, 'undiscovered_mua': 6392, 'atarahmayhew': 354, 'toofac': 6222, 'makeuplov': 3744, 'facepaint': 1890, 'hudabeauti': 2666, 'shophudabeauti': 5507, 'fentybeauti': 1972, 'kyliecosmet': 3331, 'makeuptrend': 3750, 'jeffreestarcosmet': 2959, 'unleashyourinnerartist': 6406, 'morphebrush': 4165, 'morphebab': 4164, 'slave2beauti': 5597, 'makeupart': 3735, 'jamscharl': 2935, 'colourpopcosmet': 1229, 'anastasiabeverlyhil': 206, 'norina': 4442, 'sigmabeauti': 5542, 'jeffreestar': 2958, 'limecrimemakeup': 3525, 'makeuprevolut': 3748, 'bhcosmet': 586, 'blazin_beauti': 675, 'sophora': 5695, 'muasfam': 4206, 'eyeshadowlook': 1882, 'discoveringmua': 1593, 'newmua': 4370, 'blendtherul': 678, 'makeupdollz': 3738, 'slaaybeauti': 5595, 'underratedmua': 6388, 'muasupport': 4207, 'makeuppag': 3745, 'cutcreas': 1396, 'makeupartists_worldwid': 3737, 'discover_mat': 1592, 'peachyqueenblog': 4635, 'chunkyglitt': 1134, 'superbrow': 5903, 'aspiringmua': 346, 'moult': 4178, 'makeupinspo': 3742, 'youngmua': 6861, 'makeupgo': 3739, 'makeuppictori': 3746, 'brightmakeup': 790, 'sewin': 5447, 'eagl': 1704, 'baldeagl': 446, 'aurora': 377, 'cope': 1300, 'lovemyjob': 3642, 'lovethisgirl': 3652, 'dynicheith': 1702, 'dbgt': 1476, 'trunk': 6296, 'amvlkkk': 200, 'blueivi': 699, 'houseofcb': 2654, 'blackgirlsrock': 642, 'blackandproud': 636, 'kendaljenn': 3159, 'kourtney': 3285, 'insect': 2825, 'pregnant': 4860, 'congratul': 1266, 'fighthyp': 1984, 'canada': 904, 'unitedstatesofamerica': 6403, 'england': 1778, 'stress': 5850, 'declain': 1495, 'artifact': 322, 'shotononeplu': 5511, 'oneplus12': 4523, 'hasselblad': 2513, 'moonsofinstagram': 4158, 'mobilephotographi': 4092, 'supermoon': 5909, 'nightshift': 4408, 'ladear': 3348, 'roll': 5206, 'kitkat': 3238, 'haoyao': 2483, 'dcard': 1479, 'earli': 1705, 'went': 6610, 'lie': 3507, 'said': 5289, 'toilet': 6208, 'cheat': 1057, 'restroom': 5152, 'intim': 2870, 'question': 4981, 'dcard2020': 1480, 'river': 5186, 'designmem': 1535, 'architecturemem': 290, 'torontotstheerastour': 6231, 'taylorswift': 6018, 'daichuang': 1425, 'myeongdong': 4257, 'bright': 789, 'cave': 1001, 'raider': 5011, 'madou': 3701, 'mician': 3958, 'bouquet': 755, 'hunnam': 2686, 'captainamericabravenewworld': 918, 'relax': 5119, 'mouthsound': 4182, 'asmrtrigg': 343, 'acn': 27, 'asmr_tingl': 337, 'asmrrelax': 340, 'asmrroleplay': 341, 'asmrvideo': 344, 'prais': 4850, 'lofiasmr': 3587, 'stopmot': 5825, 'streetfight': 5846, 'wwe': 6711, 'max': 3860, 'radharani': 4999, 'operettaphantom': 4535, 'skullector': 5590, 'bballgam': 505, 'bbal': 500, 'eyeshinycosplay': 1883, 'norori': 4443, 'romanceanim': 5212, 'anime2024': 223, 'michal': 3953, 'animecosplay': 225, 'cosplaygirl': 1317, 'pleasur': 4758, 'yili': 6806, 'skid': 5578, 'zhicheng': 6944, 'cologn': 1224, 'thescenti': 6118, 'lildurk': 3523, 'colorfuleyeshadow': 1226, 'loltok': 3601, 'leaguetok': 3449, 'cricket': 1356, 'cricketvideo': 1360, 'cricketfan': 1357, 'foryoupag': 2067, 'bobby_4uhh': 714, 'nagpur': 4274, 'raipur': 5016, 'indor': 2794, 'dean': 1488, 'wawa': 6581, 'ecolog': 1718, 'snake': 5626, 'magictrick': 3709, 'lifehack': 3510, 'tipsandtrick': 6188, 'diyhack': 1613, 'turn': 6310, 'dumb': 1690, 'beast': 524, 'gashapon': 2152, 'slowpok': 5606, 'chairman': 1030, 'chair': 1029, 'bunge': 851, 'extrem': 1877, 'tuankang': 6302, 'teamwork': 6035, 'royal': 5234, 'treasur': 6268, 'mattress': 3859, 'yongkang': 6833, 'aj': 123, 'lucki': 3668, 'energi': 1763, 'part': 4613, 'bloodi': 691, 'applewatchseries10': 263, 'tast': 5996, 'friendli': 2087, 'tavern': 6016, 'skew': 5577, 'biggest': 603, 'bigtim': 607, 'podcast': 4768, 'humandevelop': 2677, 'godfirst': 2248, 'defec': 1500, 'detoxifi': 1546, 'edema': 1721, 'lymphic': 3684, 'detoxif': 1545, 'fortun': 2065, 'bellydanc': 555, 'danceclass': 1448, 'persian': 4660, 'turkishwed': 6309, 'londonbellydanc': 3603, 'dubai': 1686, 'fitnessmotiv': 2016, 'wellb': 6605, 'costum': 1320, 'clerk': 1169, 'happyday': 2488, 'lovelylif': 3641, 'workplac': 6689, 'neg': 4348, 'shabarimala': 5450, 'ayyappa': 403, 'swamiy': 5923, 'saranam': 5335, 'ayappa': 399, 'bun': 850, 'shanghai': 5458, 'pump': 4928, 'panfri': 4592, 'save': 5345, 'lolmem': 3598, 'niccolazzi': 4396, 'jayc': 2952, 'vi': 6471, 'cricketlov': 1358, 'cricketreel': 1359, 'gondia': 2261, 'balaghati': 443, 'lore': 3615, 'xp': 6756, 'filmbuff': 1990, 'research': 5144, 'institut': 2858, 'reptil': 5138, 'wbj': 6584, 'award': 393, 'parachut': 4597, 'beer': 532, 'egypt': 1731, 'lai': 3354, 'rui': 5245, 'batch': 491, 'gg': 2194, 'catcher': 972, 'sofa': 5648, 'owner': 4575, 'donghai': 1633, 'gather': 2156, 'bartend': 469, 'filmmak': 1991, 'relief': 5123, 'bellyd': 554, 'grate': 2294, 'losangel': 3616, 'ink': 2814, 'latattooartist': 3402, 'blkttt': 685, 'swifti': 5931, 'taylorsvers': 6017, 'taylorswiftedit': 6019, 'taylorswiftnew': 6020, 'theerastour': 6110, 'tstheerastour': 6298, 'reput': 5140, 'reputationtv': 5141, 'react': 5047, 'fama': 1910, 'youngthug': 6863, 'atlanta': 363, 'yslrico': 6869, 'rap': 5030, 'loveoflif': 3644, 'womensbest': 6670, 'happymarriag': 2494, 'marriageisawesom': 3825, 'marriage365': 3819, 'marriagecoach': 3821, 'marriagecontract': 3822, 'relationshiptip': 5118, 'lifequot': 3512, 'relationshiprul': 5116, 'marriagemind': 3826, 'marriagehelp': 3824, 'changeyourmindset': 1040, 'marriageproblem': 3829, 'marriagequot': 3830, 'marriageparti': 3827, 'marriagephotographi': 3828, 'loveforwork': 3634, 'marriagestori': 3831, 'marriageadvic': 3820, 'marriagetip': 3832, 'ig': 2748, 'mediunidad': 3888, 'amma': 195, 'ratsnak': 5035, 'shorttailpython': 5510, 'python': 4950, 'sillyanim': 5548, 'goofi': 2270, 'chaotic': 1043, 'calm': 887, 'mistama': 4060, 'figaronew': 1981, 'madamefigarohk': 3695, 'lisa': 3553, 'lalisa': 3373, 'lisaxsingaporefanmeet': 3563, 'gopro': 2273, 'goprohero': 2274, 'dazedayztrip': 1474, 'dazedayz': 1473, 'jwmarriottphuquoc': 3082, 'tenni': 6078, 'tennisdril': 6080, 'footwork': 2052, 'mobilityexercis': 4094, 'hipmobl': 2573, 'injuryprevent': 2813, 'tenniscourt': 6079, 'movebett': 4184, 'movemor': 4186, 'movementismedicin': 4185, 'agil': 93, 'stabil': 5769, 'beforeof': 537, 'mrdavidfunni': 4201, 'luna': 3674, 'azuki': 406, 'landmin': 3384, 'giragyo': 2213, 'pleaselik': 4757, 'melaninpoppin': 3903, 'blackbusi': 638, 'blackcultur': 639, 'blackwoman': 671, 'blacklov': 649, 'melaninmakeupdaili': 3902, 'naturalhair': 4314, 'redvelvetlatt': 5079, 'spiderman': 5740, 'marvelcom': 3838, 'tonystark': 6221, 'marvelunivers': 3840, 'captainmarvel': 919, 'bucki': 836, 'barn': 468, 'robertdowneyjr': 5193, 'hawkey': 2518, 'gavincasalegno': 2158, 'marriag': 3818, 'scooti': 5369, 'race': 4996, 'zailin': 6900, 'jae': 2927, 'rim': 5179, 'rojaklah': 5204, 'vest': 6468, 'belli': 553, 'yoga': 6825, 'thigh': 6125, 'sediment': 5391, 'menstrual': 3922, 'pain': 4584, 'uteru': 6421, 'abdomen': 7, 'stovepip': 5830, 'postpartum': 4830, 'slimat': 5602, 'jenni': 2968, 'vogu': 6526, 'yuani': 6874, 'jangwonyoung': 2940, 'for_everyoung10': 2053, 'push': 4945, 'yonnnn': 6838, 'prefectur': 4857, 'foodporn': 2046, 'eatclean': 1713, 'eatloc': 1716, 'knockout': 3255, 'carletti': 944, 'butterfli': 869, 'mustachesofinstagram': 4243, 'mustachwax': 4245, 'actabl': 29, 'mustach': 4241, 'handlebar': 2465, 'mustachepow': 4242, 'facialhair': 1891, 'beard': 522, 'beardoil': 523, 'mustachetok': 4244, 'deathgripbrotherhood': 1493, 'jim': 3012, 'weightloss': 6596, 'rescuedog': 5143, 'ronaldo': 5216, 'simpson': 5555, 'feastabl': 1954, 'plant': 4745, 'bjj': 629, 'mmabreez': 4079, 'kickbox': 3192, 'jiujitsu': 3033, 'wrestl': 6700, 'karat': 3123, 'fighter': 1983, 'mixedmartialart': 4067, 'mmatrain': 4083, 'bjjlifestyl': 630, 'michealchandl': 3955, 'fcbrazil': 1952, 'ufcbrasil': 6370, 'chama': 1033, 'madisonsquaregarden': 3700, 'assetocorsa': 349, 'cuttingupintraff': 1414, 'maid_alsari': 3719, 'melarcan': 3904, 'melmedarda': 3905, 'arcaneshow': 277, 'jinxarcan': 3025, 'mel': 3900, 'arcanefanart': 274, 'echo': 1717, 'arcaneisha': 275, 'myart': 4254, 'fanart': 1915, 'defygrav': 1503, 'defyinggrav': 1504, 'adhdbrain': 52, 'adud': 62, 'nervoussystemregul': 4351, 'timeblock': 6167, 'dopamin': 1639, 'mompreneurlif': 4116, 'danwhit': 1458, 'conormcgregor': 1270, 'eddiealvarez': 1720, 'fightweek': 1985, 'coffeeshop': 1202, 'firstdat': 2001, 'storytim': 5829, 'escapethematrix': 1805, 'plottwist': 4759, 'maincharact': 3724, 'dentalhygienist': 1520, 'dentist': 1524, 'dentaloffic': 1521, 'dental': 1517, 'dentalhygien': 1518, 'dentalstud': 1522, 'dentalhygienestud': 1519, 'workhumor': 6686, 'houston': 2656, 'netflixandchil': 4353, 'clip': 1176, 'moviereel': 4194, 'mowialop': 4199, 'filmscen': 1993, 'letterboxd': 3494, 'creatoreconomi': 1350, 'contentcreationidea': 1285, 'selfedcu': 5399, 'selfmad': 5402, 'selfmind': 5403, 'viktor': 6493, 'revenescart': 5159, 'ufc_mma_sport': 6369, 'mmacommun': 4080, 'blowthisup': 694, 'chaelsonnen': 1023, 'fcfunni': 1953, 'grammi': 2288, 'concertvideo': 1259, 'chappellroan': 1044, 'sza': 5942, 'kick': 3191, 'raven': 5037, 'baltimor': 450, 'lamar': 3378, 'superbowl': 5902, 'ravensflock': 5038, 'ravensn': 5039, 'steeler': 5813, 'ayyappa_': 404, 'ref': 5104, 'chiefssuck': 1087, 'chiefskingdom': 1086, 'nfl': 4386, 'sam': 5297, 'darnold': 1463, 'justinjefferson': 3078, 'nflnew': 4390, 'nflmeme': 4389, 'nflref': 4391, 'nflrefssuck': 4392, 'vike': 6492, 'nflfootbal': 4388, 'footbal': 2051, 'nfledit': 4387, 'bronco': 802, 'charger': 1048, 'bengal': 558, 'bill': 612, 'san': 5318, 'francisco': 2073, 'ninergang': 4411, 'fttb': 2094, 'connormcgregor': 1269, 'thomaspin': 6131, 'releas': 5122, 'fypppppppppppppppppppppppppppppppppppppppppppppppppppppppppppppppppppppp': 2124, 'khabibnurmagomedov': 3181, 'khabib': 3180, 'type1diabet': 6344, 'doublesitechang': 1649, 'diabetictoddl': 1557, 'type1': 6343, 't1dm': 5944, 'dexcom': 1551, 'omnipod': 4516, 'makebigtalk': 3731, 'bigtalk': 606, 'longlif': 3611, 'seniorcitizen': 5414, 'meaningfulconvers': 3872, 'streetinterview': 5848, 'meaningfulconnect': 3871, 'natediaz': 4307, 'mcgregor': 3866, 'khabibtim': 3182, 'justingaethj': 3077, 'codygarbrandt': 1200, 'ufc257': 6361, 'ufc258': 6362, 'ufc259': 6363, 'ufc261': 6365, 'ufc26': 6364, 'dustinpoiri': 1696, 'codvorlov': 1199, 'chad': 1019, 'ufc263': 6366, 'ufc264': 6367, 'diljitdosanjh': 1572, 'hyderabad': 2706, 'india': 2787, 'dilluminatitour2024': 1573, 'goal': 2244, 'strike': 5852, 'grappler': 2293, 'mmahighlight': 4082, 'ade': 39, 'khamzat': 3183, 'silva': 5549, 'masvid': 3850, 'alex': 161, 'jangarri': 2938, 'paddi': 4582, 'diamond': 1559, 'jiri': 3028, 'pereira': 4652, 'mysenelook': 4267, 'lipsensedistributor': 3545, 'lipstickaddict': 3548, 'lipsticklov': 3549, 'lip': 3537, 'gloss': 2241, 'kissproof': 3230, 'smudgeprof': 5623, 'pinklipstick': 4718, 'lipsmatt': 3546, 'lipboss': 3539, 'powerlip': 4837, 'lipstikhal': 3551, 'shadowsens': 5454, 'senegencedistributor': 5412, 'senegenceintern': 5413, 'smudgeproof': 5624, 'lipmatt': 3543, 'waterproofmakeup': 6578, 'bossbab': 750, 'cosmet': 1310, 'cosmeyl': 1311, 'alexpereira': 162, 'ufc310': 6368, 'poatan': 4764, 'rio': 5182, 'de': 1484, 'janeiro': 2936, 'sweep': 5927, 'paulo': 4632, 'ufcfight': 6371, 'impress': 2773, 'voic': 6528, 'america': 190, 'akon': 138, 'tysonnfur': 6348, 'boxinglif': 761, 'ryangarcia': 5258, 'ironmik': 2885, 'boxer': 760, 'boxingnew': 762, 'ironmiketyson': 2886, 'mahabali': 3713, 'hanuman': 2474, 'fulfil': 2099, 'jahanuman': 2928, 'momproblem': 4117, 'toddlerhack': 6200, 'momhacks101': 4112, 'babyhack': 417, 'gone': 2262, 'twitter': 6337, 'mue': 4208, 'pizzamak': 4737, 'chef': 1063, 'med': 3879, 'groom': 2306, 'kongt': 3269, 'beinganadult': 544, 'ukcom': 6380, 'smallpress': 5614, 'smallpressuk': 5615, 'miss': 4055, 'missuniverse2023': 4057, 'missuniverse2024': 4058, 'mexico': 3945, 'orchestra': 4541, 'yingji': 6810, 'headset': 2526, 'oasi': 4480, 'ledzeppel': 3462, 'queen': 4976, 'blur': 702, 'veli': 6458, 'snicker': 5629, 'basqu': 488, 'yizhong': 6820, 'yizhongji': 6821, 'zhongji': 6951, 'characterist': 1046, 'hidden': 2565, 'girlfriendshipstatu': 2219, 'town': 6241, 'export': 1873, 'special': 5716, 'offer': 4491, 'clear': 1166, 'auction': 373, 'warehous': 6566, 'clearanc': 1167, 'break': 779, 'earn': 1706, 'superior': 5905, 'haokang': 2480, 'hyderabadconcert': 2707, 'borntoshin': 746, 'telanganalov': 6052, 'punjabivib': 4933, 'musicunit': 4238, 'liveconcert': 3572, 'desiswag': 1537, 'diljitaliway': 1571, 'hamburg': 2407, 'catai': 968, 'space': 5713, 'cosmo': 1312, 'astrophotographi': 353, 'isro': 2893, 'passeng': 4616, 'moonlov': 4156, 'moonphotographi': 4157, 'version': 6467, 'mrt': 4202, 'cell': 1009, 'dcard2024': 1481, 'koreanbeauti': 3273, 'kbeauti': 3143, 'matter': 3858, 'makeuplook': 3743, 'makeupidea': 3740, 'kpopmakeup': 3302, 'powerofmakeup': 4838, 'kbeautymakeup': 3144, 'makeupreel': 3747, 'toyota': 6244, 'rav4': 5036, 'corollacross': 1307, 'alti': 178, 'corollasport': 1308, 'raoh': 5029, 'lipstik': 3550, 'instagod': 2836, 'liketim': 3521, 'laik': 3355, 'laikrosrossey': 3360, 'lipe': 3540, 'burst': 864, 'mutual': 4248, 'sp': 5711, 'laikahim': 3356, 'laiki': 3358, 'lakatmigraigra': 3362, 'laikivzama': 3359, 'sparrow': 5714, 'lakivz': 3365, 'liquid': 3552, 'lakatmukraina': 3363, 'l': 3336, 'conflict': 1263, 'drive': 1679, 'sightse': 5541, 'sswagger': 5767, 'origami': 4548, 'slug': 5607, 'okarung': 4504, 'luffi': 3669, 'battl': 495, 'mantra': 3799, 'war': 6564, 'yamei': 6768, 'fell': 1962, 'homophon': 2618, 'harmon': 2502, 'term': 6083, 'suitcas': 5881, 'opt': 4536, 'ahc': 105, 'langzhi': 3392, 'cnp': 1190, 'prmay': 4880, 'chain': 1028, 'essenc': 1811, 'mask': 3843, 'poyabeauti': 4842, 'poyagirl': 4843, 'swami': 5922, 'pampa': 4590, 'tt': 6299, 'zplz': 6969, 'mirror': 4050, 'plzsupportm': 4762, 'iyyappan_sabarim': 2916, 'cannat': 910, 'kannadareel': 3110, 'exam': 1841, 'reelat': 5081, 'reelfunni': 5084, 'realfunni': 5051, 'reelvir': 5103, 'perhap': 4656, 'trace': 6249, 'linguiti': 3532, 'drum': 1682, 'typhoon': 6345, 'classic': 1159, 'persuas': 4665, 'beamng': 515, 'beamngcrash': 516, 'name': 4284, 'giveaway': 2229, 'alphabet': 173, 'moneychalleng': 4121, 'givingmoney': 2232, 'subscrib': 5873, 'funnychalleng': 2107, 'jimmybluffton': 3014, 'mexicoc': 3946, 'timelessbeauti': 6170, 'missuniverso2024': 4059, 'evacav': 1833, 'china': 1093, 'hyderabaddiari': 2708, 'bodybuild': 721, 'paralyz': 4600, 'entir': 1800, 'qq': 4964, 'chinesebeauti': 1097, 'kstyle': 3311, 'makeupvideo': 3752, 'makeuknori': 3733, 'qingshi': 4960, 'danfeng': 1456, 'ravin': 5041, 'yariscross': 6777, 'ssw': 5766, 'z': 6899, 'akpsucrigittemon': 139, 'masterchef': 3849, 'cheflif': 1065, 'jamescharl': 2933, 'delicatesquash': 1509, 'theballoonboy': 6103, 'unfreezemyaccount': 6393, 'afrotech': 88, 'successstori': 5877, 'witch': 6663, 'spiritualjourney': 5744, 'spiritu': 5743, 'boho': 726, 'farmhous': 1922, 'cottagecor': 1322, 'eater': 1714, 'explorepost': 1870, 'memestagram': 3914, 'wholesom': 6632, 'wholesomemem': 6633, 'viralmovi': 6502, 'beautyandeleg': 526, 'bellezayelegancia': 552, 'ownership': 4576, 'kanolamkandathuporasong': 3116, 'damn': 1443, 'hunan': 2682, 'sour': 5705, 'steam': 5810, 'okinawa': 4506, 'thornton': 6135, 'thorntonschocol': 6136, 'passtheloveon': 4617, 'sayitwiththornton': 5349, 'uniquelythornton': 6401, 'migrosin': 3967, 'trendyolmilla': 6280, 'elisi': 1739, 'onlinekoçluk': 4527, 'canvic': 912, 'foalfoot': 2035, 'nightgown': 4406, 'amin': 193, 'businesswoman': 867, 'kitap': 3234, 'deaf': 1487, 'huski': 2694, 'subscript': 5874, 'wantlaiki': 6563, 'chamomil': 1034, 'liken': 3519, 'lt': 3662, 'marathon': 3808, 'promot': 4902, 'shit': 5498, 'piarigra': 4698, 'likezalaik': 3522, 'manylack': 3803, 'comct': 1231, 'laiktaim': 3361, 'laikedmukraina': 3357, 'makeupartist': 3736, 'acchu': 19, 'acchucr': 20, 'hassan': 2512, 'kannadawhatsappstatusworld': 3115, 'kanmadamedia': 3100, 'kannadabeat': 3103, 'kannadasing': 3111, 'kannadamotiv': 3108, 'kannadathought': 3113, 'kannadalovesong': 3106, 'heel': 2540, 'canadian_dub': 905, 'kannadastatusvideo': 3112, 'kannadamem': 3107, 'kannadawhatsappstatu': 3114, 'kannadahitsong': 3104, 'kannadaquot': 3109, 'kannadalov': 3105, 'chinishkogilize2': 1100, 'kannada': 3101, 'videoꜱ': 6487, 'egg_cream': 1729, 'sadvideo': 5286, 'sadpag': 5281, 'heartbroken': 2534, 'brokenreel': 801, 'instagramreel': 2844, 'egg_cri': 1730, 'oneheart': 4519, 'yuzuku': 6897, 'emuls': 1756, 'bath': 492, 'grapefruit': 2292, 'blossom': 693, 'anti': 250, 'dedu': 1499, 'shampoo': 5456, 'nippl': 4417, 'mild': 3973, 'liangz': 3504, 'roster': 5225, 'destini': 1541, 'enzym': 1804, 'pomelo': 4797, 'incens': 2784, 'shini': 5490, 'cosplayarcan': 1315, 'cosplayerarcan': 1316, 'powder': 4835, 'kissoflif': 3229, 'kpopfyp': 3296, 'kpopcov': 3289, 'kca': 3147, 'kcacov': 3149, 'officialkcacelest': 4494, 'therealkcanova': 6116, 'singingcov': 5561, 'singingcollab': 5560, 'kcaartist': 3148, 'songcov': 5677, 'vocalist': 6525, 'igloo': 2750, 'iglookissoflif': 2752, 'clitz': 1179, 'offici': 4493, 'bharathi': 585, 'vasu': 6454, 'tamil': 5982, 'zeetamil': 6917, 'elor': 1743, 'murnshad': 4227, 'couplego': 1328, 'viralpost': 6503, 'couplesgo': 1330, 'exploring_shotz': 1871, 'exploremoretoday': 1868, 'itxqq33n11': 2909, 'trace00ra': 6250, 'truelov': 6294, 'relationshipgo': 5114, 'lovey': 3654, 'loveyourself': 3655, 'relationship': 5113, 'true': 6292, 'forev': 2058, 'trashband': 6263, 'kui': 3314, 'gang': 2145, 'guest': 2335, 'pearl': 4639, 'radio': 5002, 'shunxin': 5532, 'scholar': 5361, 'daxian': 1469, 'sanmai': 5326, 'shivakrathikeen': 5499, 'sapallvi': 5330, 'heymin': 2559, 'alammil': 157, 'amaranmoviesong': 183, 'mbti': 3862, 'istj': 2896, 'isfj': 2890, 'fh': 1977, 'estj': 1814, 'enfj': 1764, 'enfp': 1765, 'infp': 2807, 'infj': 2802, 'entp': 1802, 'entj': 1801, 'intj': 2871, 'intp': 2872, 'estp': 1815, 'esfp': 1807, 'isfp': 2891, 'istp': 2897, 'analyz': 203, 'lava': 3409, 'macaron': 3690, 'teamnatur': 6032, 'blackwomen': 672, 'naturalhairdaili': 4316, 'naturalhairjourney': 4317, 'hairgrowth': 2386, 'hairjourney': 2389, 'naturalhaircommun': 4315, 'coil': 1204, 'coilyhair': 1205, 'temntral': 6072, 'karalaiyar': 3122, 'twistout': 6335, 'shando': 5457, 'blackandbeauti': 634, 'nappi': 4302, 'afro': 87, 'bigar': 598, 'bighairdontcar': 604, 'father_baj': 1946, 'yumplingnyc': 6886, 'york': 6848, 'wu': 6706, 'wubai': 6708, 'tutor': 6315, 'pixar': 4732, 'sun': 5891, 'yanzi': 6776, 'touch': 6235, 'type': 6342, 'analysi': 201, 'manag': 3778, 'newzealand': 4382, 'taiyan': 5977, 'snsd': 5637, 'girlsgener': 2223, 'sunni': 5896, 'tiffani': 6156, 'tiffanyyoung': 6158, 'hyoyeon': 2716, 'yoona': 6841, 'seohyun': 5419, 'neverland': 4361, 'constel': 1274, 'sincer': 5557, 'mamamoo': 3762, 'moonstar': 4159, 'silk': 5545, 'charm': 1051, 'cindychenyaxin': 1140, 'standup': 5777, 'servic': 5437, 'rebelwilson': 5062, 'jimmyfallon': 3015, 'pitchperfect': 4730, 'shohei': 5503, 'otani': 4555, 'mamiko': 3775, 'romerobrit': 5215, 'deco': 1496, 'pin': 4713, 'divers': 1605, 'sphynxlair': 5730, 'sphynxmoment': 5732, 'sphynxtagram': 5737, 'sphynxcat': 5722, 'sphynxhous': 5727, 'sphynxofinsta': 5733, 'sphynxismyworld': 5728, 'sphynxkitten': 5729, 'sphynxclub': 5724, 'sphynxcatsruletheworld': 5723, 'sphynxlov': 5731, 'sphynx': 5719, 'sphynxoftheday': 5735, 'sphynx_featur': 5720, 'sphynxcorn': 5725, 'sphynxofinstagram': 5734, 'sphynxgram': 5726, 'sphynxsquad': 5736, 'dwarfhamstersofinsta': 1700, 'littlehamst': 3569, 'bookster': 740, 'hamsterruss': 2449, 'jualhamst': 3054, 'hamsterl': 2435, 'hamster': 2419, 'hamstern': 2442, 'jisoo': 3030, 'rose': 5224, 'pinkven': 4720, 'jenli': 2963, 'jenniekim': 2971, 'jennierubejan': 2972, 'lalisamanoban': 3377, 'kimusoo': 3218, 'parkchaeyoung': 4606, 'blackpinklisa': 661, 'blackpinkjisoo': 659, 'blackpinkros': 663, 'meghanmarkl': 3892, 'angelinajoli': 215, 'angelinjolli': 216, 'angelina': 214, 'joli': 3043, 'teamjoli': 6029, 'calla': 886, 'pablolarrain': 4578, 'pierfrancesco': 4705, 'favino': 1948, 'albarohrwach': 159, 'valeriagolino': 6429, 'ch': 1017, 'yeon': 6789, 'leefelix': 3467, 'straykid': 5838, 'felix': 1959, 'hanjisung': 2472, 'leeknow': 3470, 'skz': 5594, 'hyunjin': 2720, 'seungmin': 5444, 'kimseungmin': 3214, 'seochangbin': 5418, 'jeongin': 2976, 'leeminho': 3471, 'jisung': 3031, 'minho': 4024, 'jyp': 3083, 'felixstraykid': 1960, 'straykidsfelix': 5840, 'youmakestraykidsstay': 6855, 'yongbok': 6831, 'freckl': 2076, 'peel': 4643, 'serum': 5436, 'pr': 4844, 'nose': 4449, 'sebum': 5387, 'oili': 4503, 'mamamo': 3761, 'moonbyul': 4150, 'moonbyulyi': 4153, 'mamamoomoonbyul': 3769, 'solarkeem': 5660, 'wheein': 6619, 'hwasa': 2701, 'bunsei': 856, 'wen': 6608, 'xingyi': 6741, 'poison': 4776, 'piaoli': 4697, 'wenx': 6612, 'yi': 6802, 'hang': 2471, 'watsha': 6579, 'pile': 4711, 'rongxian': 5219, 'brilliant': 792, 'moonbari': 4149, 'carat': 923, 'hoshi': 2640, 'shunrong': 5531, 'musutoru': 4247, 'idl': 2740, 'gidlehuhuhua': 2202, 'idolworldtour': 2744, 'larisa': 3398, 'lalasamnoban': 3370, 'lalisaedit': 3376, 'lalisablackpink': 3374, 'lisaedit': 3558, 'lisablacpink': 3556, 'lisabias': 3554, 'lalisad': 3375, 'itgirl': 2906, 'globalitgirl': 2238, 'soloist': 5666, 'soloistlisa': 5667, 'yongzhi': 6837, 'yaizheng': 6762, 'nct': 4342, 'enciti': 1758, 'yishi': 6813, 'hui': 2672, 'ni': 4395, 'jennieblackpink': 2969, 'lisablackpink': 3555, 'jenlisainyourarea': 2966, 'jenliser': 2967, 'jenlisaforv': 2965, 'jenlisaedit': 2964, 'blackpinkinyourarea': 657, 'blink': 683, 'lovewin': 3653, 'lgbt': 3497, 'bornpink': 744, 'piri': 4725, 'philic': 4678, 'philix': 4680, 'longfu': 3609, 'intellig': 2860, 'produce101': 4888, 'cornerthreemedia': 1306, 'cornerthre': 1305, 'thompsonjconnor': 6132, 'nba': 4332, 'nbamem': 4338, 'dunk': 1692, 'lebron': 3459, 'michaeljordan': 3952, 'kobe': 3258, 'nbaplay': 4340, 'nbahighlight': 4337, 'nbaedit': 4336, 'basketballvir': 487, 'mamamooplu': 3770, 'mamamu': 3772, 'yongseon': 6835, 'moonsun': 4160, 'hamstargram': 2418, 'happyinfo': 2492, 'koreanupd': 3278, 'kdrama': 3151, 'need': 4346, 'seoullif': 5429, 'starlit_of_twinkl': 5792, 'is_this_lov': 2888, 'i_sway': 2723, 'worldtour': 6696, 'gidl': 2201, 'newalbum': 4363, 'kuchydl': 3313, 'minnieidl': 4038, 'soeon': 5647, 'miyeonidl': 4074, 'xiaojuan': 6726, 'playlist': 4754, 'cnblue': 1185, 'charlottehornet': 1050, 'miamiheat': 3948, 'lebronjam': 3460, 'lukadonc': 3671, 'nbaplayoff': 4341, 'wembi': 6607, 'sctop10': 5376, 'scoothenderson': 5368, 'terryrozi': 6085, 'lamelobal': 3380, 'milesbridg': 3974, 'nbanew': 4339, 'hornet': 2637, 'stephcurri': 5815, 'brandonmil': 772, 'nbaallstar': 4334, 'ballfamili': 448, 'liangelobal': 3503, 'nbadraft2024': 4335, 'moomoo': 4147, 'mamamoofancam': 3766, 'solarfancam': 5659, 'mamamooedit': 3764, 'whistl': 6625, 'hwanghyunjin': 2698, 'changbin': 1039, 'straykidschangbin': 5839, 'straykidshyunjin': 5841, 'hyunlix': 2721, 'minsung': 4042, 'explain': 1863, 'straykidskingdom': 5842, 'straykidsturkey': 5843, 'aespawhiplash': 77, 'hamstergram': 2431, 'animalslov': 221, 'mungballthehamst': 4223, 'hungryhammi': 2685, 'syrianhamst': 5940, 'hamsterlif': 2440, 'petoftheday': 4669, 'hamsteroftheday': 2444, 'hamsterlov': 2441, 'cuteanim': 1398, 'heat': 2535, 'outer': 4565, 'bread': 777, 'kimjenna': 3203, 'kimjisoo': 3205, 'jeni': 2962, 'anayaluv': 208, 'kep1er': 3164, 'kepler': 3166, 'chaehyun': 1021, 'tipi_tap': 6183, 'tipitappp': 6185, 'mine': 3991, 'nich': 4398, 'wheeinthemoodencor': 6620, 'dad': 1419, 'kimjiwon': 3206, 'stoneheng': 5824, 'toe': 6203, 'sohyun': 5653, 'parksohyun': 4609, 'hyun': 2718, 'gisel': 2226, 'audiz': 375, 'genuin': 2182, 'guarante': 2330, 'hamstagram': 2416, 'jungarian': 3065, 'ham': 2406, 'pochan': 4766, 'memori': 3918, 'kotamura': 3283, 'hamdi': 2408, 'increas': 2786, 'kb': 3142, 'kbscoolfm': 3145, 'jung': 3063, 'ahn': 108, 'huiren': 2673, 'huizhen': 2674, 'last': 3399, 'strang': 5834, 'be': 512, 'laugh': 3406, 'unhappi': 6394, 'ghost': 2197, 'hundr': 2683, 'sohyeon': 5652, 'guanzhi': 2329, 'success': 5876, 'histori': 2580, 'bigbang': 599, 'superiunior': 5906, 'starlight': 5790, 'teenag': 6047, 'blacksuit': 668, 'sj': 5570, 'draft': 1657, 'aquariu': 270, 'leg': 3474, 'roborovski': 5195, 'mushi': 4233, 'hamsteregram': 2429, 'moosun': 4161, 'mu': 4205, 'sammiesofig': 5299, 'vanderbiltsamoy': 6440, 'samoyedlifa': 5308, 'samodedpuppi': 5301, 'samoyedpuppi': 5312, 'samodinstagram': 5302, 'petphotographi': 4670, 'moss': 4166, 'dogsofcanca': 1622, 'samoyedo': 5310, 'freedi': 2079, 'furbabi': 2111, 'dogreel': 1621, 'samoyedlov': 5309, 'puppyoftheday': 4939, 'puppylif': 4937, 'puppiesofig': 4936, 'puppytim': 4940, 'samoyedworld': 5314, 'dogphotographi': 1620, 'reelgrowth': 5085, 'fleet': 2025, 'cl': 1153, 'sandarabak': 5320, 'bom': 735, 'citizen': 1149, 'parkbom': 4605, 'manual': 3800, 'minzi': 4046, 'felixsunshin': 1961, 'yong': 6829, 'bok': 727, 'shiba': 5484, 'beanborn': 519, 'rais': 5017, 'wangwang': 6560, 'mixdog': 4066, 'doglov': 1618, 'jenduki': 2961, 'kane': 3095, 'jennieedit': 2970, 'et': 1816, 'al': 156, 'zico': 6961, 'newsong': 4374, 'blackpinkyg': 665, 'famou': 1913, 'girlhood': 2221, 'ritual': 5185, 'glass': 2236, 'xiu': 6747, 'ying': 6808, 'swim': 5932, 'sooyoung': 5694, 'sone': 5674, 'dolmen': 1626, 'issu': 2894, 'se': 5378, 'rogu': 5203, 'pride': 4873, 'younger': 6857, 'blackpinkstyl': 664, 'blackpinkistherevolut': 658, 'blackpinkoffici': 662, 'blackpinkcomeback': 654, 'pranapriyoban': 4851, 'blackpinklalisa': 660, 'lisamoney': 3559, 'bpmyluvz': 768, 'prettysavag': 4867, 'lalalal': 3368, 'lovesickgirl': 3648, 'boombayah': 741, 'ddududdududu': 1483, 'liskook': 3564, 'shengch': 5476, 'qian': 4956, 'combin': 1230, 'theboy': 6107, 'genv': 2183, 'yule': 6883, 'maika': 3720, 'yamamoto': 6767, 'lean': 3451, 'mtvema': 4204, 'lisaxmoonlitfloor': 3561, 'lalasamnob': 3369, 'lisaxloui': 3560, 'lisaxnewwoman': 3562, 'fashionlov': 1936, 'fashionaddict': 1928, 'fashiondesign': 1931, 'fashionphotographi': 1938, 'collabor': 1216, 'fashionblogg': 1930, 'chic': 1081, 'fashionphotograph': 1937, 'classi': 1158, 'attack': 367, 'titanium': 6193, 'myheroacademia': 4262, 'mikasa': 3970, 'chinesegirl': 1098, 'teddybearhamst': 6045, 'misshammytv': 4056, 'darlenehamsterland': 1462, 'hamsterbabi': 2421, 'hamsterdaili': 2426, 'key': 3175, 'hamstori': 2458, 'nay': 4328, 'newmonday': 4369, 'skater': 5576, 'skate': 5574, 'skateboard': 5575, 'genz': 2184, 'genalpha': 2170, 'hk': 2584, 'hkg': 2589, 'nm_': 4428, 'itzi': 2910, 'itzy_imaginaryfriend': 2912, 'vish': 6511, 'vihai': 6490, 'dohe': 1625, 'mycon': 4256, 'anshengzai': 247, 'subway': 5875, 'nmixx': 4429, 'haewon': 2372, 'hamstersofinstagram': 2452, 'hamsterlandb': 2437, 'hamsterlandlov': 2439, 'hamsterin': 2434, 'rodent': 5202, 'hamsterworld': 2457, 'direct': 1584, 'lia': 3501, 'lujin': 3670, 'chaeryeong': 1025, 'chae': 1020, 'ryeong': 5259, 'wisdom': 6660, 'remain': 5125, 'yage': 6761, 'rear': 5060, 'cheleon': 1067, 'esfj': 1806, 'muzzl': 4249, 'stare': 5789, 'moonbyul2da': 4152, 'buddhism': 840, 'abbi': 6, 'niusnew': 4426, 'mbti16': 3863, 'youtub': 6866, 'samoyed': 5304, 'jabbang': 2923, 'lupstar': 3678, 'rub': 5235, 'metabol': 3939, 'sunpal': 5897, 'zalstargram': 6901, 'roséxbrunomar': 5228, 'ontheground': 4529, 'hardtolov': 2496, 'bodyfit': 724, 'weightlossmotiv': 6597, 'bodytransform': 725, 'homeworkout': 2617, 'dailyworkout': 1436, 'dailyoutfit': 1432, 'womenhealth': 6669, 'burner': 862, 'collar': 1217, 'starch': 5788, 'exercisemotiv': 1856, 'fatburn': 1943, 'fatburningworkout': 1944, 'bubbl': 833, 'prognosi': 4893, 'ryujin': 5264, 'samoyedoftheday': 5311, 'lupstargram': 3679, 'right': 5176, 'arm': 306, 'blackpinrol': 666, 'ide': 2736, 'comprehens': 1252, 'sammysmil': 5300, 'rosé_bruno_apt': 5227, 'strongest': 5854, 'jungl': 3068, 'yellow': 6787, 'birth': 624, 'fallinlov': 1907, 'nba2k': 4333, 'happyhamst': 2491, 'hamsterhous': 2432, 'hamsterenclosur': 2430, 'whitehamst': 6627, 'smallanimalcar': 5611, 'rupertthebear': 5253, 'properpetcar': 4905, 'born': 743, 'christoph': 1130, 'leeyoungji': 3473, 'youngji': 6859, 'troubl': 6290, 'eleg': 1737, 'yaxian': 6779, 'yazhen': 6781, 'effect': 1726, 'kiof': 3225, 'natti': 4312, 'haneul': 2470, 'getloud': 2191, 'hamsterson': 2453, 'hamsterpalembang': 2446, 'hamstercommun': 2424, 'hamsterswag': 2455, 'welovehamsters_featur': 6606, 'hamstertip': 2456, 'guldhamst': 2346, 'twit': 6336, 'idiot': 2739, 'queenofkpop': 4979, 'queenofqueen': 4980, 'perform': 4654, 'girlgroup': 2220, 'twice': 6328, 'kpopedit': 3291, 'jessi': 2983, 'pani': 4593, 'sao': 5329, 'gg4eva': 2195, 'dwarfhamst': 1699, 'hammygram': 2413, 'auntiehammi': 376, 'mous': 4181, 'hammi': 2410, 'hamsterlandhk': 2438, 'hammyrocha': 2414, 'goldenhamst': 2260, 'hamsterbreed': 2423, 'degu': 1507, 'hammyfanat': 2412, 'hamsterland': 2436, 'hao_66': 2479, 'shaythena_2': 5470, 'samoyedlif': 5307, 'snlkorea': 5631, 'baekho': 432, 'nuttynutti': 4466, 'huh': 2670, 'unin': 6397, 'le_sserasefim': 3417, 'le': 3416, 'cerapim': 1015, 'yawn': 6778, 'paprika': 4596, 'odaikakab': 4487, 'kink': 3221, 'mahamst': 3717, 'kinkma': 3222, 'magram': 3712, 'duti': 1697, 'bad': 427, 'bruninho': 813, 'isback': 2889, 'brunomarsbrazil': 815, 'hooligan': 2632, 'brunomarsconcert': 816, 'brunomarsmus': 818, 'brunomarsl': 817, 'misamo': 4052, 'unparress': 6410, 'bucheon': 835, 'announc': 242, 'mamamusola': 3774, 'kite': 3237, 'vivaf': 6517, 'hwan': 2697, 'organ': 4546, 'committe': 1244, 'ryu': 5263, 'jeong': 2974, 'mamamoosolar': 3771, 'sweetcanada': 5929, 'juri': 3074, 'pubu': 4922, 'memeallthetim': 3911, 'lalialaedit': 3372, 'lisad': 3557, 'varieti': 6453, 'kiss': 3227, 'nuttynuttychalleng': 4467, 'amateur': 184, 'ganeul': 2144, 'yujin': 6880, 'rei': 5110, 'liz': 3579, 'multi': 4216, 'mysteri': 4268, 'bb': 499, 'yuqigidl': 6893, 'hydlet': 2709, 'gitlemiyeon': 2227, 'huhyunjin': 2671, 'john': 3039, 'hamper': 2415, 'pen': 4645, 'jeonghan': 2975, 'jinghan': 3019, 'yoonjeonghan': 6847, 'jihyoedit': 3009, 'twiceedit': 6329, 'jihyo': 3008, 'jihyudit': 3011, 'jihyotwic': 3010, 'cash': 962, 'nayeonedit': 4331, 'kpopeditsaccount': 3292, 'aftereffectsedit': 89, 'terabo': 6082, 'sapphir': 5331, 'hamsterpet': 2447, 'hamstercut': 2425, 'hamsteroninstagram': 2445, 'cutehamst': 1410, 'hamstersoninstagram': 2454, 'hamsterdam': 2427, 'lapi': 3395, 'gioban': 2212, 'flirt': 2026, 'xiuzhi': 6750, 'godli': 2252, 'master': 3848, 'robert': 5191, 'tinsen': 6177, 'sukiwaterhau': 5885, 'blind': 680, 'robertpattinson': 5194, 'sukiwaterhous': 5886, 'loveisblind': 3636, 'accur': 24, 'except': 1849, 'girlfriend': 2217, 'month': 4144, 'imaginari': 2768, 'itzy_gold': 2911, 'deadli': 1486, 'queenhwasa': 4978, 'sphynxbabi': 5721, 'aespaningn': 73, 'karinaaespa': 3126, 'kpopdanc': 3290, 'kpopidol': 3300, 'ningn': 4413, 'supernova': 5910, 'sm': 5608, 'btsworld': 832, 'yoongi': 6845, 'cutegirl': 1408, 'mygirl': 4258, 'cuteblackpink': 1403, 'kpopqueen': 3304, 'blackpinkforev': 656, 'blackpinkedit': 655, 'blinksblackpink': 684, 'myheart': 4261, 'myqueen': 4266, 'ygentertai': 6801, 'aespawt': 79, 'aespedit': 81, 'aespawtt': 80, 'ningningaespa': 4414, 'ningningitit': 4415, 'aespagisel': 71, 'aespatrad': 76, 'aespaphotocard': 74, 'karinaedit': 3127, 'kpopgirlgroup': 3299, 'kpopfap': 3293, 'trendp': 6279, 'neri': 4350, 'refer': 5105, 'jichangwook': 3002, 'culo': 1381, 'chalin': 1031, 'leechaerin': 3465, 'chaelincl': 1022, 'khh': 3184, 'leechaelin': 3464, 'queencl': 4977, 'cailin': 880, 'foreveryourgzb': 2060, 'cl2ne1': 1154, 'kpopreel': 3305, 'kpopsoloist': 3306, 'kpopgg': 3297, 'kiphop': 3226, 'kpopgirl': 3298, 'kidol': 3194, 'chaerinle': 1024, 'twini': 6333, 'tighter': 6161, 'gigihadid': 2208, 'guestinresid': 2336, 'colab': 1212, 'svt': 5920, 'tenani': 6076, 'geniu': 2179, 'nanni': 4296, 'leehaechan': 3468, 'haechan': 2371, 'teamjol': 6028, 'teamjoliesquad': 6030, 'mariacalla': 3810, 'pierfrancescofavino': 4706, 'modern': 4099, 'modernfamili': 4100, 'haleydunphi': 2401, 'clairedunphi': 1155, 'sarahhyland': 5334, 'bowen': 757, 'voicetub': 6529, 'understand': 6389, 'avoid': 391, 'object': 4482, 'bangkok': 455, 'thailand': 6098, 'meiyan': 3899, 'youngmiko': 6860, 'tommorello': 6215, 'comeplay': 1236, 'arcane2': 273, 'musicbankinmadrid': 4235, 'solarmamamoo': 5661, 'cimyongsun': 1139, 'grandson': 2291, 'lop': 3613, 'hollandlop': 2602, 'hollandlopsofinstagram': 2604, 'rabbit': 4991, 'bunnylov': 855, 'nycbunni': 4476, 'cutestpet': 1413, 'bunniesofinstagram': 853, 'rochest': 5197, 'whiteplain': 6628, 'rabbitsofinstagram': 4995, 'rabbitsofig': 4994, 'petlov': 4668, 'massachusett': 3846, 'rhodeisland': 5163, 'longislandni': 3610, 'westchest': 6614, 'brooklyn': 803, 'nj': 4427, 'connecticut': 1268, 'cao': 913, 'zhengxi': 6941, 'jingzheng': 3020, 'shinryujin': 5494, 'samoyedinstagram': 5306, 'polym': 4795, 'notsorri': 4453, 'ph1': 4674, 'heo': 2549, 'yunjin': 6890, 'yuqiidit': 6894, 'gidleminni': 2203, 'gidlemiyeon': 2204, 'hamsterselfi': 2451, 'hamsterofinstagram': 2443, 'junglian': 3069, 'hwasho': 2704, 'anitta': 237, 'beyonc': 580, 'selenagomez': 5397, 'rihanna': 5177, 'justinbieb': 3076, 'zedaya': 6914, 'wish': 6661, 'hwi': 2705, 'hahiajin': 2377, 'k': 3084, 'kpopturkey': 3307, 'mamamoomagazin': 3768, 'kizuki': 3250, 'kiyoshi': 3249, 'smallanim': 5610, 'monthli': 4145, 'hemeng': 2547, 'wast': 6574, 'excit': 1853, 'voguefashion': 6527, 'week': 6590, 'taipeifashionweek': 5966, 'sadesink': 5275, 'candid': 908, 'engineeringstud': 1777, 'studygram': 5865, 'engineeringlif': 1772, 'engineeringmem': 1775, 'engineeringlov': 1773, 'engineeringproblem': 1776, 'zodiacsign': 6964, 'yoasobi': 6824, 'yute': 6896, 'sadiesink': 5277, 'xinzhizhuang': 6744, 'xiaoxin': 6732, 'noda': 4433, 'nishuosuk': 4425, 'shinnosuk': 5492, 'ponpon': 4800, 'baek': 431, 'heon': 2550, 'baekjiheon': 433, 'tipitapchalleng': 6184, 'rami': 5025, 'rabbitlov': 4992, 'bunni': 852, 'bunnstagram': 854, 'netherlanddwarf': 4357, 'twicemomo': 6331, 'gtkm24': 2324, 'enthusiast': 1799, 'multipl': 4217, 'hamsterdor': 2428, 'kasukab': 3131, 'giant': 2200, 'hun': 2681, 'bahe': 437, 'huening_bahiyyih': 2668, 'kep1er_tipitap': 3165, 'midzi': 3964, 'gidleshuhua': 2205, 'sujin': 5883, 'ahyeon': 110, 'ahyun': 112, 'netherland': 4356, 'dwarf': 1698, 'rop': 5223, 'usausa': 6417, 'rabbitri': 4993, 'bottom': 754, 'stagram': 5775, 'parad': 4598, 'iamworldwid': 2724, 'wilbrosl': 6647, 'hirai': 2574, 'moto': 4176, 'hamuken': 2459, 'sanchi': 5319, 'fromis_9': 2091, 'yeji': 6785, 'miser': 4054, 'brucele': 807, 'bruceleequot': 810, 'bruceleefan': 809, 'bruceleeart': 808, 'fashionista': 1935, 'studentlif': 5857, 'midsemestercrisi': 3963, 'examdaypan': 1843, 'collegehumor': 1222, 'semest': 5408, 'rolloast': 5209, 'studentproblem': 5859, 'examseason': 1846, 'studypan': 5866, 'examprepfail': 1845, 'lastminutecram': 3400, 'studentmem': 5858, 'examsurviv': 1847, 'toolatetostudi': 6224, 'studentr': 5860, 'finalscountdown': 1995, 'carletonengin': 942, 'examblu': 1842, 'carletonunivers': 943, 'collegestruggl': 1223, 'endofsemest': 1762, 'exammeltdown': 1844, 'minho_callback': 4025, 'brusley': 820, 'bruceleestyl': 811, 'beach': 513, 'hollandlopbunni': 2603, 'dreamcatcherinchicago': 1669, 'siyam': 5569, 'preview': 4869, 'dreamcatch': 1668, 'minniexthailandheadlin': 4039, 'seethat': 5394, 'dandet': 1454, 'campbellhamst': 899, 'myhamst': 4259, 'hamsterscap': 2450, 'hamsteraccount': 2420, 'hamsterbrasil': 2422, 'hamsterreflect': 2448, 'mirrormo': 4051, 'bern': 562, 'prevent': 4868, 'needl': 4347, 'review': 5161, 'affair': 84, 'evelyn': 1835, 'evely': 1834, 'ultra': 6381, 'bra': 769, 'sim': 5551, 'sisra': 5564, 'ouba': 4559, 'improvis': 2775, 'j': 2921, 'jiu': 3032, 'teamwang': 6034, 'igot7': 2754, 'jb': 2954, 'timschaeck': 6171, 'portraitsvisu': 4823, 'followfollow': 2038, 'gaeul': 2133, 'hw_maria': 2696, 'hyejin': 2713, 'wheesa': 6621, 'dingga': 1577, 'adel': 40, 'adelel': 46, 'adele19': 41, 'adele21': 42, 'dalakh': 1441, 'adelesglori': 51, 'adeleonenightonli': 48, 'adelechalleng': 45, 'adelepictur': 49, 'adelebritish': 44, 'adeleadkin': 43, 'adelemus': 47, 'adelequeen': 50, 'intagram': 2859, 'icon': 2733, 'rollinginthedeep': 5208, 'liveperform': 3575, 'vega': 6456, 'weekendswithadel': 6591, 'munich': 4224, 'eidt': 1732, 'gelukiginfo': 2168, 'id': 2734, 'gidlesoyeon': 2206, 'aespan': 72, 'aespasal': 75, 'belt': 556, 'lose_yourself': 3619, 'musiclov': 4237, 'hamsteri': 2433, 'sonyeoshida': 5687, 'sonyuhshida': 5688, 'soshi': 5700, 'smtown': 5622, 'tysona': 6347, 'taetiseo': 5951, 'coongong': 1298, 'tiffanyhwang': 6157, 'hwangmiyung': 2700, 'kimahyo': 3200, 'imyoona': 2778, 'kitamayi': 3232, 'hongjoong': 2625, 'seonghwa': 5426, 'yunho': 6888, 'yeosang': 6793, 'wooyoung': 6682, 'jongho': 3044, 'coachella': 1192, 'minnieedit': 4036, 'minniegidl': 4037, 'iloveyou3000': 2766, 'ahyeonbabymonst': 111, 'lesserafim': 3488, 'lesserafimsakura': 3489, 'sserafim': 5764, 'ruthlessli': 5255, 'miyawaki': 4070, 'sakura': 5292, 'miyawakisakura': 4071, 'cherri': 1076, 'izon': 2919, 'aizu': 122, 'purpl': 4944, 'evil': 1840, 'zonakorea_snsd': 6965, 'zhixun': 6949, 'yoo': 6839, 'globalitgirllisa': 2239, 'solista': 5664, 'cantant': 911, 'jacksonwang852g7': 2926, 'btob': 827, 'rest': 5149, 'li_mint': 3500, 'b2b': 409, 'hyuk': 2717, 'hitaramchi': 2582, 'lizhi': 3581, 'ranjun': 5028, 'fed': 1955, 'cheerleaderd': 1061, 'princess': 4875, 'kimminni': 3213, 'nichaytarak': 4400, 'lower': 3657, 'hyuna': 2719, 'nf': 4385, 'cupid': 1385, 'mind': 3987, 'bobo': 718, 'bid': 594, 'straight': 5831, 'steel': 5812, 'apprais': 266, 'chase': 1052, 'chasingstar': 1054, 'essay': 1810, 'cp': 1337, 'douyin': 1651, 'twelv': 6326, 'ari': 296, 'tauru': 6015, 'gemini': 2169, 'cancer': 906, 'leo': 3484, 'virgo': 6509, 'scorpio': 5370, 'capricorn': 915, 'pisc': 4726, 'endo': 1761, 'polklin': 4794, 'paulklein': 4631, 'sb': 5350, 'youngstreet': 6862, 'sbsyoungstreet': 5351, 'overbear': 4570, 'heavi': 2536, 'poplov': 4803, 'possess': 4827, 'desir': 1536, 'babymonst': 418, 'babymonsterahyeon': 419, 'bm': 705, 'onglima': 4525, 'expandlov': 1860, 'liveyourbestlif': 3577, 'bethelightinthedark': 577, 'bethelight': 576, 'youcanbeanyth': 6852, 'youdeservebett': 6853, 'youdeservemor': 6854, 'selflov': 5401, 'mentalhealth': 3924, 'mindsetcr': 3990, 'healingenergytool': 2528, 'barbi': 465, 'xg': 6714, 'howl': 2657, 'xg_aw': 6715, 'xgalx': 6717, 'couplelov': 1329, 'fascin': 1926, 'frenchfri': 2083, 'yuanlin': 6875, 'estagram': 1812, 'xiaozhou': 6733, 'hyo': 2715, 'ju': 3053, 'zhihuan': 6946, 'silver': 5550, 'goeun': 2254, 'hide': 2566, 'hae': 2370, 'porcelain': 4813, 'ja': 2922, 'zhaoxi': 6937, 'zhenyu': 6942, 'jinwook': 3023, 'koreanactor': 3272, 'fifteen': 1980, 'latté': 3405, 'lemonad': 3481, 'ivestarship': 2915, 'eugen': 1823, 'ray': 5044, 'seo': 5417, 'leeseo': 3472, 'ruonan': 5252, 'far': 1919, 'away': 394, 'liao': 3505, 'xianfu': 6721, 'jiefei': 3003, 'jv': 3081, 'commentari': 1240, 'hit': 2581, 'cut': 1395, 'revers': 5160, 'quanzhen': 4972, 'kangyong': 3099, 'archaeolog': 278, 'fortpeat': 2064, 'bossnoeul': 752, 'bosschaikamon': 751, 'noulnuttarat': 4454, 'bonoh': 738, 'shawtyboss': 5468, 'fort': 2063, 'peat': 4640, 'babyfeat': 416, 'captainpeat': 920, 'comefortzon': 1235, 'memindyoffici': 3916, 'sheseleb': 5481, 'imwint': 2777, 'kimminjeong': 3211, 'hanx': 2475, 'ahnhyejin': 109, 'thetafil': 6123, 'ceramid': 1014, 'lotion': 3623, 'overcom': 4571, 'itchi': 2903, 'myntravirtualtryon': 4264, 'myntraweddinglook': 4265, 'myntrabeauti': 4263, 'runningman': 5249, 'kimminju': 3212, 'jun': 3061, 'zhou': 6957, 'lettertomyself': 3495, 'taeyeonlettertomyself': 5953, 'milktea': 3980, 'nyarot': 4474, 'welcamo': 6602, 'bryia': 825, 'crash': 1341, 'anipok': 234, 'growlith': 2311, 'milot': 3983, 'floragato': 2027, 'quaxwel': 4975, 'hilari': 2570, 'dancingqueensontheroad': 1453, 'samaria': 5298, 'hwasashow': 2703, 'enhypen': 1791, 'exo': 1859, 'txt': 6339, 'tomorrow': 6217, 'tomorrow_x_togeth': 6218, 'ot4': 4552, 'shawnmend': 5467, 'behind': 540, 'samoyedhk': 5305, 'western': 6615, 'whiskey': 6624, 'simo': 5552, 'saamoya': 5266, 'virion': 6510, 'nan': 4293, 'qingxia': 4961, 'miki': 3972, 'mizuno': 4076, 'sakaguchi': 5291, 'sonori': 5686, 'nagano': 4272, 'megumi': 3893, 'masaichi': 3842, 'ichimura': 2732, 'ryunosuk': 5265, 'kamiki': 3093, 'ado': 57, 'lulu': 3673, 'fuji': 2098, 'billisk': 615, 'let': 3491, 'mumu': 4219, 'eunha': 1825, 'junununki': 3073, 'nayeon': 4329, 'eunhabunni': 1826, 'nayeonbunni': 4330, 'eunhacut': 1827, 'gfriend': 2193, 'twicefriend': 6330, 'sjjd': 5572, 'yoonasnsd': 6844, 'yonalim': 6828, 'limyoona': 3527, 'yoonit': 6846, 'tagram': 5955, 'stagn': 5773, 'shhh': 5482, 'studiochoom': 5863, 'prop': 4904, 'vma': 6521, 'viviz': 6518, 'bibigi': 591, 'octopu': 4486, 'squeezer': 5761, 'seat': 5386, 'sinb': 5556, 'umji': 6383, 'thumb': 6144, 'fizzl': 2019, 'nav': 4322, 'idolissu': 2743, 'surf': 5915, 'patch': 4624, 'tee': 6046, 'chuchustyl': 1132, 'starlit_of_mus': 5791, 'moonbyul1stworldtour': 4151, 'hongda': 2622, 'hotel': 2645, 'meangirl': 3870, 'ning': 4412, 'yizhuo': 6822, 'mv': 4250, 'sixton': 5568, 'handwritten': 2469, 'jess': 2982, 'matsumura': 3857, 'hokuto': 2596, 'shintaro': 5496, 'morimoto': 4162, 'tanaka': 5985, 'dirt': 1585, 'kun': 3320, 'anan': 204, 'extra': 1876, 'bit': 627, 'thucung': 6143, 'chomeo': 1116, 'chombeodethuong': 1115, 'haihuoc': 2379, 'chommehaihuoc': 1117, 'yeuthucung': 6799, 'yeuchomeo': 6798, 'haihoocvuinhon': 2378, 'trendingreelsvideo': 6275, 'xuhuong': 6760, 'dogvideo': 1624, 'shiwang': 5500, 'igloo_challeng': 2751, 'museum_an_epic_of_starlit': 4232, 'hunterxhunt': 2690, 'hunterhunt': 2689, 'unsteadi': 6412, 'killer': 3197, 'hisoka': 2579, 'kurolo': 3324, 'chloro': 1107, 'chlorolo': 1108, 'sil': 5544, 'phantom': 4676, 'brigad': 788, 'cartoon': 957, 'peripher': 4657, 'surround': 5918, 'x': 6712, 'kurapika': 3321, 'ant': 248, 'symbol': 5937, 'font': 2041, 'bhfyp': 587, 'mamamuplu': 3773, 'yongbean': 6830, 'ykbk': 6823, 'yongkongbyulkong': 6834, 'pinkvenom': 4721, 'ddududdudu': 1482, 'englishspeak': 1784, 'englishteach': 1785, 'englishvocabulari': 1788, 'englishword': 1789, 'englishtip': 1786, 'englishgrammar': 1780, 'ingl': 2810, 'ingilizc': 2808, 'angielski': 217, 'ingilizceogren': 2809, 'americanenglish': 192, 'britishenglish': 794, 'learnenglish': 3454, 'ieltsprepar': 2746, 'vocabulari': 6524, 'englishlesson': 1782, 'speakenglish': 5715, 'dorama': 1641, 'sofish': 5649, 'june': 3062, 'parkbogum': 4604, 'kangtaeoh': 3097, 'dramaakorea': 1663, 'rowoon': 5232, 'pars': 4612, 'byeonwooseok': 871, 'dorameirasdeplantao': 1642, 'chaeunwoofan': 1027, 'astro': 352, 'parkhyungsik': 4608, 'bigboss': 600, 'ellen': 1741, 'theellenshow': 6109, 'ellenshow': 1742, 'cardi': 931, 'cardib': 932, 'songyuqi': 5684, 'expect': 1861, 'theboyz': 6108, 'younghoon': 6858, 'broken': 798, 'blackmamba': 651, 'ladylik': 3350, 'cohabit': 1203, 'lovenextdoor': 3643, 'info': 2805, 'versatil': 6466, 'internship': 2869, 'kpoplov': 3301, 'ettoday': 1817, 'tell': 6054, 'reconnect': 5067, 'reunit': 5157, 'hamstaku': 2417, 'ao': 252, 'ting': 6173, 'kimminj': 3210, 'guardi': 2331, 'mirokaro': 4049, 'achig': 25, 'rico': 5174, 'zerobaseon': 6924, 'herbalif': 2553, 'healthybreakfast': 2531, 'yg': 6800, 'camilacabello': 896, 'cku': 1152, 'mount': 4179, 'captur': 921, 'yamada': 6766, 'hatian': 2516, 'jungeunbi': 3066, 'yanasnsd': 6770, 'everi': 1838, 'kyomoto': 3333, 'daiga': 1426, 'drop': 1680, 'esl': 1808, 'ingles': 2811, 'studyenglish': 5864, 'chaeunwoo': 1026, 'songkang': 5679, 'hwanginyeop': 2699, 'dramakorea': 1664, 'leejongsuk': 3469, 'ae': 67, 'roommat': 5222, 'sick': 5537, 'ettodi': 1818, 'luck': 3667, 'xiaot': 6730, 'crccalor': 1345, 'ateez': 356, 'got': 2277, 'herijud': 2554, 'eunharp': 1828, 'sjd': 5571, 'yoonalim': 6843, 'yoonaddict': 6842, 'sore': 5697, 'acid': 26, 'immun': 2771, 'tribut': 6282, 'custom': 1393, 'glacier': 2234, 'cotton': 1323, 'jacket': 2924, 'yoshihiro': 6850, 'mitsukin': 4062, 'meilu': 3898, 'aim': 117, 'daji': 1439, 'phyp': 4695, 'breez': 785, 'dot': 1646, 'riiz': 5178, 'zerobaseo': 6923, 'xu': 6757, 'yumi': 6884, 'adachi': 36, 'rongmi': 5218, 'xingmi': 6738, 'englishlearn': 1781, 'englishogren': 1783, 'illit': 2760, 'ningyi': 4416, 'shutdown': 5534, 'yangjeongin': 6772, 'blog': 688, 'strijok': 5851, 'caitvi': 881, 'arcaneseason2': 276, 'caitvifanart': 882, 'nigan': 4403, 'anyujin': 251, 'wiz': 6665, 'wizon': 6666, 'dive': 1604, 'annyeongz': 244, 'annyon': 245, 'tw': 6324, 'introvert': 2873, 'zong': 6967, 'mamamoofanart': 3765, 'observ': 4484, 'compani': 1247, 'mamamoohwasa': 3767, 'mmm': 4084, 'honamamoo': 2619, 'hwasamaria': 2702, 'kinyongsun': 3224, 'mamamooaya': 3763, 'xie': 6734, 'qiongxi': 4962, 'fake': 1899, 'penghu': 4646, 'vietnames': 6488, 'walk': 6555, 'btsarmi': 829, 'saddest': 5271, 'misbehav': 4053, 'pepero': 4649, 'whale': 6617, 'bakeri': 442, 'pohang': 4774, 'heung': 2558, 'worth': 6698, 'breadstargram': 778, 'hungha': 2684, 'aashiqi': 4, 'kerala': 3167, 'kollam': 3264, 'keralaboattrip': 3168, 'keralatempl': 3171, 'thrissur': 6141, 'keralavib': 3172, 'keralalov': 3170, 'rc390': 5046, 'ridergirl': 5175, 'tamilsonglyr': 5984, 'marriagego': 3823, 'keralacolleg': 3169, 'collegegirl': 1221, 'crime': 1362, 'longdistancerelationship': 3606, 'transit': 6259, 'bodycon': 723, 'freestyl': 2080, 'hiphop': 2572, 'nobleman': 4432, 'explicit': 1864, 'rich': 5170, 'happyhalloween': 2490, 'without': 6664, 'wandan': 6558, 'tianfeng': 6147, 'princ': 4874, 'nanyu': 4298, 'dai': 1424, 'tianfu': 6148, 'trade': 6252, 'odivela': 4490, 'lovestatu': 3650, 'alonequot': 171, 'alonestatu': 172, 'sadreel': 5283, 'pageexplor': 4583, 'bhubaneswar': 588, 'imit': 2770, 'jerryspring': 2980, 'ilovey': 2765, 'rotinacapilar': 5229, 'mason': 3845, 'casa': 958, 'engenharia': 1769, 'paint': 4585, 'starman': 5793, 'ada': 35, 'misterdonut': 4061, 'thermal': 6117, 'xiong': 6745, 'dailin': 1428, 'kesong': 3174, 'late': 3403, 'kinomo': 3223, 'wine': 6653, 'kosakura': 3281, 'damp': 1444, 'core': 1302, 'waist': 6550, 'dispel': 1601, 'irregular': 2887, 'menstruat': 3923, 'indigest': 2791, 'barahk': 462, 'brahack': 770, 'fashiongram': 1932, 'node': 4434, 'electr': 1735, 'hongkongmus': 2627, 'hkdj': 2586, 'hkedm': 2587, 'alanwalk': 158, 'gdragonbigbang': 2164, 'hkparti': 2590, 'lankwavong': 3393, 'nightclub': 4405, 'guan': 2326, 'juy': 3080, 'nutritionist': 4465, 'nuturefit': 4468, 'louisa': 3625, 'bless': 679, 'godisgreat': 2250, 'breathabl': 783, 'holi': 2597, 'garba': 2149, 'dandiya': 1455, 'navaratri': 4323, 'oldsong': 4509, 'prodign': 4886, 'creepynut': 1354, 'otonok': 4557, 'demonslayeredi': 1514, 'animecrossov': 227, 'yunivers': 6889, 'villain': 6495, 'dortina': 1645, 'prestig': 4866, 'hazelnut': 2522, 'kate': 3134, 'g03': 2127, 'lkf': 3582, 'raveparti': 5040, 'lan': 3381, 'kwai': 3329, 'fong': 2040, 'probiot': 4882, 'songbaixuan': 5676, 'matsumm': 3856, 'yongj': 6832, 'popo': 4809, 'lack': 3347, 'sourc': 5706, 'help': 2545, 'abin': 10, 'jeonju': 2977, 'rage': 5010, 'ambassador': 188, 'greek': 2300, 'bagel': 435, 'dieter': 1563, 'yingxuan': 6811, 'narumi': 4303, 'dingxin': 1578, 'german': 2189, 'foundat': 2068, 'stupid': 5868, 'bifesta': 595, 'vefesta': 6455, 'bluct': 695, 'bifesta_zb1': 596, 'zb1': 6903, 'zebwan': 6913, 'zero': 6921, 'wash': 6572, 'hiroko': 2577, 'kangxi': 3098, 'teentop': 6049, 'ohmygirl': 4499, 'lollipopf': 3597, 'kara': 3121, 'b1a4': 408, 'ioi': 2876, 'tzuyu': 6350, 'sunghanbin': 5894, 'songhambin': 5678, 'cheng': 1070, 'bin': 617, 'bingb': 618, 'aic2024': 115, 'reg': 5107, 'andteam': 211, 'nichola': 4402, 'harua': 2506, 'maki': 3753, 'cho': 1109, 'soojin': 5692, 'suizhen': 5882, 'jeon': 2973, 'hao': 2478, 'jeanhao': 2956, 'cinema_paradis': 1142, 'spinal': 5741, 'curv': 1390, 'stomachach': 5822, 'humpback': 2680, 'ill': 2759, 'icebreak': 2727, 'mazingian': 3861, 'linway': 3535, 'linin': 3533, 'hyunwoo': 2722, 'tae': 5948, 'joon': 3047, 'joo': 3046, 'jungyoon': 3071, 'project7': 4898, 'upgrad': 6413, 'worldassembl': 6692, 'jtbc': 3052, 'sll': 5604, 'one_th': 4518, 'exist': 1858, 'seokmatthew': 5423, 'seokmadu': 5422, 'ricki': 5171, 'parkgunwook': 4607, 'gun': 2351, 'wook': 6679, 'kimtaera': 3216, 'kimgyuvin': 3202, 'gyu': 2364, 'kimjiwoong': 3207, 'woong': 6681, 'hanyujin': 2477, 'yang': 6771, 'jinhua': 3021, 'cleans': 1165, 'ardor': 293, 'bringiton': 793, 'nichayontararak': 4399, 'yeoshwa': 6794, 'fatigu': 1947, 'snore': 5632, 'adjust': 54, 'sakurada': 5293, 'kenshin': 3163, 'manabejin': 3777, 'nam': 4283, 'assembl': 347, 'lets_assembl': 3492, 'kgma2024': 3179, 'kayamatairai': 3140, 'marshmallow': 3833, 'oddlysatisfi': 4488, 'followm': 2039, 'kusti': 3326, 'goodsobad': 2268, 'shenquanrui': 5479, 'zb1leader': 6908, 'zerobaseelelead': 6922, 'zb1ricki': 6909, 'hanbin': 2461, 'hanbinsung': 2462, 'zb1sunghanbin': 6910, 'zb1cute': 6905, 'txtbighit': 6340, 'tomorrowxtogeth': 6219, 'kpopmem': 3303, 'moa': 4087, 'yeonjun': 6791, 'soobin': 5690, 'omg': 4514, 'taehyun': 5949, 'hueningkai': 2669, 'txtmeme': 6341, 'craviti': 1342, 'crabiti': 1339, 'cravityfancon_intaipei': 1343, 'starship': 5797, 'dshowtaiwan': 1684, 'zebeon': 6912, 'boysplanet': 767, 'yeo': 6788, 'jangi': 2939, 'loved': 3630, 'bluster': 703, 'lala': 3366, 'lësbian': 3686, 'gay': 2159, 'lgbtq': 3498, 'q': 4951, 'u': 6352, 'anrui': 246, 'lovelicki': 3640, 'rae': 5004, 'hanyu': 2476, 'only_one_stori': 4528, 'zerobatene_onlytechi': 6930, 'qua': 4965, 'lalatai': 3371, 'lesbian': 3487, 'gl': 2233, 'daunt': 1468, 'ruddi': 5238, 'shen': 5474, 'quanrui': 4968, 'shi': 5483, 'shiguo': 5486, 'spokesperson': 5745, 'zerobaten': 6928, 'seriou': 5435, 'ordinari': 4542, 'timeless_world_tour': 6169, 'minseo': 4041, 'xiubin': 6748, 'beomgyu': 559, 'beyond_your_memori': 581, 'pakgonuku': 4586, 'destruct': 1542, 'pradaxgyuvin': 4846, 'pradaxmatthew': 4847, 'pradaxricki': 4848, 'soundofprada': 5703, 'thesoundofpradaseoul': 6121, 'zhanghao': 6934, 'zerobatene_onlynerston': 6929, 'shinseo': 5495, 'xiugen': 6749, 'zhiyuan': 6950, 'yanhao': 6773, 'kang': 3096, 'ho': 2593, 'mino': 4040, 'repres': 5136, 'hoon': 2633, 'rollersk': 5207, 'planet': 4743, 'instachil': 2832, 'zerobaseone_goodsobad': 6925, 'zeros': 6932, 'ze_ros': 6911, 'soak': 5638, 'jezkesz': 2989, 'yes933': 6795, 'theater': 6102, 'zerobatenenericki': 6931, 'rickyzerobaseon': 5173, 'kpopfunni': 3294, 'zb1funni': 6906, 'idol1nd2': 2742, 'zb1comeback': 6904, 'drip_challeng': 1678, 'dancecov': 1449, 'busan': 865, 'xitun': 6746, 'gelnail': 2167, 'christmasnail': 1127, 'christmasnailart': 1128, 'soobinedit': 5691, 'kpopfunnymo': 3295, 'hostel': 2642, 'doudou': 1650, 'berachoreographi': 560, 'choreo': 1121, 'choreograph': 1122, 'dnadanc': 1616, 'dancer': 1451, 'yuchen': 6879, 'unknown': 6405, 'us': 6415, 'noah': 4431, 'bamboo': 451, 'eunho': 1829, 'hamin': 2409, 'dao': 1459, 'dancebreak': 1446, 'bighit_txt': 605, 'flame': 2020, 'yejun': 6786, 'michelin': 3956, 'doyoung': 1653, 'gs': 2314, 'melt': 3906, 'balm': 449, 'etud': 1819, 'etuderiisi': 1820, 'etudexri': 1821, 'holidaycollect': 2599, 'defianc': 1502, 'bite': 628, 'eunseok': 1830, 'dear': 1489, 'vesti': 6469, 'unsok': 6411, 'amnesia': 196, 'netflixhk': 4354, 'netflixkr': 4355, 'chef_': 1064, 'culinaryclasswar': 1380, 'koreatravel': 3279, 'koreatrip': 3280, 'hkfoodi': 2588, 'hktravel': 2591, 'hktravelblogg': 2592, 'gummi': 2349, 'gummybear': 2350, 'hayao': 2520, 'miyazaki': 4072, 'ghibli': 2196, 'hayama': 2519, 'nailon': 4279, 'twin': 6332, 'kaddl': 3086, 'spirit': 5742, 'casifera': 963, 'faceless': 1889, 'poni': 4799, 'chinchilla': 1095, 'kimji': 3204, 'woon': 6680, 'ayukda': 401, 'ayukhang': 402, 'archeri': 281, 'horn': 2636, 'ling': 3531, 'pork': 4817, 'manfu': 3784, 'formul': 2062, 'armor': 308, 'nailart': 4276, 'jungahyeon': 3064, 'sunflow': 5892, 'gaien': 2137, 'mae': 3702, 'ucho': 6355, 'namiki': 4288, 'hezai': 2560, 'dontoliv': 1636, 'nopol': 4439, 'lewkin': 3496, 'spous': 5753, 'zerobaseonelead': 6926, 'graviti': 2295, 'puberti': 4918, 'repent': 5133, 'podolem': 4770, 'xiao': 6723, 'balanc': 444, 'shrine': 5521, 'legend': 3475, 'exxen': 1878, 'zb1hk': 6907, 'subbin': 5872, 'kuili': 3315, 'genblu': 2171, 'yoyotv': 6868, 'podo': 4769, 'mc': 3864, 'dancechalleng': 1447, 'monday': 4119, 'goos': 2272, 'jintai': 3022, 'kyuri': 3335, 'pumpkin': 4929, 'juan': 3055, 'rickyzb1': 5172, 'xianxu': 6722, 'dominate_kaohsiung': 1631, 'ate': 355, 'chkchkboom': 1106, 'pillow': 4712, 'bbokari': 510, 'pogari': 4773, 'lost': 3622, 'sanotu': 5328, 'collector': 1219, 'lunluninkr': 3676, 'number': 4463, 'kazuha': 3141, 'goodvib': 2269, 'bibita': 592, 'jiro': 3029, 'manda': 3780, 'wakeon': 6554, 'barbiemovi': 466, 'barbiestyl': 467, 'even': 1836, 'izonesakura': 2920, 'atheez': 361, 'rout': 5230, 'ateezwtt': 360, 'ateeztrad': 359, 'wttateez': 6705, 'wtsateez': 6704, 'athezoch': 362, 'ateezsal': 357, 'ateezsel': 358, 'suck': 5878, 'tptea': 6247, 'rhyme': 5164, 'add': 38, 'eyelin': 1881, 'daeheung': 1420, 'selfnail': 5404, 'polish': 4793, 'sheer': 5472, 'churun': 1136, 'twist': 6334, 'pan': 4591, 'conatsunail': 1256, 'namkarmail': 4290, 'genishmanicur': 2178, 'dr': 1654, 'witari': 6662, 'hongji': 2624, 'yuju': 6881, 'traine': 6256, 'domin': 1630, 'snowman': 5636, 'christmasgelnail': 1126, 'block': 686, 'minimalist': 4029, 'qing': 4958, 'civil': 1150, 'nailsgel': 4281, 'nailsart': 4280, 'radish': 5003, 'legitim': 3478, 'lobster': 3583, 'whose': 6634, 'psychiatr': 4914, 'usher': 6419, 'baoy': 459, 'leaderofkpop': 3419, 'kgma': 3178, 'day6': 1471, 'shinjuku': 5491, 'gastronomi': 2154, 'princesscosplay': 4876, 'mnet': 4085, 'adopt': 59, 'enn': 1795, 'vi2gel': 6473, 'vi2': 6472, 'ribbon': 5168, 'plump': 4761, 'nhipe': 4394, 'nodoub': 4435, 'wsw': 6703, 'tai': 5957, 'bulletproof': 847, 'runbt': 5248, 'thenanni': 6113, 'fwee': 2118, 'puddingpot': 4924, 'fweeagitbusan': 2119, 'minjinewjean': 4034, 'administr': 55, 'assist': 350, 'network': 4358, 'secur': 5390, 'imagin': 2767, 'optim': 4539, 'starroad': 5795, 'tiktokd': 6163, 'chuff': 1133, 'beigeenail': 543, 'otaku': 4553, 'kuma': 3319, 'girli': 2222, 'tweed': 6325, 'knit': 3254, 'gurley': 2355, 'kmonstar': 3253, 'album': 160, 'atmospher': 365, 'explos': 1872, 'japantravel': 2947, 'uniqlo': 6399, 'tutanna': 6314, 'biccamera': 593, 'loftjapan': 3589, 'aeonmal': 68, 'costcojapan': 1319, 'dhcjapan': 1553, 'klooktravel': 3252, 'realli': 5059, 'haliba': 2403, 'faint': 1896, 'jiantan': 2998, 'luzhou': 3683, 'nishincho': 4421, 'manicur': 3795, 'gentl': 2180, 'minifland_in_taipei': 4027, 'observation_in_minifland': 4485, 'reno': 5129, 'shengyu': 5478, 'seung': 5443, 'haoxi': 2481, 'nanjun': 4295, 'yiguo': 6804, 'yanqi': 6775, 'iroha': 2882, 'xglax': 6718, 'xg_howl': 6716, 'newspap': 4375, 'bridegroom': 786, 'affection': 86, 'father': 1945, 'son': 5673, 'yuanshan': 6876, 'fu': 2095, 'phang': 4675, 'puahjit': 4917, 'guanghua': 2327, 'espa': 1809, 'drawn': 1666, 'wanli': 6561, 'meijia': 3896, 'naildesign': 4277, 'instanail': 2849, 'acryl': 28, 'nailgram': 4278, 'lay': 3413, 'zerobaseonericki': 6927, 'sunghoon': 5895, 'parksunghoon': 4610, 'jungwon': 3070, 'enhypenhk': 1793, 'fff': 1976, 'yuanyuan': 6877, 'enhypencollect': 1792, 'kpopcollect': 3288, 'ilgtargram': 2758, 'chengxun': 1072, 'engen': 1768, 'parksungoon': 4611, 'ircon': 2881}\n",
      "[[0 0 0 ... 0 0 0]\n",
      " [0 0 0 ... 0 0 0]\n",
      " [0 0 0 ... 0 0 0]\n",
      " ...\n",
      " [0 0 0 ... 0 0 0]\n",
      " [0 0 0 ... 0 0 0]\n",
      " [0 0 0 ... 0 0 0]]\n"
     ]
    }
   ],
   "source": [
    "import numpy as np\n",
    "import scipy as sp\n",
    "from sklearn.feature_extraction.text import CountVectorizer\n",
    "import nltk\n",
    "from nltk.corpus import stopwords\n",
    "from nltk.stem.porter import PorterStemmer\n",
    "import re\n",
    "from bs4 import BeautifulSoup\n",
    "\n",
    "def preprocessor(text):\n",
    "    # remove HTML tags\n",
    "    text = BeautifulSoup(text, 'html.parser').get_text()\n",
    "\n",
    "    # regex for matching emoticons, keep emoticons, ex: :), :-P, :-D\n",
    "    r = '(?::|;|=|X)(?:-)?(?:\\)|\\(|D|P)'\n",
    "    emoticons = re.findall(r, text)\n",
    "    text = re.sub(r, '', text)\n",
    "\n",
    "    # convert to lowercase and append all emoticons behind (with space in between)\n",
    "    # replace('-','') removes nose of emoticons\n",
    "    text = re.sub('[\\W]+', ' ', text.lower()) + ' ' + ' '.join(emoticons).replace('-','')\n",
    "    return text\n",
    "\n",
    "nltk.download('stopwords')\n",
    "stop = stopwords.words('english')\n",
    "\n",
    "def tokenizer_stem_nostop(text):\n",
    "    porter = PorterStemmer()\n",
    "    return [porter.stem(w) for w in re.split('\\s+', text.strip()) \\\n",
    "            if w not in stop and re.match('[a-zA-Z]+', w)]\n",
    "count = CountVectorizer(ngram_range=(1, 1),\n",
    "                        preprocessor=preprocessor,\n",
    "                        tokenizer=tokenizer_stem_nostop)\n",
    "\n",
    "count.fit(training_datalist[:,7])\n",
    "BoW = count.vocabulary_\n",
    "print('[vocabulary]\\n{}'.format(BoW))\n",
    "doc_bag = count.transform(training_datalist[:,7])\n",
    "doc_bag = doc_bag.toarray()\n",
    "print(doc_bag)"
   ]
  },
  {
   "cell_type": "markdown",
   "metadata": {
    "id": "csS9lL8DCzZO"
   },
   "source": [
    "### Step 3: Implement Regression"
   ]
  },
  {
   "cell_type": "code",
   "execution_count": 200,
   "metadata": {
    "executionInfo": {
     "elapsed": 3,
     "status": "ok",
     "timestamp": 1727179518371,
     "user": {
      "displayName": "張瑜庭",
      "userId": "02186097122319016792"
     },
     "user_tz": -480
    },
    "id": "n8ftprTRC0Na"
   },
   "outputs": [],
   "source": [
    "def Regression(dataset, degree):\n",
    "    \"\"\"\n",
    "    Performs regression on the given dataset and return the coefficients.\n",
    "\n",
    "    Parameters:\n",
    "    - dataset (numpy.ndarray): A 2D array where each row represents a data point.\n",
    "\n",
    "    Returns:\n",
    "    - w (numpy.ndarray): The coefficients of the regression model. For example, y = w[0] + w[1] * x + w[2] * x^2 + ...\n",
    "    \"\"\"\n",
    "\n",
    "    X = dataset[:, :-1] # All columns except the last one (features)\n",
    "    y = dataset[:, -1] # Last column (target)\n",
    "\n",
    "    # Standardize the training data (mean and std are for later use)\n",
    "    mean = np.mean(X, axis=0)\n",
    "    std = np.std(X, axis=0)\n",
    "    X = (X - mean) / std\n",
    "\n",
    "    # Add polynomial features to X\n",
    "    X_poly = np.ones((X.shape[0], 1))  # Add intercept term (column of ones)\n",
    "    for d in range(1, degree + 1):\n",
    "        X_poly = np.hstack((X_poly, X ** d))  # Add x^d terms to feature matrix\n",
    "\n",
    "    # Initialize coefficients (weights) to zero\n",
    "    num_dimensions = X_poly.shape[1]  # Number of features (including intercept and polynomial terms)\n",
    "    print(f\"num_dimensions:{num_dimensions}\")\n",
    "    w = np.zeros(num_dimensions)\n",
    "    print(f\"X_poly.shape:{X_poly.shape}\")\n",
    "\n",
    "    # TODO: Set hyperparameters\n",
    "    if degree == 2 :\n",
    "      num_iteration = 30000\n",
    "      learning_rate = 0.002\n",
    "    if degree == 1 :\n",
    "      num_iteration = 500\n",
    "      learning_rate = 0.01\n",
    "\n",
    "    # Gradient Descent\n",
    "    m = len(y)  # Number of data points\n",
    "    for iteration in range(num_iteration):\n",
    "        # TODO: Prediction using current weights and compute error\n",
    "        y_pred = np.dot(X_poly, w)  # Prediction using current weights\n",
    "        error = y_pred - y  # Compute the error (residuals)\n",
    "\n",
    "        # TODO: Compute gradient\n",
    "        gradient = (1/m) * np.dot(X_poly.T, error)\n",
    "\n",
    "        # TODO: Update the weights\n",
    "        w = w - learning_rate * gradient\n",
    "\n",
    "        # Compute the cost (Mean Squared Error)\n",
    "        cost = (1/(2*m)) * np.sum(error ** 2)\n",
    "\n",
    "        # Optionally, print the cost every 100 iterations\n",
    "        if iteration % 100 == 0:\n",
    "            print(f\"Iteration {iteration}, Cost: {cost}\")\n",
    "\n",
    "    return w, mean, std  # Return the weights, mean, and std\n"
   ]
  },
  {
   "cell_type": "markdown",
   "metadata": {
    "id": "inqQ4lh8DFY6"
   },
   "source": [
    "### Step 4: Make Prediction"
   ]
  },
  {
   "cell_type": "code",
   "execution_count": 201,
   "metadata": {
    "executionInfo": {
     "elapsed": 3,
     "status": "ok",
     "timestamp": 1727179518371,
     "user": {
      "displayName": "張瑜庭",
      "userId": "02186097122319016792"
     },
     "user_tz": -480
    },
    "id": "WwGE2qjgDLwt"
   },
   "outputs": [],
   "source": [
    "\n",
    "def MakePrediction(w, test_dataset, degree):\n",
    "    \"\"\"\n",
    "    Predicts the output for a given test dataset using a regression model.\n",
    "\n",
    "    Parameters:\n",
    "    - w (numpy.ndarray): The coefficients of the model, where each element corresponds to\n",
    "                               a coefficient for the respective power of the independent variable.\n",
    "    - test_dataset (numpy.ndarray): A 1D array containing the input values (independent variable)\n",
    "                                          for which predictions are to be made.\n",
    "\n",
    "    Returns:\n",
    "    - list/numpy.ndarray: A list or 1d array of predicted values corresponding to each input value in the test dataset.\n",
    "    \"\"\"\n",
    "    prediction = []\n",
    "\n",
    "    # TODO\n",
    "\n",
    "    # Create a matrix with polynomial features for the test dataset\n",
    "    X_poly_test = np.ones((test_dataset.shape[0], 1))  # Start with a column of ones for the intercept term\n",
    "    for d in range(1, degree + 1):\n",
    "        X_poly_test = np.hstack((X_poly_test, test_dataset ** d))  # Add x^d terms\n",
    "\n",
    "    # Compute the predictions using the model's coefficients\n",
    "    prediction = np.dot(X_poly_test, w)  # dot product of the feature matrix and the weights\n",
    "    return prediction\n"
   ]
  },
  {
   "cell_type": "markdown",
   "metadata": {
    "id": "-q4qKXbDDmG9"
   },
   "source": [
    "### Step 5: Train Model and Generate Result\n",
    "\n",
    "Use the above functions to train your model on training dataset, and predict the answer of testing dataset.\n",
    "\n",
    "Save your predicted values in `output_datalist`\n",
    "\n"
   ]
  },
  {
   "cell_type": "code",
   "execution_count": null,
   "metadata": {
    "colab": {
     "base_uri": "https://localhost:8080/"
    },
    "executionInfo": {
     "elapsed": 4,
     "status": "ok",
     "timestamp": 1727179518372,
     "user": {
      "displayName": "張瑜庭",
      "userId": "02186097122319016792"
     },
     "user_tz": -480
    },
    "id": "coo82WvZDpMq",
    "outputId": "641e084d-25dd-456e-d3f6-26654dcde22f"
   },
   "outputs": [],
   "source": [
    "# TODO\n",
    "split_ratio = 0.8  # For example, 80% for training and 20% for validation\n",
    "degree = 1         # Polynomial degree\n",
    "# (1) Split data\n",
    "training_data, validation_data = SplitData(training_datalist, split_ratio)\n",
    "\n",
    "# (2) Preprocess data\n",
    "training_data = PreprocessData(training_data)\n",
    "validation_data = PreprocessData(validation_data)\n",
    "\n",
    "# (3) Train regression model\n",
    "w, mean, std = Regression(training_data, degree)\n",
    "\n",
    "# (4) Predict validation dataset's answer, calculate MAPE comparing to the ground truth\n",
    "def MAPE(y_true, y_pred):\n",
    "    \"\"\"\n",
    "    Calculates Mean Absolute Percentage Error (MAPE) between the true and predicted values.\n",
    "\n",
    "    Parameters:\n",
    "    - y_true (numpy.ndarray): Actual values (ground truth).\n",
    "    - y_pred (numpy.ndarray): Predicted values.\n",
    "\n",
    "    Returns:\n",
    "    - float: MAPE value as a percentage.\n",
    "    \"\"\"\n",
    "\n",
    "    return np.mean(np.abs((y_true - y_pred) / y_true)) * 100\n",
    "\n",
    "X_val = validation_data[:, :1]  # All columns except the last one (features)\n",
    "X_val = (X_val - mean) / std  # Standardize features\n",
    "y_val = validation_data[:, 1]   # Last column (target)\n",
    "\n",
    "# Make predictions on validation data\n",
    "y_val_pred = MakePrediction(w, X_val, degree)\n",
    "\n",
    "# Calculate MAPE\n",
    "mape = MAPE(y_val, y_val_pred)\n",
    "print(f\"MAPE on validation data: {mape}%\")\n",
    "\n",
    "# (5) Make prediction of testing dataset and store the values in output_datalist\n",
    "\n",
    "# Standardize using training mean and std\n",
    "X_test = (testing_datalist - mean) / std\n",
    "\n",
    "# Make predictions on the standardized testing data\n",
    "output_datalist = MakePrediction(w, X_test, degree)\n"
   ]
  },
  {
   "cell_type": "markdown",
   "metadata": {
    "id": "RW3NrFmGEEiG"
   },
   "source": [
    "### *Write the Output File*\n",
    "\n",
    "Write the prediction to output csv and upload the file to Kaggle\n",
    "> Format: 'Id', 'gripForce'\n"
   ]
  },
  {
   "cell_type": "code",
   "execution_count": 203,
   "metadata": {
    "executionInfo": {
     "elapsed": 3,
     "status": "ok",
     "timestamp": 1727179518372,
     "user": {
      "displayName": "張瑜庭",
      "userId": "02186097122319016792"
     },
     "user_tz": -480
    },
    "id": "Mo7rdhx0EFLn"
   },
   "outputs": [],
   "source": [
    "# Assume that output_datalist is a list (or 1d array) with length = 100\n",
    "\n",
    "with open(output_dataroot, 'w', newline='', encoding=\"utf-8\") as csvfile:\n",
    "  writer = csv.writer(csvfile)\n",
    "  writer.writerow(['Id', 'gripForce'])\n",
    "  for i in range(len(output_datalist)):\n",
    "    writer.writerow([i,output_datalist[i]])\n"
   ]
  },
  {
   "cell_type": "markdown",
   "metadata": {
    "id": "V1O2l8d2E3he"
   },
   "source": [
    "# 2. Advanced Part (45%)\n",
    "In the second part, you need to implement regression differently from the basic part to improve your grip force predictions. You must use more than two features.\n",
    "\n",
    "You can choose either matrix inversion or gradient descent for this part\n",
    "\n",
    "We have provided `lab1_advanced_training.csv` for your training\n",
    "\n",
    "> Notice: Be cautious of the \"gender\" attribute, as it is represented by \"F\"/\"M\" rather than a numerical value.\n",
    "\n",
    "Please save the prediction result in a CSV file and submit it to Kaggle"
   ]
  },
  {
   "cell_type": "code",
   "execution_count": 203,
   "metadata": {
    "executionInfo": {
     "elapsed": 3,
     "status": "ok",
     "timestamp": 1727179518372,
     "user": {
      "displayName": "張瑜庭",
      "userId": "02186097122319016792"
     },
     "user_tz": -480
    },
    "id": "K6hluh7UMB9C"
   },
   "outputs": [],
   "source": []
  },
  {
   "cell_type": "code",
   "execution_count": 204,
   "metadata": {
    "executionInfo": {
     "elapsed": 3,
     "status": "ok",
     "timestamp": 1727179518372,
     "user": {
      "displayName": "張瑜庭",
      "userId": "02186097122319016792"
     },
     "user_tz": -480
    },
    "id": "Us1kieIvcucL"
   },
   "outputs": [],
   "source": [
    "training_dataroot = 'lab1_advanced_training.csv' # Training data file file named as 'lab1_advanced_training.csv'\n",
    "testing_dataroot = 'lab1_advanced_testing.csv'   # Testing data file named as 'lab1_advanced_testing.csv'\n",
    "output_dataroot = 'lab1_advanced.csv' # Output file will be named as 'lab1_advanced.csv'\n",
    "\n",
    "training_datalist =  [] # Training datalist, saved as numpy array\n",
    "testing_datalist =  [] # Testing datalist, saved as numpy array\n",
    "\n",
    "output_datalist =  [] # Your prediction, should be a list with 3000 elements"
   ]
  },
  {
   "cell_type": "code",
   "execution_count": 205,
   "metadata": {
    "executionInfo": {
     "elapsed": 3,
     "status": "ok",
     "timestamp": 1727179518372,
     "user": {
      "displayName": "張瑜庭",
      "userId": "02186097122319016792"
     },
     "user_tz": -480
    },
    "id": "zAmzFZM-dCkG"
   },
   "outputs": [],
   "source": [
    "# Read input csv to datalist\n",
    "with open(training_dataroot, newline='') as csvfile:\n",
    "  training_datalist = pd.read_csv(training_dataroot).to_numpy()\n",
    "\n",
    "with open(testing_dataroot, newline='') as csvfile:\n",
    "  testing_datalist = pd.read_csv(testing_dataroot).to_numpy()"
   ]
  },
  {
   "cell_type": "code",
   "execution_count": null,
   "metadata": {
    "colab": {
     "base_uri": "https://localhost:8080/"
    },
    "executionInfo": {
     "elapsed": 8503,
     "status": "ok",
     "timestamp": 1727179526872,
     "user": {
      "displayName": "張瑜庭",
      "userId": "02186097122319016792"
     },
     "user_tz": -480
    },
    "id": "NSMzOXFAo2P0",
    "outputId": "1b794865-0f1e-4108-fd61-2fe62973556f"
   },
   "outputs": [],
   "source": [
    "# TODO\n",
    "split_ratio = 0.8  # For example, 80% for training and 20% for validation\n",
    "degree = 2         # Polynomial degree\n",
    "# (1) Split data\n",
    "training_data, validation_data = SplitData(training_datalist, split_ratio)\n",
    "\n",
    "# (2) Preprocess data\n",
    "mapping = {'F': 1, 'M': 2}\n",
    "\n",
    "# Transform gender values\n",
    "gender_column = training_data[:, 1]  # Extract the gender column\n",
    "# Apply mapping: map 'F' to 1, 'M' to 2, and leave np.nan unchanged\n",
    "gender_column_mapped = np.where(gender_column == 'F', 1, np.where(gender_column == 'M', 2, gender_column))\n",
    "training_data[:, 1] = gender_column_mapped  # Update the dataset with mapped values\n",
    "\n",
    "# Transform gender values\n",
    "gender_column = validation_data[:, 1]  # Extract the gender column\n",
    "# Apply mapping: map 'F' to 1, 'M' to 2, and leave np.nan unchanged\n",
    "gender_column_mapped = np.where(gender_column == 'F', 1, np.where(gender_column == 'M', 2, gender_column))\n",
    "validation_data[:, 1] = gender_column_mapped  # Update the dataset with mapped values\n",
    "\n",
    "training_data = PreprocessData(training_data)\n",
    "validation_data = PreprocessData(validation_data)\n",
    "\n",
    "# (3) Train regression model\n",
    "w, mean, std = Regression(training_data, degree)\n",
    "\n",
    "# (4) Predict validation dataset's answer, calculate MAPE comparing to the ground truth\n",
    "def MAPE(y_true, y_pred):\n",
    "    \"\"\"\n",
    "    Calculates Mean Absolute Percentage Error (MAPE) between the true and predicted values.\n",
    "\n",
    "    Parameters:\n",
    "    - y_true (numpy.ndarray): Actual values (ground truth).\n",
    "    - y_pred (numpy.ndarray): Predicted values.\n",
    "\n",
    "    Returns:\n",
    "    - float: MAPE value as a percentage.\n",
    "    \"\"\"\n",
    "\n",
    "    return np.mean(np.abs((y_true - y_pred) / y_true)) * 100\n",
    "\n",
    "# (4) Predict validation dataset's answer, calculate MAPE comparing to the ground truth\n",
    "X_val = validation_data[:, :-1]  # All columns except the last one (features)\n",
    "X_val = (X_val - mean) / std  # Standardize features\n",
    "y_val = validation_data[:, -1]   # Last column (target)\n",
    "\n",
    "# Make predictions on validation data\n",
    "y_val_pred = MakePrediction(w, X_val, degree)\n",
    "\n",
    "# Calculate MAPE\n",
    "mape = MAPE(y_val, y_val_pred)\n",
    "print(f\"MAPE on validation data: {mape}%\")\n",
    "\n",
    "# (5) Make prediction of testing dataset and store the values in output_datalist\n",
    "\n",
    "# Transform gender values\n",
    "gender_column = testing_datalist[:, 1]  # Extract the gender column\n",
    "# Apply mapping: map 'F' to 1, 'M' to 2, and leave np.nan unchanged\n",
    "gender_column_mapped = np.where(gender_column == 'F', 1, np.where(gender_column == 'M', 2, gender_column))\n",
    "testing_datalist[:, 1] = gender_column_mapped  # Update the dataset with mapped values\n",
    "\n",
    "# Standardize using training mean and std\n",
    "X_test = (testing_datalist - mean) / std\n",
    "\n",
    "# Make predictions on the standardized testing data\n",
    "output_datalist = MakePrediction(w, X_test, degree)"
   ]
  },
  {
   "cell_type": "markdown",
   "metadata": {
    "id": "uVz38ASe-gGV"
   },
   "source": [
    "# Save the Code File\n",
    "Please save your code and submit it as an ipynb file! (**Lab1.ipynb**)"
   ]
  },
  {
   "cell_type": "code",
   "execution_count": 206,
   "metadata": {
    "executionInfo": {
     "elapsed": 2,
     "status": "ok",
     "timestamp": 1727179526872,
     "user": {
      "displayName": "張瑜庭",
      "userId": "02186097122319016792"
     },
     "user_tz": -480
    },
    "id": "d3Nzz4PijHP-"
   },
   "outputs": [],
   "source": []
  }
 ],
 "metadata": {
  "colab": {
   "provenance": []
  },
  "kernelspec": {
   "display_name": "Python 3",
   "name": "python3"
  },
  "language_info": {
   "codemirror_mode": {
    "name": "ipython",
    "version": 3
   },
   "file_extension": ".py",
   "mimetype": "text/x-python",
   "name": "python",
   "nbconvert_exporter": "python",
   "pygments_lexer": "ipython3",
   "version": "3.11.9"
  }
 },
 "nbformat": 4,
 "nbformat_minor": 0
}
